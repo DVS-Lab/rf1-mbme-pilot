{
 "cells": [
  {
   "cell_type": "code",
   "execution_count": 1,
   "id": "ef6a02c5",
   "metadata": {},
   "outputs": [
    {
     "name": "stderr",
     "output_type": "stream",
     "text": [
      "/opt/anaconda3/lib/python3.9/site-packages/nilearn/input_data/__init__.py:27: FutureWarning: The import path 'nilearn.input_data' is deprecated in version 0.9. Importing from 'nilearn.input_data' will be possible at least until release 0.13.0. Please import from 'nilearn.maskers' instead.\n",
      "  warnings.warn(message, FutureWarning)\n"
     ]
    }
   ],
   "source": [
    "import os\n",
    "import re\n",
    "import pandas as pd\n",
    "import nilearn as nl\n",
    "import numpy as np\n",
    "import seaborn as sns\n",
    "from nilearn.input_data import NiftiMasker\n",
    "from nilearn.image.image import mean_img\n",
    "from nilearn import plotting, image\n",
    "from nilearn.plotting import view_img\n",
    "import warnings\n",
    "warnings.filterwarnings(\"ignore\")\n",
    "from nilearn.image import math_img\n",
    "import time\n",
    "import multiprocessing\n",
    "from tqdm import tqdm\n",
    "import json\n",
    "\n",
    "import matplotlib.pyplot as plt\n",
    "plt.rcParams['svg.fonttype'] = 'none'\n"
   ]
  },
  {
   "cell_type": "code",
   "execution_count": 3,
   "id": "2f66715e",
   "metadata": {},
   "outputs": [
    {
     "name": "stdout",
     "output_type": "stream",
     "text": [
      "We collected and downloaded data from 43 subjects\n",
      " There are 32 number of subjects who passed the exclusion criteria.\n",
      " 19 Were collected using a 64 channel headcoil and 13 with a 20 channel headcoil\n"
     ]
    }
   ],
   "source": [
    "project_dir='/data/projects/rf1-mbme-pilot'\n",
    "subs=pd.read_csv('../derivatives/exclusions.csv')\n",
    "print(\"We collected and downloaded data from %s subjects\"%(len(subs['sub'].unique())))\n",
    "GoodSubs=subs.groupby(by='sub').sum()\n",
    "#print(GoodSubs.columns)\n",
    "GoodSubs=GoodSubs[\n",
    "    (GoodSubs['FD_exclusion']<=2)&(\n",
    "        GoodSubs['ABS_exclusion']<=1)&(\n",
    "        GoodSubs['Beh_TrialExclusion']<=2)].reset_index()\n",
    "subs=subs[subs['sub'].isin(GoodSubs['sub'].values)].sort_values(by='sub')\n",
    "subs.reset_index(inplace=True)\n",
    "\n",
    "HC=[]\n",
    "for index, row in subs.iterrows():\n",
    "    if row['acq'] in ['mb1me4','mb3me4','mb6me4']:\n",
    "        fname='%s/bids/%s/func/%s_task-sharedreward_acq-%s_echo-1_bold.json'%(project_dir,row['sub'],row['sub'],row['acq'])\n",
    "    else:\n",
    "        fname='%s/bids/%s/func/%s_task-sharedreward_acq-%s_bold.json'%(project_dir,row['sub'],row['sub'],row['acq'])\n",
    "    #print(fname)\n",
    "    f = open(fname)\n",
    "    data = json.load(f)\n",
    "    HC.append(data['ReceiveCoilName'])\n",
    "    f.close()\n",
    "subs['HeadCoil']=HC\n",
    "subs['MB'] =  [int(re.search('mb(.*)me',str(x)).group(1)) for x in subs['acq']]\n",
    "subs['ME'] =  [int(re.search('me(.*)',str(x)).group(1)) for x in subs['acq']]\n",
    "\n",
    "print(\" There are %s number of subjects who passed the exclusion criteria.\"%(len(subs['sub'].unique())))\n",
    "print(\" %s Were collected using a 64 channel headcoil and %s with a 20 channel headcoil\"%(len(subs[subs['HeadCoil']=='HeadNeck_64']['sub'].unique()),\n",
    "                                                                                          len(subs[subs['HeadCoil']=='HeadNeck_20']['sub'].unique())))\n",
    "  "
   ]
  },
  {
   "cell_type": "markdown",
   "id": "72331090",
   "metadata": {},
   "source": [
    "# Count Subjects with full L1 output"
   ]
  },
  {
   "cell_type": "code",
   "execution_count": 4,
   "id": "5893abeb",
   "metadata": {},
   "outputs": [
    {
     "data": {
      "text/html": [
       "<div>\n",
       "<style scoped>\n",
       "    .dataframe tbody tr th:only-of-type {\n",
       "        vertical-align: middle;\n",
       "    }\n",
       "\n",
       "    .dataframe tbody tr th {\n",
       "        vertical-align: top;\n",
       "    }\n",
       "\n",
       "    .dataframe thead th {\n",
       "        text-align: right;\n",
       "    }\n",
       "</style>\n",
       "<table border=\"1\" class=\"dataframe\">\n",
       "  <thead>\n",
       "    <tr style=\"text-align: right;\">\n",
       "      <th></th>\n",
       "      <th>index</th>\n",
       "      <th>sub</th>\n",
       "      <th>acq</th>\n",
       "      <th>TrialCount_misses</th>\n",
       "      <th>Max_Abs_motion</th>\n",
       "      <th>FD_mean</th>\n",
       "      <th>FD_exclusion</th>\n",
       "      <th>ABS_exclusion</th>\n",
       "      <th>Beh_TrialExclusion</th>\n",
       "      <th>HeadCoil</th>\n",
       "      <th>MB</th>\n",
       "      <th>ME</th>\n",
       "      <th>L1act</th>\n",
       "      <th>L1ppi</th>\n",
       "      <th>L2ppi</th>\n",
       "    </tr>\n",
       "  </thead>\n",
       "  <tbody>\n",
       "    <tr>\n",
       "      <th>102</th>\n",
       "      <td>249</td>\n",
       "      <td>sub-10185</td>\n",
       "      <td>mb6me1</td>\n",
       "      <td>2</td>\n",
       "      <td>0.777281</td>\n",
       "      <td>0.109853</td>\n",
       "      <td>False</td>\n",
       "      <td>False</td>\n",
       "      <td>False</td>\n",
       "      <td>HeadNeck_20</td>\n",
       "      <td>6</td>\n",
       "      <td>1</td>\n",
       "      <td>True</td>\n",
       "      <td>True</td>\n",
       "      <td>False</td>\n",
       "    </tr>\n",
       "    <tr>\n",
       "      <th>103</th>\n",
       "      <td>248</td>\n",
       "      <td>sub-10185</td>\n",
       "      <td>mb1me4</td>\n",
       "      <td>0</td>\n",
       "      <td>0.445697</td>\n",
       "      <td>0.061965</td>\n",
       "      <td>False</td>\n",
       "      <td>False</td>\n",
       "      <td>False</td>\n",
       "      <td>HeadNeck_20</td>\n",
       "      <td>1</td>\n",
       "      <td>4</td>\n",
       "      <td>True</td>\n",
       "      <td>True</td>\n",
       "      <td>False</td>\n",
       "    </tr>\n",
       "    <tr>\n",
       "      <th>104</th>\n",
       "      <td>247</td>\n",
       "      <td>sub-10185</td>\n",
       "      <td>mb6me4</td>\n",
       "      <td>2</td>\n",
       "      <td>0.474361</td>\n",
       "      <td>0.077345</td>\n",
       "      <td>False</td>\n",
       "      <td>False</td>\n",
       "      <td>False</td>\n",
       "      <td>HeadNeck_20</td>\n",
       "      <td>6</td>\n",
       "      <td>4</td>\n",
       "      <td>False</td>\n",
       "      <td>False</td>\n",
       "      <td>False</td>\n",
       "    </tr>\n",
       "    <tr>\n",
       "      <th>105</th>\n",
       "      <td>246</td>\n",
       "      <td>sub-10185</td>\n",
       "      <td>mb3me1</td>\n",
       "      <td>0</td>\n",
       "      <td>1.528850</td>\n",
       "      <td>0.128609</td>\n",
       "      <td>False</td>\n",
       "      <td>True</td>\n",
       "      <td>False</td>\n",
       "      <td>HeadNeck_20</td>\n",
       "      <td>3</td>\n",
       "      <td>1</td>\n",
       "      <td>True</td>\n",
       "      <td>True</td>\n",
       "      <td>False</td>\n",
       "    </tr>\n",
       "    <tr>\n",
       "      <th>106</th>\n",
       "      <td>245</td>\n",
       "      <td>sub-10185</td>\n",
       "      <td>mb3me4</td>\n",
       "      <td>1</td>\n",
       "      <td>0.624076</td>\n",
       "      <td>0.079947</td>\n",
       "      <td>False</td>\n",
       "      <td>False</td>\n",
       "      <td>False</td>\n",
       "      <td>HeadNeck_20</td>\n",
       "      <td>3</td>\n",
       "      <td>4</td>\n",
       "      <td>True</td>\n",
       "      <td>True</td>\n",
       "      <td>False</td>\n",
       "    </tr>\n",
       "  </tbody>\n",
       "</table>\n",
       "</div>"
      ],
      "text/plain": [
       "     index        sub     acq  TrialCount_misses  Max_Abs_motion   FD_mean  \\\n",
       "102    249  sub-10185  mb6me1                  2        0.777281  0.109853   \n",
       "103    248  sub-10185  mb1me4                  0        0.445697  0.061965   \n",
       "104    247  sub-10185  mb6me4                  2        0.474361  0.077345   \n",
       "105    246  sub-10185  mb3me1                  0        1.528850  0.128609   \n",
       "106    245  sub-10185  mb3me4                  1        0.624076  0.079947   \n",
       "\n",
       "     FD_exclusion  ABS_exclusion  Beh_TrialExclusion     HeadCoil  MB  ME  \\\n",
       "102         False          False               False  HeadNeck_20   6   1   \n",
       "103         False          False               False  HeadNeck_20   1   4   \n",
       "104         False          False               False  HeadNeck_20   6   4   \n",
       "105         False           True               False  HeadNeck_20   3   1   \n",
       "106         False          False               False  HeadNeck_20   3   4   \n",
       "\n",
       "     L1act  L1ppi  L2ppi  \n",
       "102   True   True  False  \n",
       "103   True   True  False  \n",
       "104  False  False  False  \n",
       "105   True   True  False  \n",
       "106   True   True  False  "
      ]
     },
     "execution_count": 4,
     "metadata": {},
     "output_type": "execute_result"
    }
   ],
   "source": [
    "act=[]\n",
    "ppi=[]\n",
    "L2ppi=[]\n",
    "for index,row in subs.iterrows():\n",
    "    sub=row['sub']\n",
    "    acq=row['acq']\n",
    "    act.append(os.path.exists(\n",
    "        project_dir+'/derivatives/fsl/%s/L1_task-sharedreward_model-1_type-act_acq-%s_sm-4.feat/stats/zstat11.nii.gz'%(sub,acq)))\n",
    "    ppi.append(os.path.exists(\n",
    "        project_dir+'/derivatives/fsl/%s/L1_task-sharedreward_model-1_type-ppi_seed-VS_thr5_acq-%s_sm-4.feat/stats/zstat11.nii.gz'%(sub,acq)))\n",
    "    L2ppi.append(os.path.exists(\n",
    "        project_dir+'/derivatives/fsl/%s/L2_task-sharedreward_model-1_type-ppi_seed-VS_thr5_sm-4.gfeat/cope10.feat/stats/cope1.nii.gz'%(sub)))\n",
    "\n",
    "subs['L1act']=act\n",
    "subs['L1ppi']=ppi\n",
    "subs['L2ppi']=L2ppi\n",
    "#display(subs)\n",
    "subs[subs['L2ppi']==False].head()"
   ]
  },
  {
   "cell_type": "code",
   "execution_count": 5,
   "id": "32e415a6",
   "metadata": {},
   "outputs": [
    {
     "name": "stdout",
     "output_type": "stream",
     "text": [
      "VS\n"
     ]
    },
    {
     "data": {
      "image/png": "[encoded data removed]",
      "text/plain": [
       "<Figure size 660x260 with 4 Axes>"
      ]
     },
     "metadata": {},
     "output_type": "display_data"
    },
    {
     "name": "stdout",
     "output_type": "stream",
     "text": [
      "RVS\n"
     ]
    },
    {
     "data": {
      "image/png": "[encoded data removed]",
      "text/plain": [
       "<Figure size 660x260 with 4 Axes>"
      ]
     },
     "metadata": {},
     "output_type": "display_data"
    },
    {
     "name": "stdout",
     "output_type": "stream",
     "text": [
      "LVS\n"
     ]
    },
    {
     "data": {
      "image/png": "[encoded data removed]",
      "text/plain": [
       "<Figure size 660x260 with 4 Axes>"
      ]
     },
     "metadata": {},
     "output_type": "display_data"
    },
    {
     "name": "stdout",
     "output_type": "stream",
     "text": [
      "vmPFC\n"
     ]
    },
    {
     "data": {
      "image/png": "[encoded data removed]",
      "text/plain": [
       "<Figure size 660x260 with 4 Axes>"
      ]
     },
     "metadata": {},
     "output_type": "display_data"
    },
    {
     "name": "stdout",
     "output_type": "stream",
     "text": [
      "FFA\n"
     ]
    },
    {
     "data": {
      "image/png": "[encoded data removed]",
      "text/plain": [
       "<Figure size 660x260 with 4 Axes>"
      ]
     },
     "metadata": {},
     "output_type": "display_data"
    },
    {
     "name": "stdout",
     "output_type": "stream",
     "text": [
      "sCerb\n"
     ]
    },
    {
     "data": {
      "image/png": "[encoded data removed]",
      "text/plain": [
       "<Figure size 660x260 with 4 Axes>"
      ]
     },
     "metadata": {},
     "output_type": "display_data"
    },
    {
     "name": "stdout",
     "output_type": "stream",
     "text": [
      "iCerb\n"
     ]
    },
    {
     "data": {
      "image/png": "[encoded data removed]",
      "text/plain": [
       "<Figure size 660x260 with 4 Axes>"
      ]
     },
     "metadata": {},
     "output_type": "display_data"
    },
    {
     "name": "stdout",
     "output_type": "stream",
     "text": [
      "Motor\n"
     ]
    },
    {
     "data": {
      "image/png": "[encoded data removed]",
      "text/plain": [
       "<Figure size 660x260 with 4 Axes>"
      ]
     },
     "metadata": {},
     "output_type": "display_data"
    }
   ],
   "source": [
    "from nilearn import  image\n",
    "#Striatum Mask\n",
    "if 1==1:\n",
    "    VS_mask='../masks/ROI-VS_cname-prereg.nii.gz'\n",
    "    rstr_mask='../masks/fROI-RVS_cname-RewVsPun_zstat-1.nii.gz'\n",
    "    lstr_mask='../masks/fROI-LVS_cname-RewVsPun_zstat-1.nii.gz'\n",
    "    pfc_mask='../masks/fROI-vmPFC_cname-RewVsPun_zstat-1.nii.gz'\n",
    "    FFA_mask='../masks/fROI-FFA_cname-StrVsComp_zstat-1.nii.gz'\n",
    "    sCerb_mask='../masks/fROI-sCerb_cname-LeftVsRight_zstat-1.nii.gz'\n",
    "    iCerb_mask='../masks/fROI-iCerb_cname-LeftVsRight_zstat-1.nii.gz'\n",
    "    motor_mask='../masks/fROI-Motor_cname-LeftVsRight_zstat-1.nii.gz'\n",
    "    mask_list=[VS_mask,rstr_mask,lstr_mask,pfc_mask,FFA_mask,sCerb_mask,iCerb_mask,motor_mask]\n",
    "    \n",
    "    for mask in mask_list:\n",
    "        str_mask=NiftiMasker(mask_img=mask)\n",
    "        mask_name=re.search('ROI-(.*)_cname',mask).group(1)\n",
    "        print(mask_name)\n",
    "        plotting.plot_roi(mask,draw_cross=False)\n",
    "        plt.savefig(\"../derivatives/figures/mask_%s.svg\"%(mask_name))\n",
    "        plt.show()"
   ]
  },
  {
   "cell_type": "markdown",
   "id": "feb58bad",
   "metadata": {},
   "source": [
    "# VS- Reward Activiation"
   ]
  },
  {
   "cell_type": "code",
   "execution_count": 17,
   "id": "2be78832",
   "metadata": {},
   "outputs": [
    {
     "name": "stderr",
     "output_type": "stream",
     "text": [
      "100%|███████████████████████████████████████| 190/190 [02:42<00:00,  1.17it/s]\n"
     ]
    }
   ],
   "source": [
    "masker= NiftiMasker(mask_img=VS_mask)\n",
    "                   \n",
    "copes=[]\n",
    "zstats=[]\n",
    "varcopes=[]\n",
    "for index,row in tqdm(subs.iterrows(),total=subs.shape[0]):\n",
    "    sub=row['sub']\n",
    "    aqc=row['acq']\n",
    "    cope='../derivatives/fsl/%s/L1_task-sharedreward_model-1_type-act_acq-%s_sm-4.feat/stats/cope16.nii.gz'%(sub,aqc)\n",
    "    zstat='../derivatives/fsl/%s/L1_task-sharedreward_model-1_type-act_acq-%s_sm-4.feat/stats/zstat16.nii.gz'%(sub,aqc)\n",
    "    varcope='../derivatives/fsl/%s/L1_task-sharedreward_model-1_type-act_acq-%s_sm-4.feat/stats/varcope16.nii.gz'%(sub,aqc)\n",
    "    \n",
    "    if os.path.exists(cope):\n",
    "        #Extracting VS Reward cope,zstat, and varcope\n",
    "        x=masker.fit_transform(cope)\n",
    "        copes.append(np.mean(x.flatten()))\n",
    "\n",
    "        x=masker.fit_transform(zstat)\n",
    "        zstats.append(np.mean(x.flatten()))\n",
    "\n",
    "        x=masker.fit_transform(varcope)\n",
    "        varcopes.append(np.mean(x.flatten()))\n",
    "    else:\n",
    "        copes.append(np.nan)\n",
    "        zstats.append(np.nan)\n",
    "        varcopes.append(np.nan)\n",
    "        \n",
    "subs = subs.assign(VS_Reward_cope=copes,\n",
    "               VS_Reward_zstats=zstats,\n",
    "               VS_Reward_varcope=varcopes)"
   ]
  },
  {
   "cell_type": "markdown",
   "id": "c78842c2",
   "metadata": {},
   "source": [
    "# Display Reward Activation by Acquisition"
   ]
  },
  {
   "cell_type": "code",
   "execution_count": 18,
   "id": "c0fc6c62",
   "metadata": {},
   "outputs": [
    {
     "name": "stdout",
     "output_type": "stream",
     "text": [
      "HeadNeck_64\n",
      "z-stat\n"
     ]
    },
    {
     "name": "stderr",
     "output_type": "stream",
     "text": [
      "/opt/anaconda3/lib/python3.9/site-packages/statsmodels/regression/mixed_linear_model.py:2237: ConvergenceWarning: The MLE may be on the boundary of the parameter space.\n",
      "  warnings.warn(msg, ConvergenceWarning)\n"
     ]
    },
    {
     "data": {
      "text/html": [
       "<table class=\"simpletable\">\n",
       "<tr>\n",
       "       <td>Model:</td>       <td>MixedLM</td> <td>Dependent Variable:</td> <td>VS_Reward_zstats</td>\n",
       "</tr>\n",
       "<tr>\n",
       "  <td>No. Observations:</td>   <td>114</td>         <td>Method:</td>             <td>REML</td>      \n",
       "</tr>\n",
       "<tr>\n",
       "     <td>No. Groups:</td>      <td>19</td>          <td>Scale:</td>             <td>0.1818</td>     \n",
       "</tr>\n",
       "<tr>\n",
       "  <td>Min. group size:</td>     <td>6</td>      <td>Log-Likelihood:</td>       <td>-75.9000</td>    \n",
       "</tr>\n",
       "<tr>\n",
       "  <td>Max. group size:</td>     <td>6</td>        <td>Converged:</td>             <td>Yes</td>      \n",
       "</tr>\n",
       "<tr>\n",
       "  <td>Mean group size:</td>    <td>6.0</td>            <td></td>                   <td></td>        \n",
       "</tr>\n",
       "</table>\n",
       "<table class=\"simpletable\">\n",
       "<tr>\n",
       "      <td></td>       <th>Coef.</th> <th>Std.Err.</th>    <th>z</th>   <th>P>|z|</th> <th>[0.025</th> <th>0.975]</th>\n",
       "</tr>\n",
       "<tr>\n",
       "  <th>Intercept</th>  <td>0.145</td>   <td>0.149</td>   <td>0.970</td> <td>0.332</td> <td>-0.148</td>  <td>0.437</td>\n",
       "</tr>\n",
       "<tr>\n",
       "  <th>MB</th>        <td>-0.011</td>   <td>0.038</td>  <td>-0.300</td> <td>0.765</td> <td>-0.085</td>  <td>0.063</td>\n",
       "</tr>\n",
       "<tr>\n",
       "  <th>ME</th>        <td>-0.016</td>   <td>0.051</td>  <td>-0.314</td> <td>0.753</td> <td>-0.115</td>  <td>0.083</td>\n",
       "</tr>\n",
       "<tr>\n",
       "  <th>MB:ME</th>      <td>0.000</td>   <td>0.013</td>   <td>0.038</td> <td>0.970</td> <td>-0.025</td>  <td>0.026</td>\n",
       "</tr>\n",
       "<tr>\n",
       "  <th>Group Var</th>  <td>0.007</td>   <td>0.032</td>     <td></td>      <td></td>       <td></td>       <td></td>   \n",
       "</tr>\n",
       "</table>"
      ],
      "text/plain": [
       "<class 'statsmodels.iolib.summary2.Summary'>\n",
       "\"\"\"\n",
       "            Mixed Linear Model Regression Results\n",
       "==============================================================\n",
       "Model:            MixedLM Dependent Variable: VS_Reward_zstats\n",
       "No. Observations: 114     Method:             REML            \n",
       "No. Groups:       19      Scale:              0.1818          \n",
       "Min. group size:  6       Log-Likelihood:     -75.9000        \n",
       "Max. group size:  6       Converged:          Yes             \n",
       "Mean group size:  6.0                                         \n",
       "----------------------------------------------------------------\n",
       "            Coef.    Std.Err.     z      P>|z|   [0.025   0.975]\n",
       "----------------------------------------------------------------\n",
       "Intercept    0.145      0.149    0.970   0.332   -0.148    0.437\n",
       "MB          -0.011      0.038   -0.300   0.765   -0.085    0.063\n",
       "ME          -0.016      0.051   -0.314   0.753   -0.115    0.083\n",
       "MB:ME        0.000      0.013    0.038   0.970   -0.025    0.026\n",
       "Group Var    0.007      0.032                                   \n",
       "==============================================================\n",
       "\n",
       "\"\"\""
      ]
     },
     "metadata": {},
     "output_type": "display_data"
    },
    {
     "name": "stdout",
     "output_type": "stream",
     "text": [
      "beta\n"
     ]
    },
    {
     "data": {
      "text/html": [
       "<table class=\"simpletable\">\n",
       "<tr>\n",
       "       <td>Model:</td>       <td>MixedLM</td> <td>Dependent Variable:</td> <td>VS_Reward_cope</td>\n",
       "</tr>\n",
       "<tr>\n",
       "  <td>No. Observations:</td>   <td>114</td>         <td>Method:</td>            <td>REML</td>     \n",
       "</tr>\n",
       "<tr>\n",
       "     <td>No. Groups:</td>      <td>19</td>          <td>Scale:</td>          <td>30274.7246</td>  \n",
       "</tr>\n",
       "<tr>\n",
       "  <td>Min. group size:</td>     <td>6</td>      <td>Log-Likelihood:</td>      <td>-738.4308</td>  \n",
       "</tr>\n",
       "<tr>\n",
       "  <td>Max. group size:</td>     <td>6</td>        <td>Converged:</td>            <td>Yes</td>     \n",
       "</tr>\n",
       "<tr>\n",
       "  <td>Mean group size:</td>    <td>6.0</td>            <td></td>                  <td></td>       \n",
       "</tr>\n",
       "</table>\n",
       "<table class=\"simpletable\">\n",
       "<tr>\n",
       "      <td></td>        <th>Coef.</th>  <th>Std.Err.</th>    <th>z</th>   <th>P>|z|</th> <th>[0.025</th>  <th>0.975]</th> \n",
       "</tr>\n",
       "<tr>\n",
       "  <th>Intercept</th>  <td>84.986</td>   <td>61.269</td>   <td>1.387</td> <td>0.165</td> <td>-35.098</td> <td>205.071</td>\n",
       "</tr>\n",
       "<tr>\n",
       "  <th>MB</th>         <td>-11.965</td>  <td>15.415</td>  <td>-0.776</td> <td>0.438</td> <td>-42.177</td> <td>18.247</td> \n",
       "</tr>\n",
       "<tr>\n",
       "  <th>ME</th>         <td>-6.052</td>   <td>20.704</td>  <td>-0.292</td> <td>0.770</td> <td>-46.630</td> <td>34.527</td> \n",
       "</tr>\n",
       "<tr>\n",
       "  <th>MB:ME</th>       <td>0.650</td>    <td>5.287</td>   <td>0.123</td> <td>0.902</td> <td>-9.713</td>  <td>11.013</td> \n",
       "</tr>\n",
       "<tr>\n",
       "  <th>Group Var</th> <td>2098.712</td>  <td>14.966</td>     <td></td>      <td></td>       <td></td>        <td></td>    \n",
       "</tr>\n",
       "</table>"
      ],
      "text/plain": [
       "<class 'statsmodels.iolib.summary2.Summary'>\n",
       "\"\"\"\n",
       "           Mixed Linear Model Regression Results\n",
       "============================================================\n",
       "Model:            MixedLM Dependent Variable: VS_Reward_cope\n",
       "No. Observations: 114     Method:             REML          \n",
       "No. Groups:       19      Scale:              30274.7246    \n",
       "Min. group size:  6       Log-Likelihood:     -738.4308     \n",
       "Max. group size:  6       Converged:          Yes           \n",
       "Mean group size:  6.0                                       \n",
       "------------------------------------------------------------\n",
       "               Coef.   Std.Err.   z    P>|z|  [0.025  0.975]\n",
       "------------------------------------------------------------\n",
       "Intercept       84.986   61.269  1.387 0.165 -35.098 205.071\n",
       "MB             -11.965   15.415 -0.776 0.438 -42.177  18.247\n",
       "ME              -6.052   20.704 -0.292 0.770 -46.630  34.527\n",
       "MB:ME            0.650    5.287  0.123 0.902  -9.713  11.013\n",
       "Group Var     2098.712   14.966                             \n",
       "============================================================\n",
       "\n",
       "\"\"\""
      ]
     },
     "metadata": {},
     "output_type": "display_data"
    },
    {
     "name": "stdout",
     "output_type": "stream",
     "text": [
      "HeadNeck_20\n",
      "z-stat\n"
     ]
    },
    {
     "data": {
      "text/html": [
       "<table class=\"simpletable\">\n",
       "<tr>\n",
       "       <td>Model:</td>       <td>MixedLM</td> <td>Dependent Variable:</td> <td>VS_Reward_zstats</td>\n",
       "</tr>\n",
       "<tr>\n",
       "  <td>No. Observations:</td>   <td>69</td>          <td>Method:</td>             <td>REML</td>      \n",
       "</tr>\n",
       "<tr>\n",
       "     <td>No. Groups:</td>      <td>12</td>          <td>Scale:</td>             <td>0.1370</td>     \n",
       "</tr>\n",
       "<tr>\n",
       "  <td>Min. group size:</td>     <td>5</td>      <td>Log-Likelihood:</td>       <td>-42.0315</td>    \n",
       "</tr>\n",
       "<tr>\n",
       "  <td>Max. group size:</td>     <td>6</td>        <td>Converged:</td>             <td>Yes</td>      \n",
       "</tr>\n",
       "<tr>\n",
       "  <td>Mean group size:</td>    <td>5.8</td>            <td></td>                   <td></td>        \n",
       "</tr>\n",
       "</table>\n",
       "<table class=\"simpletable\">\n",
       "<tr>\n",
       "      <td></td>       <th>Coef.</th> <th>Std.Err.</th>    <th>z</th>   <th>P>|z|</th> <th>[0.025</th> <th>0.975]</th>\n",
       "</tr>\n",
       "<tr>\n",
       "  <th>Intercept</th> <td>-0.200</td>   <td>0.173</td>  <td>-1.159</td> <td>0.246</td> <td>-0.539</td>  <td>0.138</td>\n",
       "</tr>\n",
       "<tr>\n",
       "  <th>MB</th>         <td>0.046</td>   <td>0.042</td>   <td>1.102</td> <td>0.271</td> <td>-0.036</td>  <td>0.129</td>\n",
       "</tr>\n",
       "<tr>\n",
       "  <th>ME</th>         <td>0.052</td>   <td>0.057</td>   <td>0.913</td> <td>0.361</td> <td>-0.059</td>  <td>0.163</td>\n",
       "</tr>\n",
       "<tr>\n",
       "  <th>MB:ME</th>     <td>-0.013</td>   <td>0.015</td>  <td>-0.882</td> <td>0.378</td> <td>-0.041</td>  <td>0.016</td>\n",
       "</tr>\n",
       "<tr>\n",
       "  <th>Group Var</th>  <td>0.023</td>   <td>0.060</td>     <td></td>      <td></td>       <td></td>       <td></td>   \n",
       "</tr>\n",
       "</table>"
      ],
      "text/plain": [
       "<class 'statsmodels.iolib.summary2.Summary'>\n",
       "\"\"\"\n",
       "            Mixed Linear Model Regression Results\n",
       "==============================================================\n",
       "Model:            MixedLM Dependent Variable: VS_Reward_zstats\n",
       "No. Observations: 69      Method:             REML            \n",
       "No. Groups:       12      Scale:              0.1370          \n",
       "Min. group size:  5       Log-Likelihood:     -42.0315        \n",
       "Max. group size:  6       Converged:          Yes             \n",
       "Mean group size:  5.8                                         \n",
       "----------------------------------------------------------------\n",
       "            Coef.    Std.Err.     z      P>|z|   [0.025   0.975]\n",
       "----------------------------------------------------------------\n",
       "Intercept   -0.200      0.173   -1.159   0.246   -0.539    0.138\n",
       "MB           0.046      0.042    1.102   0.271   -0.036    0.129\n",
       "ME           0.052      0.057    0.913   0.361   -0.059    0.163\n",
       "MB:ME       -0.013      0.015   -0.882   0.378   -0.041    0.016\n",
       "Group Var    0.023      0.060                                   \n",
       "==============================================================\n",
       "\n",
       "\"\"\""
      ]
     },
     "metadata": {},
     "output_type": "display_data"
    },
    {
     "name": "stdout",
     "output_type": "stream",
     "text": [
      "beta\n"
     ]
    },
    {
     "name": "stderr",
     "output_type": "stream",
     "text": [
      "/opt/anaconda3/lib/python3.9/site-packages/statsmodels/regression/mixed_linear_model.py:2237: ConvergenceWarning: The MLE may be on the boundary of the parameter space.\n",
      "  warnings.warn(msg, ConvergenceWarning)\n"
     ]
    },
    {
     "data": {
      "text/html": [
       "<table class=\"simpletable\">\n",
       "<tr>\n",
       "       <td>Model:</td>       <td>MixedLM</td> <td>Dependent Variable:</td> <td>VS_Reward_cope</td>\n",
       "</tr>\n",
       "<tr>\n",
       "  <td>No. Observations:</td>   <td>69</td>          <td>Method:</td>            <td>REML</td>     \n",
       "</tr>\n",
       "<tr>\n",
       "     <td>No. Groups:</td>      <td>12</td>          <td>Scale:</td>          <td>47044.4818</td>  \n",
       "</tr>\n",
       "<tr>\n",
       "  <td>Min. group size:</td>     <td>5</td>      <td>Log-Likelihood:</td>      <td>-452.6119</td>  \n",
       "</tr>\n",
       "<tr>\n",
       "  <td>Max. group size:</td>     <td>6</td>        <td>Converged:</td>            <td>Yes</td>     \n",
       "</tr>\n",
       "<tr>\n",
       "  <td>Mean group size:</td>    <td>5.8</td>            <td></td>                  <td></td>       \n",
       "</tr>\n",
       "</table>\n",
       "<table class=\"simpletable\">\n",
       "<tr>\n",
       "      <td></td>       <th>Coef.</th>  <th>Std.Err.</th>    <th>z</th>   <th>P>|z|</th>  <th>[0.025</th>  <th>0.975]</th> \n",
       "</tr>\n",
       "<tr>\n",
       "  <th>Intercept</th> <td>-33.240</td>  <td>97.798</td>  <td>-0.340</td> <td>0.734</td> <td>-224.920</td> <td>158.441</td>\n",
       "</tr>\n",
       "<tr>\n",
       "  <th>MB</th>         <td>7.724</td>   <td>24.690</td>   <td>0.313</td> <td>0.754</td>  <td>-40.668</td> <td>56.116</td> \n",
       "</tr>\n",
       "<tr>\n",
       "  <th>ME</th>         <td>1.888</td>   <td>33.224</td>   <td>0.057</td> <td>0.955</td>  <td>-63.229</td> <td>67.005</td> \n",
       "</tr>\n",
       "<tr>\n",
       "  <th>MB:ME</th>     <td>-0.510</td>    <td>8.505</td>  <td>-0.060</td> <td>0.952</td>  <td>-17.180</td> <td>16.160</td> \n",
       "</tr>\n",
       "<tr>\n",
       "  <th>Group Var</th>  <td>0.000</td>   <td>21.257</td>     <td></td>      <td></td>        <td></td>        <td></td>    \n",
       "</tr>\n",
       "</table>"
      ],
      "text/plain": [
       "<class 'statsmodels.iolib.summary2.Summary'>\n",
       "\"\"\"\n",
       "           Mixed Linear Model Regression Results\n",
       "============================================================\n",
       "Model:            MixedLM Dependent Variable: VS_Reward_cope\n",
       "No. Observations: 69      Method:             REML          \n",
       "No. Groups:       12      Scale:              47044.4818    \n",
       "Min. group size:  5       Log-Likelihood:     -452.6119     \n",
       "Max. group size:  6       Converged:          Yes           \n",
       "Mean group size:  5.8                                       \n",
       "------------------------------------------------------------\n",
       "               Coef.  Std.Err.   z    P>|z|  [0.025   0.975]\n",
       "------------------------------------------------------------\n",
       "Intercept     -33.240   97.798 -0.340 0.734 -224.920 158.441\n",
       "MB              7.724   24.690  0.313 0.754  -40.668  56.116\n",
       "ME              1.888   33.224  0.057 0.955  -63.229  67.005\n",
       "MB:ME          -0.510    8.505 -0.060 0.952  -17.180  16.160\n",
       "Group Var       0.000   21.257                              \n",
       "============================================================\n",
       "\n",
       "\"\"\""
      ]
     },
     "metadata": {},
     "output_type": "display_data"
    },
    {
     "name": "stdout",
     "output_type": "stream",
     "text": [
      "Results for Zstatistics\n"
     ]
    },
    {
     "name": "stderr",
     "output_type": "stream",
     "text": [
      "/opt/anaconda3/lib/python3.9/site-packages/statsmodels/base/model.py:604: ConvergenceWarning: Maximum Likelihood optimization failed to converge. Check mle_retvals\n",
      "  warnings.warn(\"Maximum Likelihood optimization failed to \"\n",
      "/opt/anaconda3/lib/python3.9/site-packages/statsmodels/regression/mixed_linear_model.py:2200: ConvergenceWarning: Retrying MixedLM optimization with lbfgs\n",
      "  warnings.warn(\n"
     ]
    },
    {
     "data": {
      "text/html": [
       "<table class=\"simpletable\">\n",
       "<tr>\n",
       "       <td>Model:</td>       <td>MixedLM</td> <td>Dependent Variable:</td> <td>VS_Reward_zstats</td>\n",
       "</tr>\n",
       "<tr>\n",
       "  <td>No. Observations:</td>   <td>183</td>         <td>Method:</td>             <td>REML</td>      \n",
       "</tr>\n",
       "<tr>\n",
       "     <td>No. Groups:</td>      <td>31</td>          <td>Scale:</td>             <td>0.1654</td>     \n",
       "</tr>\n",
       "<tr>\n",
       "  <td>Min. group size:</td>     <td>5</td>      <td>Log-Likelihood:</td>       <td>-118.6551</td>   \n",
       "</tr>\n",
       "<tr>\n",
       "  <td>Max. group size:</td>     <td>6</td>        <td>Converged:</td>             <td>Yes</td>      \n",
       "</tr>\n",
       "<tr>\n",
       "  <td>Mean group size:</td>    <td>5.9</td>            <td></td>                   <td></td>        \n",
       "</tr>\n",
       "</table>\n",
       "<table class=\"simpletable\">\n",
       "<tr>\n",
       "                <td></td>                 <th>Coef.</th> <th>Std.Err.</th>    <th>z</th>   <th>P>|z|</th> <th>[0.025</th> <th>0.975]</th>\n",
       "</tr>\n",
       "<tr>\n",
       "  <th>Intercept</th>                     <td>-0.195</td>   <td>0.186</td>  <td>-1.045</td> <td>0.296</td> <td>-0.560</td>  <td>0.170</td>\n",
       "</tr>\n",
       "<tr>\n",
       "  <th>HeadCoil[T.HeadNeck_64]</th>        <td>0.339</td>   <td>0.235</td>   <td>1.444</td> <td>0.149</td> <td>-0.121</td>  <td>0.800</td>\n",
       "</tr>\n",
       "<tr>\n",
       "  <th>MB</th>                             <td>0.045</td>   <td>0.046</td>   <td>0.974</td> <td>0.330</td> <td>-0.046</td>  <td>0.136</td>\n",
       "</tr>\n",
       "<tr>\n",
       "  <th>MB:HeadCoil[T.HeadNeck_64]</th>    <td>-0.056</td>   <td>0.059</td>  <td>-0.961</td> <td>0.336</td> <td>-0.171</td>  <td>0.059</td>\n",
       "</tr>\n",
       "<tr>\n",
       "  <th>ME</th>                             <td>0.050</td>   <td>0.062</td>   <td>0.808</td> <td>0.419</td> <td>-0.072</td>  <td>0.172</td>\n",
       "</tr>\n",
       "<tr>\n",
       "  <th>ME:HeadCoil[T.HeadNeck_64]</th>    <td>-0.066</td>   <td>0.079</td>  <td>-0.841</td> <td>0.401</td> <td>-0.221</td>  <td>0.088</td>\n",
       "</tr>\n",
       "<tr>\n",
       "  <th>MB:ME</th>                         <td>-0.012</td>   <td>0.016</td>  <td>-0.768</td> <td>0.443</td> <td>-0.043</td>  <td>0.019</td>\n",
       "</tr>\n",
       "<tr>\n",
       "  <th>MB:ME:HeadCoil[T.HeadNeck_64]</th>  <td>0.013</td>   <td>0.020</td>   <td>0.631</td> <td>0.528</td> <td>-0.027</td>  <td>0.052</td>\n",
       "</tr>\n",
       "<tr>\n",
       "  <th>Group Var</th>                      <td>0.013</td>   <td>0.029</td>     <td></td>      <td></td>       <td></td>       <td></td>   \n",
       "</tr>\n",
       "</table>"
      ],
      "text/plain": [
       "<class 'statsmodels.iolib.summary2.Summary'>\n",
       "\"\"\"\n",
       "                 Mixed Linear Model Regression Results\n",
       "========================================================================\n",
       "Model:                MixedLM    Dependent Variable:    VS_Reward_zstats\n",
       "No. Observations:     183        Method:                REML            \n",
       "No. Groups:           31         Scale:                 0.1654          \n",
       "Min. group size:      5          Log-Likelihood:        -118.6551       \n",
       "Max. group size:      6          Converged:             Yes             \n",
       "Mean group size:      5.9                                               \n",
       "------------------------------------------------------------------------\n",
       "                              Coef.  Std.Err.   z    P>|z| [0.025 0.975]\n",
       "------------------------------------------------------------------------\n",
       "Intercept                     -0.195    0.186 -1.045 0.296 -0.560  0.170\n",
       "HeadCoil[T.HeadNeck_64]        0.339    0.235  1.444 0.149 -0.121  0.800\n",
       "MB                             0.045    0.046  0.974 0.330 -0.046  0.136\n",
       "MB:HeadCoil[T.HeadNeck_64]    -0.056    0.059 -0.961 0.336 -0.171  0.059\n",
       "ME                             0.050    0.062  0.808 0.419 -0.072  0.172\n",
       "ME:HeadCoil[T.HeadNeck_64]    -0.066    0.079 -0.841 0.401 -0.221  0.088\n",
       "MB:ME                         -0.012    0.016 -0.768 0.443 -0.043  0.019\n",
       "MB:ME:HeadCoil[T.HeadNeck_64]  0.013    0.020  0.631 0.528 -0.027  0.052\n",
       "Group Var                      0.013    0.029                           \n",
       "========================================================================\n",
       "\n",
       "\"\"\""
      ]
     },
     "metadata": {},
     "output_type": "display_data"
    },
    {
     "data": {
      "image/png": "[encoded data removed]",
      "text/plain": [
       "<Figure size 1058.88x500 with 2 Axes>"
      ]
     },
     "metadata": {},
     "output_type": "display_data"
    },
    {
     "name": "stdout",
     "output_type": "stream",
     "text": [
      "Results for Cope\n"
     ]
    },
    {
     "data": {
      "text/html": [
       "<table class=\"simpletable\">\n",
       "<tr>\n",
       "       <td>Model:</td>       <td>MixedLM</td> <td>Dependent Variable:</td> <td>VS_Reward_cope</td>\n",
       "</tr>\n",
       "<tr>\n",
       "  <td>No. Observations:</td>   <td>183</td>         <td>Method:</td>            <td>REML</td>     \n",
       "</tr>\n",
       "<tr>\n",
       "     <td>No. Groups:</td>      <td>31</td>          <td>Scale:</td>          <td>36889.3283</td>  \n",
       "</tr>\n",
       "<tr>\n",
       "  <td>Min. group size:</td>     <td>5</td>      <td>Log-Likelihood:</td>     <td>-1192.8912</td>  \n",
       "</tr>\n",
       "<tr>\n",
       "  <td>Max. group size:</td>     <td>6</td>        <td>Converged:</td>            <td>Yes</td>     \n",
       "</tr>\n",
       "<tr>\n",
       "  <td>Mean group size:</td>    <td>5.9</td>            <td></td>                  <td></td>       \n",
       "</tr>\n",
       "</table>\n",
       "<table class=\"simpletable\">\n",
       "<tr>\n",
       "                <td></td>                 <th>Coef.</th>  <th>Std.Err.</th>    <th>z</th>   <th>P>|z|</th>  <th>[0.025</th>  <th>0.975]</th> \n",
       "</tr>\n",
       "<tr>\n",
       "  <th>Intercept</th>                     <td>-34.527</td>  <td>86.998</td>  <td>-0.397</td> <td>0.691</td> <td>-205.041</td> <td>135.986</td>\n",
       "</tr>\n",
       "<tr>\n",
       "  <th>HeadCoil[T.HeadNeck_64]</th>       <td>119.514</td>  <td>109.805</td>  <td>1.088</td> <td>0.276</td>  <td>-95.700</td> <td>334.728</td>\n",
       "</tr>\n",
       "<tr>\n",
       "  <th>MB</th>                             <td>8.061</td>   <td>21.843</td>   <td>0.369</td> <td>0.712</td>  <td>-34.750</td> <td>50.873</td> \n",
       "</tr>\n",
       "<tr>\n",
       "  <th>MB:HeadCoil[T.HeadNeck_64]</th>    <td>-20.026</td>  <td>27.688</td>  <td>-0.723</td> <td>0.470</td>  <td>-74.295</td> <td>34.242</td> \n",
       "</tr>\n",
       "<tr>\n",
       "  <th>ME</th>                             <td>2.264</td>   <td>29.407</td>   <td>0.077</td> <td>0.939</td>  <td>-55.372</td> <td>59.901</td> \n",
       "</tr>\n",
       "<tr>\n",
       "  <th>ME:HeadCoil[T.HeadNeck_64]</th>    <td>-8.316</td>   <td>37.243</td>  <td>-0.223</td> <td>0.823</td>  <td>-81.311</td> <td>64.679</td> \n",
       "</tr>\n",
       "<tr>\n",
       "  <th>MB:ME</th>                         <td>-0.670</td>    <td>7.516</td>  <td>-0.089</td> <td>0.929</td>  <td>-15.401</td> <td>14.061</td> \n",
       "</tr>\n",
       "<tr>\n",
       "  <th>MB:ME:HeadCoil[T.HeadNeck_64]</th>  <td>1.320</td>    <td>9.516</td>   <td>0.139</td> <td>0.890</td>  <td>-17.331</td> <td>19.970</td> \n",
       "</tr>\n",
       "<tr>\n",
       "  <th>Group Var</th>                     <td>931.452</td>  <td>10.869</td>     <td></td>      <td></td>        <td></td>        <td></td>    \n",
       "</tr>\n",
       "</table>"
      ],
      "text/plain": [
       "<class 'statsmodels.iolib.summary2.Summary'>\n",
       "\"\"\"\n",
       "                   Mixed Linear Model Regression Results\n",
       "============================================================================\n",
       "Model:                  MixedLM      Dependent Variable:      VS_Reward_cope\n",
       "No. Observations:       183          Method:                  REML          \n",
       "No. Groups:             31           Scale:                   36889.3283    \n",
       "Min. group size:        5            Log-Likelihood:          -1192.8912    \n",
       "Max. group size:        6            Converged:               Yes           \n",
       "Mean group size:        5.9                                                 \n",
       "----------------------------------------------------------------------------\n",
       "                               Coef.  Std.Err.   z    P>|z|  [0.025   0.975]\n",
       "----------------------------------------------------------------------------\n",
       "Intercept                     -34.527   86.998 -0.397 0.691 -205.041 135.986\n",
       "HeadCoil[T.HeadNeck_64]       119.514  109.805  1.088 0.276  -95.700 334.728\n",
       "MB                              8.061   21.843  0.369 0.712  -34.750  50.873\n",
       "MB:HeadCoil[T.HeadNeck_64]    -20.026   27.688 -0.723 0.470  -74.295  34.242\n",
       "ME                              2.264   29.407  0.077 0.939  -55.372  59.901\n",
       "ME:HeadCoil[T.HeadNeck_64]     -8.316   37.243 -0.223 0.823  -81.311  64.679\n",
       "MB:ME                          -0.670    7.516 -0.089 0.929  -15.401  14.061\n",
       "MB:ME:HeadCoil[T.HeadNeck_64]   1.320    9.516  0.139 0.890  -17.331  19.970\n",
       "Group Var                     931.452   10.869                              \n",
       "============================================================================\n",
       "\n",
       "\"\"\""
      ]
     },
     "metadata": {},
     "output_type": "display_data"
    },
    {
     "data": {
      "text/plain": [
       "<Figure size 640x480 with 0 Axes>"
      ]
     },
     "metadata": {},
     "output_type": "display_data"
    },
    {
     "data": {
      "image/png": "[encoded data removed]",
      "text/plain": [
       "<Figure size 1058.88x500 with 2 Axes>"
      ]
     },
     "metadata": {},
     "output_type": "display_data"
    },
    {
     "data": {
      "text/plain": [
       "<Figure size 640x480 with 0 Axes>"
      ]
     },
     "metadata": {},
     "output_type": "display_data"
    },
    {
     "data": {
      "text/plain": [
       "<Figure size 640x480 with 0 Axes>"
      ]
     },
     "metadata": {},
     "output_type": "display_data"
    }
   ],
   "source": [
    "import statsmodels.formula.api as smf\n",
    "plt_df=subs[subs['L1act']]\n",
    "\n",
    "for HC in plt_df['HeadCoil'].unique():\n",
    "    mod_df = plt_df[plt_df['HeadCoil'] == HC]\n",
    "    print(HC)\n",
    "    print(\"z-stat\")\n",
    "    res=smf.mixedlm('VS_Reward_zstats ~ MB * ME',data=mod_df,groups=mod_df['sub']).fit()\n",
    "    display(res.summary())\n",
    "    print(\"beta\")\n",
    "    res=smf.mixedlm('VS_Reward_cope ~ MB * ME',data=mod_df,groups=mod_df['sub']).fit()\n",
    "    display(res.summary())\n",
    "    \n",
    "print(\"Results for Zstatistics\")\n",
    "res=smf.mixedlm('VS_Reward_zstats ~ MB * ME * HeadCoil',data=plt_df,groups=plt_df['sub']).fit()\n",
    "display(res.summary())\n",
    "sns.catplot(x='MB',y='VS_Reward_zstats',hue='ME',data=plt_df,kind='bar',order=[1,3,6],col='HeadCoil')\n",
    "\n",
    "plt.show()\n",
    "plt.savefig(\"../derivatives/figures/Reward_VS-act_zstat.svg\")\n",
    "\n",
    "print(\"Results for Cope\")\n",
    "res=smf.mixedlm('VS_Reward_cope ~ MB * ME * HeadCoil',data=plt_df,groups=plt_df['sub']).fit()\n",
    "display(res.summary())\n",
    "sns.catplot(x='MB',y='VS_Reward_cope',hue='ME',col='HeadCoil',\n",
    "            data=plt_df,kind='bar',order=[1,3,6])\n",
    "plt.show()\n",
    "plt.savefig(\"../derivatives/figures/Reward_VS-act_cope.svg\")\n",
    "\n",
    "\n",
    "# print(\"Results for VarCope\")\n",
    "# res=smf.mixedlm('VS_Reward_varcope ~ MB * ME * HeadCoil',data=plt_df,groups=plt_df['sub']).fit()\n",
    "# display(res.summary())\n",
    "# sns.catplot(x='MB',y='VS_Reward_varcope',hue='ME',col='HeadCoil',\n",
    "#             data=plt_df,kind='bar',order=[1,3,6])\n",
    "plt.show()\n",
    "plt.savefig(\"../derivatives/figures/Reward_VS-act_varcope.svg\")\n"
   ]
  },
  {
   "cell_type": "markdown",
   "id": "3b8819c5",
   "metadata": {},
   "source": [
    "# FFA-Face Activiation"
   ]
  },
  {
   "cell_type": "code",
   "execution_count": 13,
   "id": "91a3d584",
   "metadata": {},
   "outputs": [
    {
     "name": "stderr",
     "output_type": "stream",
     "text": [
      "100%|█████████████████████████████████████████| 190/190 [02:33<00:00,  1.24it/s]\n"
     ]
    }
   ],
   "source": [
    "masker= NiftiMasker(mask_img=FFA_mask)\n",
    "                   \n",
    "copes=[]\n",
    "zstats=[]\n",
    "varcopes=[]\n",
    "for index,row in tqdm(subs.iterrows(),total=subs.shape[0]):\n",
    "    sub=row['sub']\n",
    "    aqc=row['acq']\n",
    "    cope='../derivatives/fsl/%s/L1_task-sharedreward_model-1_type-act_acq-%s_sm-4.feat/stats/cope11.nii.gz'%(sub,aqc)\n",
    "    zstat='../derivatives/fsl/%s/L1_task-sharedreward_model-1_type-act_acq-%s_sm-4.feat/stats/zstat11.nii.gz'%(sub,aqc)\n",
    "    varcope='../derivatives/fsl/%s/L1_task-sharedreward_model-1_type-act_acq-%s_sm-4.feat/stats/varcope11.nii.gz'%(sub,aqc)\n",
    "    \n",
    "    if os.path.exists(cope):\n",
    "        #Extracting VS Reward cope,zstat, and varcope\n",
    "        x=masker.fit_transform(cope)\n",
    "        copes.append(np.mean(x.flatten()))\n",
    "\n",
    "        x=masker.fit_transform(zstat)\n",
    "        zstats.append(np.mean(x.flatten()))\n",
    "\n",
    "        x=masker.fit_transform(varcope)\n",
    "        varcopes.append(np.mean(x.flatten()))\n",
    "    else:\n",
    "        copes.append(np.nan)\n",
    "        zstats.append(np.nan)\n",
    "        varcopes.append(np.nan)\n",
    "        \n",
    "subs = subs.assign(FFA_face_cope=copes,\n",
    "               FFA_face_zstats=zstats,\n",
    "               FFA_face_varcope=varcopes)"
   ]
  },
  {
   "cell_type": "markdown",
   "id": "44abf9b5",
   "metadata": {},
   "source": [
    "# Display Face Activation by Acquisition (FFA)"
   ]
  },
  {
   "cell_type": "code",
   "execution_count": 20,
   "id": "d5dac6ce",
   "metadata": {},
   "outputs": [
    {
     "name": "stdout",
     "output_type": "stream",
     "text": [
      "HeadNeck_64\n",
      "z-stat\n"
     ]
    },
    {
     "data": {
      "text/html": [
       "<table class=\"simpletable\">\n",
       "<tr>\n",
       "       <td>Model:</td>       <td>MixedLM</td> <td>Dependent Variable:</td> <td>FFA_face_zstats</td>\n",
       "</tr>\n",
       "<tr>\n",
       "  <td>No. Observations:</td>   <td>114</td>         <td>Method:</td>            <td>REML</td>      \n",
       "</tr>\n",
       "<tr>\n",
       "     <td>No. Groups:</td>      <td>19</td>          <td>Scale:</td>            <td>0.3749</td>     \n",
       "</tr>\n",
       "<tr>\n",
       "  <td>Min. group size:</td>     <td>6</td>      <td>Log-Likelihood:</td>      <td>-125.3495</td>   \n",
       "</tr>\n",
       "<tr>\n",
       "  <td>Max. group size:</td>     <td>6</td>        <td>Converged:</td>            <td>Yes</td>      \n",
       "</tr>\n",
       "<tr>\n",
       "  <td>Mean group size:</td>    <td>6.0</td>            <td></td>                  <td></td>        \n",
       "</tr>\n",
       "</table>\n",
       "<table class=\"simpletable\">\n",
       "<tr>\n",
       "      <td></td>       <th>Coef.</th> <th>Std.Err.</th>    <th>z</th>   <th>P>|z|</th> <th>[0.025</th> <th>0.975]</th>\n",
       "</tr>\n",
       "<tr>\n",
       "  <th>Intercept</th>  <td>0.422</td>   <td>0.232</td>   <td>1.821</td> <td>0.069</td> <td>-0.032</td>  <td>0.876</td>\n",
       "</tr>\n",
       "<tr>\n",
       "  <th>MB</th>         <td>0.061</td>   <td>0.054</td>   <td>1.128</td> <td>0.259</td> <td>-0.045</td>  <td>0.168</td>\n",
       "</tr>\n",
       "<tr>\n",
       "  <th>ME</th>        <td>-0.019</td>   <td>0.073</td>  <td>-0.257</td> <td>0.797</td> <td>-0.162</td>  <td>0.124</td>\n",
       "</tr>\n",
       "<tr>\n",
       "  <th>MB:ME</th>      <td>0.010</td>   <td>0.019</td>   <td>0.525</td> <td>0.600</td> <td>-0.027</td>  <td>0.046</td>\n",
       "</tr>\n",
       "<tr>\n",
       "  <th>Group Var</th>  <td>0.162</td>   <td>0.134</td>     <td></td>      <td></td>       <td></td>       <td></td>   \n",
       "</tr>\n",
       "</table>"
      ],
      "text/plain": [
       "<class 'statsmodels.iolib.summary2.Summary'>\n",
       "\"\"\"\n",
       "            Mixed Linear Model Regression Results\n",
       "=============================================================\n",
       "Model:            MixedLM Dependent Variable: FFA_face_zstats\n",
       "No. Observations: 114     Method:             REML           \n",
       "No. Groups:       19      Scale:              0.3749         \n",
       "Min. group size:  6       Log-Likelihood:     -125.3495      \n",
       "Max. group size:  6       Converged:          Yes            \n",
       "Mean group size:  6.0                                        \n",
       "--------------------------------------------------------------\n",
       "               Coef.   Std.Err.    z     P>|z|  [0.025  0.975]\n",
       "--------------------------------------------------------------\n",
       "Intercept       0.422     0.232   1.821  0.069  -0.032   0.876\n",
       "MB              0.061     0.054   1.128  0.259  -0.045   0.168\n",
       "ME             -0.019     0.073  -0.257  0.797  -0.162   0.124\n",
       "MB:ME           0.010     0.019   0.525  0.600  -0.027   0.046\n",
       "Group Var       0.162     0.134                               \n",
       "=============================================================\n",
       "\n",
       "\"\"\""
      ]
     },
     "metadata": {},
     "output_type": "display_data"
    },
    {
     "name": "stdout",
     "output_type": "stream",
     "text": [
      "beta\n"
     ]
    },
    {
     "data": {
      "text/html": [
       "<table class=\"simpletable\">\n",
       "<tr>\n",
       "       <td>Model:</td>       <td>MixedLM</td> <td>Dependent Variable:</td> <td>FFA_face_cope</td>\n",
       "</tr>\n",
       "<tr>\n",
       "  <td>No. Observations:</td>   <td>114</td>         <td>Method:</td>           <td>REML</td>     \n",
       "</tr>\n",
       "<tr>\n",
       "     <td>No. Groups:</td>      <td>19</td>          <td>Scale:</td>         <td>37006.9791</td>  \n",
       "</tr>\n",
       "<tr>\n",
       "  <td>Min. group size:</td>     <td>6</td>      <td>Log-Likelihood:</td>     <td>-755.0197</td>  \n",
       "</tr>\n",
       "<tr>\n",
       "  <td>Max. group size:</td>     <td>6</td>        <td>Converged:</td>           <td>Yes</td>     \n",
       "</tr>\n",
       "<tr>\n",
       "  <td>Mean group size:</td>    <td>6.0</td>            <td></td>                 <td></td>       \n",
       "</tr>\n",
       "</table>\n",
       "<table class=\"simpletable\">\n",
       "<tr>\n",
       "      <td></td>        <th>Coef.</th>   <th>Std.Err.</th>    <th>z</th>   <th>P>|z|</th> <th>[0.025</th>  <th>0.975]</th> \n",
       "</tr>\n",
       "<tr>\n",
       "  <th>Intercept</th>  <td>174.046</td>   <td>70.570</td>   <td>2.466</td> <td>0.014</td> <td>35.731</td>  <td>312.360</td>\n",
       "</tr>\n",
       "<tr>\n",
       "  <th>MB</th>         <td>-9.821</td>    <td>17.043</td>  <td>-0.576</td> <td>0.564</td> <td>-43.224</td> <td>23.582</td> \n",
       "</tr>\n",
       "<tr>\n",
       "  <th>ME</th>         <td>-12.120</td>   <td>22.890</td>  <td>-0.529</td> <td>0.596</td> <td>-56.983</td> <td>32.744</td> \n",
       "</tr>\n",
       "<tr>\n",
       "  <th>MB:ME</th>       <td>5.884</td>     <td>5.846</td>   <td>1.007</td> <td>0.314</td> <td>-5.573</td>  <td>17.341</td> \n",
       "</tr>\n",
       "<tr>\n",
       "  <th>Group Var</th> <td>10004.118</td>  <td>30.641</td>     <td></td>      <td></td>       <td></td>        <td></td>    \n",
       "</tr>\n",
       "</table>"
      ],
      "text/plain": [
       "<class 'statsmodels.iolib.summary2.Summary'>\n",
       "\"\"\"\n",
       "           Mixed Linear Model Regression Results\n",
       "===========================================================\n",
       "Model:            MixedLM Dependent Variable: FFA_face_cope\n",
       "No. Observations: 114     Method:             REML         \n",
       "No. Groups:       19      Scale:              37006.9791   \n",
       "Min. group size:  6       Log-Likelihood:     -755.0197    \n",
       "Max. group size:  6       Converged:          Yes          \n",
       "Mean group size:  6.0                                      \n",
       "-----------------------------------------------------------\n",
       "              Coef.   Std.Err.   z    P>|z|  [0.025  0.975]\n",
       "-----------------------------------------------------------\n",
       "Intercept     174.046   70.570  2.466 0.014  35.731 312.360\n",
       "MB             -9.821   17.043 -0.576 0.564 -43.224  23.582\n",
       "ME            -12.120   22.890 -0.529 0.596 -56.983  32.744\n",
       "MB:ME           5.884    5.846  1.007 0.314  -5.573  17.341\n",
       "Group Var   10004.118   30.641                             \n",
       "===========================================================\n",
       "\n",
       "\"\"\""
      ]
     },
     "metadata": {},
     "output_type": "display_data"
    },
    {
     "name": "stdout",
     "output_type": "stream",
     "text": [
      "HeadNeck_20\n",
      "z-stat\n"
     ]
    },
    {
     "data": {
      "text/html": [
       "<table class=\"simpletable\">\n",
       "<tr>\n",
       "       <td>Model:</td>       <td>MixedLM</td> <td>Dependent Variable:</td> <td>FFA_face_zstats</td>\n",
       "</tr>\n",
       "<tr>\n",
       "  <td>No. Observations:</td>   <td>69</td>          <td>Method:</td>            <td>REML</td>      \n",
       "</tr>\n",
       "<tr>\n",
       "     <td>No. Groups:</td>      <td>12</td>          <td>Scale:</td>            <td>0.4195</td>     \n",
       "</tr>\n",
       "<tr>\n",
       "  <td>Min. group size:</td>     <td>5</td>      <td>Log-Likelihood:</td>      <td>-80.2430</td>    \n",
       "</tr>\n",
       "<tr>\n",
       "  <td>Max. group size:</td>     <td>6</td>        <td>Converged:</td>            <td>Yes</td>      \n",
       "</tr>\n",
       "<tr>\n",
       "  <td>Mean group size:</td>    <td>5.8</td>            <td></td>                  <td></td>        \n",
       "</tr>\n",
       "</table>\n",
       "<table class=\"simpletable\">\n",
       "<tr>\n",
       "      <td></td>       <th>Coef.</th> <th>Std.Err.</th>    <th>z</th>   <th>P>|z|</th> <th>[0.025</th> <th>0.975]</th>\n",
       "</tr>\n",
       "<tr>\n",
       "  <th>Intercept</th>  <td>0.524</td>   <td>0.310</td>   <td>1.689</td> <td>0.091</td> <td>-0.084</td>  <td>1.132</td>\n",
       "</tr>\n",
       "<tr>\n",
       "  <th>MB</th>        <td>-0.021</td>   <td>0.074</td>  <td>-0.291</td> <td>0.771</td> <td>-0.166</td>  <td>0.123</td>\n",
       "</tr>\n",
       "<tr>\n",
       "  <th>ME</th>        <td>-0.035</td>   <td>0.099</td>  <td>-0.354</td> <td>0.723</td> <td>-0.230</td>  <td>0.160</td>\n",
       "</tr>\n",
       "<tr>\n",
       "  <th>MB:ME</th>     <td>-0.001</td>   <td>0.025</td>  <td>-0.030</td> <td>0.976</td> <td>-0.050</td>  <td>0.049</td>\n",
       "</tr>\n",
       "<tr>\n",
       "  <th>Group Var</th>  <td>0.127</td>   <td>0.142</td>     <td></td>      <td></td>       <td></td>       <td></td>   \n",
       "</tr>\n",
       "</table>"
      ],
      "text/plain": [
       "<class 'statsmodels.iolib.summary2.Summary'>\n",
       "\"\"\"\n",
       "            Mixed Linear Model Regression Results\n",
       "=============================================================\n",
       "Model:            MixedLM Dependent Variable: FFA_face_zstats\n",
       "No. Observations: 69      Method:             REML           \n",
       "No. Groups:       12      Scale:              0.4195         \n",
       "Min. group size:  5       Log-Likelihood:     -80.2430       \n",
       "Max. group size:  6       Converged:          Yes            \n",
       "Mean group size:  5.8                                        \n",
       "--------------------------------------------------------------\n",
       "               Coef.   Std.Err.    z     P>|z|  [0.025  0.975]\n",
       "--------------------------------------------------------------\n",
       "Intercept       0.524     0.310   1.689  0.091  -0.084   1.132\n",
       "MB             -0.021     0.074  -0.291  0.771  -0.166   0.123\n",
       "ME             -0.035     0.099  -0.354  0.723  -0.230   0.160\n",
       "MB:ME          -0.001     0.025  -0.030  0.976  -0.050   0.049\n",
       "Group Var       0.127     0.142                               \n",
       "=============================================================\n",
       "\n",
       "\"\"\""
      ]
     },
     "metadata": {},
     "output_type": "display_data"
    },
    {
     "name": "stdout",
     "output_type": "stream",
     "text": [
      "beta\n"
     ]
    },
    {
     "data": {
      "text/html": [
       "<table class=\"simpletable\">\n",
       "<tr>\n",
       "       <td>Model:</td>       <td>MixedLM</td> <td>Dependent Variable:</td> <td>FFA_face_cope</td>\n",
       "</tr>\n",
       "<tr>\n",
       "  <td>No. Observations:</td>   <td>69</td>          <td>Method:</td>           <td>REML</td>     \n",
       "</tr>\n",
       "<tr>\n",
       "     <td>No. Groups:</td>      <td>12</td>          <td>Scale:</td>         <td>64614.9362</td>  \n",
       "</tr>\n",
       "<tr>\n",
       "  <td>Min. group size:</td>     <td>5</td>      <td>Log-Likelihood:</td>     <td>-467.8928</td>  \n",
       "</tr>\n",
       "<tr>\n",
       "  <td>Max. group size:</td>     <td>6</td>        <td>Converged:</td>           <td>Yes</td>     \n",
       "</tr>\n",
       "<tr>\n",
       "  <td>Mean group size:</td>    <td>5.8</td>            <td></td>                 <td></td>       \n",
       "</tr>\n",
       "</table>\n",
       "<table class=\"simpletable\">\n",
       "<tr>\n",
       "      <td></td>        <th>Coef.</th>   <th>Std.Err.</th>    <th>z</th>   <th>P>|z|</th> <th>[0.025</th>  <th>0.975]</th> \n",
       "</tr>\n",
       "<tr>\n",
       "  <th>Intercept</th>  <td>205.863</td>   <td>120.676</td>  <td>1.706</td> <td>0.088</td> <td>-30.657</td> <td>442.383</td>\n",
       "</tr>\n",
       "<tr>\n",
       "  <th>MB</th>         <td>-9.387</td>    <td>28.945</td>  <td>-0.324</td> <td>0.746</td> <td>-66.118</td> <td>47.344</td> \n",
       "</tr>\n",
       "<tr>\n",
       "  <th>ME</th>         <td>-13.931</td>   <td>38.990</td>  <td>-0.357</td> <td>0.721</td> <td>-90.349</td> <td>62.487</td> \n",
       "</tr>\n",
       "<tr>\n",
       "  <th>MB:ME</th>      <td>-2.280</td>     <td>9.959</td>  <td>-0.229</td> <td>0.819</td> <td>-21.800</td> <td>17.240</td> \n",
       "</tr>\n",
       "<tr>\n",
       "  <th>Group Var</th> <td>16558.795</td>  <td>50.603</td>     <td></td>      <td></td>       <td></td>        <td></td>    \n",
       "</tr>\n",
       "</table>"
      ],
      "text/plain": [
       "<class 'statsmodels.iolib.summary2.Summary'>\n",
       "\"\"\"\n",
       "           Mixed Linear Model Regression Results\n",
       "===========================================================\n",
       "Model:            MixedLM Dependent Variable: FFA_face_cope\n",
       "No. Observations: 69      Method:             REML         \n",
       "No. Groups:       12      Scale:              64614.9362   \n",
       "Min. group size:  5       Log-Likelihood:     -467.8928    \n",
       "Max. group size:  6       Converged:          Yes          \n",
       "Mean group size:  5.8                                      \n",
       "-----------------------------------------------------------\n",
       "              Coef.   Std.Err.   z    P>|z|  [0.025  0.975]\n",
       "-----------------------------------------------------------\n",
       "Intercept     205.863  120.676  1.706 0.088 -30.657 442.383\n",
       "MB             -9.387   28.945 -0.324 0.746 -66.118  47.344\n",
       "ME            -13.931   38.990 -0.357 0.721 -90.349  62.487\n",
       "MB:ME          -2.280    9.959 -0.229 0.819 -21.800  17.240\n",
       "Group Var   16558.795   50.603                             \n",
       "===========================================================\n",
       "\n",
       "\"\"\""
      ]
     },
     "metadata": {},
     "output_type": "display_data"
    },
    {
     "name": "stdout",
     "output_type": "stream",
     "text": [
      "Results for Zstatistics\n"
     ]
    },
    {
     "data": {
      "text/html": [
       "<table class=\"simpletable\">\n",
       "<tr>\n",
       "       <td>Model:</td>       <td>MixedLM</td> <td>Dependent Variable:</td> <td>FFA_face_zstats</td>\n",
       "</tr>\n",
       "<tr>\n",
       "  <td>No. Observations:</td>   <td>183</td>         <td>Method:</td>            <td>REML</td>      \n",
       "</tr>\n",
       "<tr>\n",
       "     <td>No. Groups:</td>      <td>31</td>          <td>Scale:</td>            <td>0.3915</td>     \n",
       "</tr>\n",
       "<tr>\n",
       "  <td>Min. group size:</td>     <td>5</td>      <td>Log-Likelihood:</td>      <td>-205.7310</td>   \n",
       "</tr>\n",
       "<tr>\n",
       "  <td>Max. group size:</td>     <td>6</td>        <td>Converged:</td>            <td>Yes</td>      \n",
       "</tr>\n",
       "<tr>\n",
       "  <td>Mean group size:</td>    <td>5.9</td>            <td></td>                  <td></td>        \n",
       "</tr>\n",
       "</table>\n",
       "<table class=\"simpletable\">\n",
       "<tr>\n",
       "                <td></td>                 <th>Coef.</th> <th>Std.Err.</th>    <th>z</th>   <th>P>|z|</th> <th>[0.025</th> <th>0.975]</th>\n",
       "</tr>\n",
       "<tr>\n",
       "  <th>Intercept</th>                      <td>0.525</td>   <td>0.304</td>   <td>1.729</td> <td>0.084</td> <td>-0.070</td>  <td>1.121</td>\n",
       "</tr>\n",
       "<tr>\n",
       "  <th>HeadCoil[T.HeadNeck_64]</th>       <td>-0.104</td>   <td>0.384</td>  <td>-0.270</td> <td>0.787</td> <td>-0.856</td>  <td>0.649</td>\n",
       "</tr>\n",
       "<tr>\n",
       "  <th>MB</th>                            <td>-0.022</td>   <td>0.071</td>  <td>-0.306</td> <td>0.760</td> <td>-0.161</td>  <td>0.118</td>\n",
       "</tr>\n",
       "<tr>\n",
       "  <th>MB:HeadCoil[T.HeadNeck_64]</th>     <td>0.083</td>   <td>0.090</td>   <td>0.919</td> <td>0.358</td> <td>-0.094</td>  <td>0.260</td>\n",
       "</tr>\n",
       "<tr>\n",
       "  <th>ME</th>                            <td>-0.036</td>   <td>0.096</td>  <td>-0.372</td> <td>0.710</td> <td>-0.224</td>  <td>0.152</td>\n",
       "</tr>\n",
       "<tr>\n",
       "  <th>ME:HeadCoil[T.HeadNeck_64]</th>     <td>0.017</td>   <td>0.121</td>   <td>0.140</td> <td>0.889</td> <td>-0.221</td>  <td>0.255</td>\n",
       "</tr>\n",
       "<tr>\n",
       "  <th>MB:ME</th>                         <td>-0.001</td>   <td>0.025</td>  <td>-0.025</td> <td>0.980</td> <td>-0.049</td>  <td>0.047</td>\n",
       "</tr>\n",
       "<tr>\n",
       "  <th>MB:ME:HeadCoil[T.HeadNeck_64]</th>  <td>0.010</td>   <td>0.031</td>   <td>0.334</td> <td>0.738</td> <td>-0.050</td>  <td>0.071</td>\n",
       "</tr>\n",
       "<tr>\n",
       "  <th>Group Var</th>                      <td>0.149</td>   <td>0.098</td>     <td></td>      <td></td>       <td></td>       <td></td>   \n",
       "</tr>\n",
       "</table>"
      ],
      "text/plain": [
       "<class 'statsmodels.iolib.summary2.Summary'>\n",
       "\"\"\"\n",
       "                 Mixed Linear Model Regression Results\n",
       "========================================================================\n",
       "Model:                 MixedLM    Dependent Variable:    FFA_face_zstats\n",
       "No. Observations:      183        Method:                REML           \n",
       "No. Groups:            31         Scale:                 0.3915         \n",
       "Min. group size:       5          Log-Likelihood:        -205.7310      \n",
       "Max. group size:       6          Converged:             Yes            \n",
       "Mean group size:       5.9                                              \n",
       "------------------------------------------------------------------------\n",
       "                              Coef.  Std.Err.   z    P>|z| [0.025 0.975]\n",
       "------------------------------------------------------------------------\n",
       "Intercept                      0.525    0.304  1.729 0.084 -0.070  1.121\n",
       "HeadCoil[T.HeadNeck_64]       -0.104    0.384 -0.270 0.787 -0.856  0.649\n",
       "MB                            -0.022    0.071 -0.306 0.760 -0.161  0.118\n",
       "MB:HeadCoil[T.HeadNeck_64]     0.083    0.090  0.919 0.358 -0.094  0.260\n",
       "ME                            -0.036    0.096 -0.372 0.710 -0.224  0.152\n",
       "ME:HeadCoil[T.HeadNeck_64]     0.017    0.121  0.140 0.889 -0.221  0.255\n",
       "MB:ME                         -0.001    0.025 -0.025 0.980 -0.049  0.047\n",
       "MB:ME:HeadCoil[T.HeadNeck_64]  0.010    0.031  0.334 0.738 -0.050  0.071\n",
       "Group Var                      0.149    0.098                           \n",
       "========================================================================\n",
       "\n",
       "\"\"\""
      ]
     },
     "metadata": {},
     "output_type": "display_data"
    },
    {
     "data": {
      "image/png": "[encoded data removed]",
      "text/plain": [
       "<Figure size 1058.88x500 with 2 Axes>"
      ]
     },
     "metadata": {},
     "output_type": "display_data"
    },
    {
     "name": "stdout",
     "output_type": "stream",
     "text": [
      "Results for Cope\n"
     ]
    },
    {
     "data": {
      "text/html": [
       "<table class=\"simpletable\">\n",
       "<tr>\n",
       "       <td>Model:</td>       <td>MixedLM</td> <td>Dependent Variable:</td> <td>FFA_face_cope</td>\n",
       "</tr>\n",
       "<tr>\n",
       "  <td>No. Observations:</td>   <td>183</td>         <td>Method:</td>           <td>REML</td>     \n",
       "</tr>\n",
       "<tr>\n",
       "     <td>No. Groups:</td>      <td>31</td>          <td>Scale:</td>         <td>47243.2236</td>  \n",
       "</tr>\n",
       "<tr>\n",
       "  <td>Min. group size:</td>     <td>5</td>      <td>Log-Likelihood:</td>    <td>-1226.1379</td>  \n",
       "</tr>\n",
       "<tr>\n",
       "  <td>Max. group size:</td>     <td>6</td>        <td>Converged:</td>           <td>Yes</td>     \n",
       "</tr>\n",
       "<tr>\n",
       "  <td>Mean group size:</td>    <td>5.9</td>            <td></td>                 <td></td>       \n",
       "</tr>\n",
       "</table>\n",
       "<table class=\"simpletable\">\n",
       "<tr>\n",
       "                <td></td>                  <th>Coef.</th>   <th>Std.Err.</th>    <th>z</th>   <th>P>|z|</th>  <th>[0.025</th>  <th>0.975]</th> \n",
       "</tr>\n",
       "<tr>\n",
       "  <th>Intercept</th>                      <td>205.941</td>   <td>103.334</td>  <td>1.993</td> <td>0.046</td>   <td>3.410</td>  <td>408.471</td>\n",
       "</tr>\n",
       "<tr>\n",
       "  <th>HeadCoil[T.HeadNeck_64]</th>        <td>-31.895</td>   <td>130.461</td> <td>-0.244</td> <td>0.807</td> <td>-287.594</td> <td>223.804</td>\n",
       "</tr>\n",
       "<tr>\n",
       "  <th>MB</th>                             <td>-9.406</td>    <td>24.749</td>  <td>-0.380</td> <td>0.704</td>  <td>-57.913</td> <td>39.101</td> \n",
       "</tr>\n",
       "<tr>\n",
       "  <th>MB:HeadCoil[T.HeadNeck_64]</th>     <td>-0.415</td>    <td>31.358</td>  <td>-0.013</td> <td>0.989</td>  <td>-61.875</td> <td>61.045</td> \n",
       "</tr>\n",
       "<tr>\n",
       "  <th>ME</th>                             <td>-13.964</td>   <td>33.336</td>  <td>-0.419</td> <td>0.675</td>  <td>-79.301</td> <td>51.373</td> \n",
       "</tr>\n",
       "<tr>\n",
       "  <th>ME:HeadCoil[T.HeadNeck_64]</th>      <td>1.844</td>    <td>42.192</td>   <td>0.044</td> <td>0.965</td>  <td>-80.850</td> <td>84.539</td> \n",
       "</tr>\n",
       "<tr>\n",
       "  <th>MB:ME</th>                          <td>-2.269</td>     <td>8.515</td>  <td>-0.267</td> <td>0.790</td>  <td>-18.958</td> <td>14.419</td> \n",
       "</tr>\n",
       "<tr>\n",
       "  <th>MB:ME:HeadCoil[T.HeadNeck_64]</th>   <td>8.154</td>    <td>10.776</td>   <td>0.757</td> <td>0.449</td>  <td>-12.967</td> <td>29.274</td> \n",
       "</tr>\n",
       "<tr>\n",
       "  <th>Group Var</th>                     <td>12478.961</td>  <td>27.016</td>     <td></td>      <td></td>        <td></td>        <td></td>    \n",
       "</tr>\n",
       "</table>"
      ],
      "text/plain": [
       "<class 'statsmodels.iolib.summary2.Summary'>\n",
       "\"\"\"\n",
       "                    Mixed Linear Model Regression Results\n",
       "==============================================================================\n",
       "Model:                   MixedLM       Dependent Variable:       FFA_face_cope\n",
       "No. Observations:        183           Method:                   REML         \n",
       "No. Groups:              31            Scale:                    47243.2236   \n",
       "Min. group size:         5             Log-Likelihood:           -1226.1379   \n",
       "Max. group size:         6             Converged:                Yes          \n",
       "Mean group size:         5.9                                                  \n",
       "------------------------------------------------------------------------------\n",
       "                                Coef.   Std.Err.   z    P>|z|  [0.025   0.975]\n",
       "------------------------------------------------------------------------------\n",
       "Intercept                       205.941  103.334  1.993 0.046    3.410 408.471\n",
       "HeadCoil[T.HeadNeck_64]         -31.895  130.461 -0.244 0.807 -287.594 223.804\n",
       "MB                               -9.406   24.749 -0.380 0.704  -57.913  39.101\n",
       "MB:HeadCoil[T.HeadNeck_64]       -0.415   31.358 -0.013 0.989  -61.875  61.045\n",
       "ME                              -13.964   33.336 -0.419 0.675  -79.301  51.373\n",
       "ME:HeadCoil[T.HeadNeck_64]        1.844   42.192  0.044 0.965  -80.850  84.539\n",
       "MB:ME                            -2.269    8.515 -0.267 0.790  -18.958  14.419\n",
       "MB:ME:HeadCoil[T.HeadNeck_64]     8.154   10.776  0.757 0.449  -12.967  29.274\n",
       "Group Var                     12478.961   27.016                              \n",
       "==============================================================================\n",
       "\n",
       "\"\"\""
      ]
     },
     "metadata": {},
     "output_type": "display_data"
    },
    {
     "data": {
      "text/plain": [
       "<Figure size 640x480 with 0 Axes>"
      ]
     },
     "metadata": {},
     "output_type": "display_data"
    },
    {
     "data": {
      "image/png": "[encoded data removed]",
      "text/plain": [
       "<Figure size 1058.88x500 with 2 Axes>"
      ]
     },
     "metadata": {},
     "output_type": "display_data"
    },
    {
     "data": {
      "text/plain": [
       "<Figure size 640x480 with 0 Axes>"
      ]
     },
     "metadata": {},
     "output_type": "display_data"
    },
    {
     "data": {
      "text/plain": [
       "<Figure size 640x480 with 0 Axes>"
      ]
     },
     "metadata": {},
     "output_type": "display_data"
    }
   ],
   "source": [
    "import statsmodels.formula.api as smf\n",
    "plt_df=subs[subs['L1act']]\n",
    "\n",
    "for HC in plt_df['HeadCoil'].unique():\n",
    "    mod_df = plt_df[plt_df['HeadCoil'] == HC]\n",
    "    print(HC)\n",
    "    print(\"z-stat\")\n",
    "    res=smf.mixedlm('FFA_face_zstats ~ MB * ME',data=mod_df,groups=mod_df['sub']).fit()\n",
    "    display(res.summary())\n",
    "    print(\"beta\")\n",
    "    res=smf.mixedlm('FFA_face_cope ~ MB * ME',data=mod_df,groups=mod_df['sub']).fit()\n",
    "    display(res.summary())\n",
    "    \n",
    "print(\"Results for Zstatistics\")\n",
    "res=smf.mixedlm('FFA_face_zstats ~ MB * ME * HeadCoil',data=plt_df,groups=plt_df['sub']).fit()\n",
    "display(res.summary())\n",
    "sns.catplot(x='MB',y='FFA_face_zstats',hue='ME',data=plt_df,kind='bar',order=[1,3,6],col='HeadCoil')\n",
    "\n",
    "plt.show()\n",
    "plt.savefig(\"../derivatives/figures/FFA_face-act_zstat.svg\")\n",
    "\n",
    "print(\"Results for Cope\")\n",
    "res=smf.mixedlm('FFA_face_cope ~ MB * ME * HeadCoil',data=plt_df,groups=plt_df['sub']).fit()\n",
    "display(res.summary())\n",
    "sns.catplot(x='MB',y='FFA_face_cope',hue='ME',col='HeadCoil',\n",
    "            data=plt_df,kind='bar',order=[1,3,6])\n",
    "plt.show()\n",
    "plt.savefig(\"../derivatives/figures/FFA_face-act_cope.svg\")\n",
    "\n",
    "\n",
    "# print(\"Results for VarCope\")\n",
    "# res=smf.mixedlm('FFA_face_varcope ~ MB * ME * HeadCoil',data=plt_df,groups=plt_df['sub']).fit()\n",
    "# display(res.summary())\n",
    "# sns.catplot(x='MB',y='FFA_face_varcope',hue='ME',col='HeadCoil',\n",
    "#             data=plt_df,kind='bar',order=[1,3,6])\n",
    "plt.show()\n",
    "plt.savefig(\"../derivatives/figures/FFA_face-act_varcope.svg\")\n"
   ]
  },
  {
   "cell_type": "markdown",
   "id": "0a33d664",
   "metadata": {},
   "source": [
    "# Central Gyrus-Button Activiation"
   ]
  },
  {
   "cell_type": "code",
   "execution_count": 21,
   "id": "6d22508b",
   "metadata": {},
   "outputs": [
    {
     "name": "stderr",
     "output_type": "stream",
     "text": [
      "100%|███████████████████████████████████████| 190/190 [02:18<00:00,  1.37it/s]\n"
     ]
    }
   ],
   "source": [
    "masker= NiftiMasker(mask_img=motor_mask)\n",
    "                   \n",
    "copes=[]\n",
    "zstats=[]\n",
    "varcopes=[]\n",
    "for index,row in tqdm(subs.iterrows(),total=subs.shape[0]):\n",
    "    sub=row['sub']\n",
    "    aqc=row['acq']\n",
    "    cope='../derivatives/fsl/%s/L1_task-sharedreward_model-1_type-act_acq-%s_sm-4.feat/stats/cope12.nii.gz'%(sub,aqc)\n",
    "    zstat='../derivatives/fsl/%s/L1_task-sharedreward_model-1_type-act_acq-%s_sm-4.feat/stats/zstat12.nii.gz'%(sub,aqc)\n",
    "    varcope='../derivatives/fsl/%s/L1_task-sharedreward_model-1_type-act_acq-%s_sm-4.feat/stats/varcope12.nii.gz'%(sub,aqc)\n",
    "    \n",
    "    if os.path.exists(cope):\n",
    "        #Extracting VS Reward cope,zstat, and varcope\n",
    "        x=masker.fit_transform(cope)\n",
    "        copes.append(np.mean(x.flatten()))\n",
    "\n",
    "        x=masker.fit_transform(zstat)\n",
    "        zstats.append(np.mean(x.flatten()))\n",
    "\n",
    "        x=masker.fit_transform(varcope)\n",
    "        varcopes.append(np.mean(x.flatten()))\n",
    "    else:\n",
    "        copes.append(np.nan)\n",
    "        zstats.append(np.nan)\n",
    "        varcopes.append(np.nan)\n",
    "        \n",
    "subs = subs.assign(Motor_LR_cope=copes,\n",
    "               Motor_LR_zstats=zstats,\n",
    "               Motor_LR_varcope=varcopes)"
   ]
  },
  {
   "cell_type": "markdown",
   "id": "ddabb38b",
   "metadata": {},
   "source": [
    "# Display Motor Activation by Acquisition"
   ]
  },
  {
   "cell_type": "code",
   "execution_count": 22,
   "id": "3eb0ecb7",
   "metadata": {},
   "outputs": [
    {
     "name": "stdout",
     "output_type": "stream",
     "text": [
      "HeadNeck_64\n",
      "z-stat\n"
     ]
    },
    {
     "data": {
      "text/html": [
       "<table class=\"simpletable\">\n",
       "<tr>\n",
       "       <td>Model:</td>       <td>MixedLM</td> <td>Dependent Variable:</td> <td>Motor_LR_zstats</td>\n",
       "</tr>\n",
       "<tr>\n",
       "  <td>No. Observations:</td>   <td>114</td>         <td>Method:</td>            <td>REML</td>      \n",
       "</tr>\n",
       "<tr>\n",
       "     <td>No. Groups:</td>      <td>19</td>          <td>Scale:</td>            <td>0.3129</td>     \n",
       "</tr>\n",
       "<tr>\n",
       "  <td>Min. group size:</td>     <td>6</td>      <td>Log-Likelihood:</td>      <td>-120.9347</td>   \n",
       "</tr>\n",
       "<tr>\n",
       "  <td>Max. group size:</td>     <td>6</td>        <td>Converged:</td>            <td>Yes</td>      \n",
       "</tr>\n",
       "<tr>\n",
       "  <td>Mean group size:</td>    <td>6.0</td>            <td></td>                  <td></td>        \n",
       "</tr>\n",
       "</table>\n",
       "<table class=\"simpletable\">\n",
       "<tr>\n",
       "      <td></td>       <th>Coef.</th> <th>Std.Err.</th>    <th>z</th>   <th>P>|z|</th> <th>[0.025</th> <th>0.975]</th>\n",
       "</tr>\n",
       "<tr>\n",
       "  <th>Intercept</th>  <td>0.476</td>   <td>0.230</td>   <td>2.064</td> <td>0.039</td>  <td>0.024</td>  <td>0.927</td>\n",
       "</tr>\n",
       "<tr>\n",
       "  <th>MB</th>         <td>0.176</td>   <td>0.050</td>   <td>3.543</td> <td>0.000</td>  <td>0.078</td>  <td>0.273</td>\n",
       "</tr>\n",
       "<tr>\n",
       "  <th>ME</th>         <td>0.036</td>   <td>0.067</td>   <td>0.548</td> <td>0.584</td> <td>-0.094</td>  <td>0.167</td>\n",
       "</tr>\n",
       "<tr>\n",
       "  <th>MB:ME</th>     <td>-0.022</td>   <td>0.017</td>  <td>-1.289</td> <td>0.197</td> <td>-0.055</td>  <td>0.011</td>\n",
       "</tr>\n",
       "<tr>\n",
       "  <th>Group Var</th>  <td>0.294</td>   <td>0.225</td>     <td></td>      <td></td>       <td></td>       <td></td>   \n",
       "</tr>\n",
       "</table>"
      ],
      "text/plain": [
       "<class 'statsmodels.iolib.summary2.Summary'>\n",
       "\"\"\"\n",
       "            Mixed Linear Model Regression Results\n",
       "=============================================================\n",
       "Model:            MixedLM Dependent Variable: Motor_LR_zstats\n",
       "No. Observations: 114     Method:             REML           \n",
       "No. Groups:       19      Scale:              0.3129         \n",
       "Min. group size:  6       Log-Likelihood:     -120.9347      \n",
       "Max. group size:  6       Converged:          Yes            \n",
       "Mean group size:  6.0                                        \n",
       "--------------------------------------------------------------\n",
       "               Coef.   Std.Err.    z     P>|z|  [0.025  0.975]\n",
       "--------------------------------------------------------------\n",
       "Intercept       0.476     0.230   2.064  0.039   0.024   0.927\n",
       "MB              0.176     0.050   3.543  0.000   0.078   0.273\n",
       "ME              0.036     0.067   0.548  0.584  -0.094   0.167\n",
       "MB:ME          -0.022     0.017  -1.289  0.197  -0.055   0.011\n",
       "Group Var       0.294     0.225                               \n",
       "=============================================================\n",
       "\n",
       "\"\"\""
      ]
     },
     "metadata": {},
     "output_type": "display_data"
    },
    {
     "name": "stdout",
     "output_type": "stream",
     "text": [
      "beta\n"
     ]
    },
    {
     "data": {
      "text/html": [
       "<table class=\"simpletable\">\n",
       "<tr>\n",
       "       <td>Model:</td>       <td>MixedLM</td> <td>Dependent Variable:</td> <td>Motor_LR_cope</td>\n",
       "</tr>\n",
       "<tr>\n",
       "  <td>No. Observations:</td>   <td>114</td>         <td>Method:</td>           <td>REML</td>     \n",
       "</tr>\n",
       "<tr>\n",
       "     <td>No. Groups:</td>      <td>19</td>          <td>Scale:</td>         <td>19445.1859</td>  \n",
       "</tr>\n",
       "<tr>\n",
       "  <td>Min. group size:</td>     <td>6</td>      <td>Log-Likelihood:</td>     <td>-723.8478</td>  \n",
       "</tr>\n",
       "<tr>\n",
       "  <td>Max. group size:</td>     <td>6</td>        <td>Converged:</td>           <td>Yes</td>     \n",
       "</tr>\n",
       "<tr>\n",
       "  <td>Mean group size:</td>    <td>6.0</td>            <td></td>                 <td></td>       \n",
       "</tr>\n",
       "</table>\n",
       "<table class=\"simpletable\">\n",
       "<tr>\n",
       "      <td></td>        <th>Coef.</th>   <th>Std.Err.</th>    <th>z</th>   <th>P>|z|</th> <th>[0.025</th>  <th>0.975]</th> \n",
       "</tr>\n",
       "<tr>\n",
       "  <th>Intercept</th>  <td>156.223</td>   <td>53.707</td>   <td>2.909</td> <td>0.004</td> <td>50.960</td>  <td>261.486</td>\n",
       "</tr>\n",
       "<tr>\n",
       "  <th>MB</th>         <td>12.529</td>    <td>12.354</td>   <td>1.014</td> <td>0.310</td> <td>-11.684</td> <td>36.742</td> \n",
       "</tr>\n",
       "<tr>\n",
       "  <th>ME</th>         <td>21.371</td>    <td>16.592</td>   <td>1.288</td> <td>0.198</td> <td>-11.149</td> <td>53.892</td> \n",
       "</tr>\n",
       "<tr>\n",
       "  <th>MB:ME</th>      <td>-5.432</td>     <td>4.237</td>  <td>-1.282</td> <td>0.200</td> <td>-13.737</td>  <td>2.873</td> \n",
       "</tr>\n",
       "<tr>\n",
       "  <th>Group Var</th> <td>10341.501</td>  <td>35.502</td>     <td></td>      <td></td>       <td></td>        <td></td>    \n",
       "</tr>\n",
       "</table>"
      ],
      "text/plain": [
       "<class 'statsmodels.iolib.summary2.Summary'>\n",
       "\"\"\"\n",
       "           Mixed Linear Model Regression Results\n",
       "===========================================================\n",
       "Model:            MixedLM Dependent Variable: Motor_LR_cope\n",
       "No. Observations: 114     Method:             REML         \n",
       "No. Groups:       19      Scale:              19445.1859   \n",
       "Min. group size:  6       Log-Likelihood:     -723.8478    \n",
       "Max. group size:  6       Converged:          Yes          \n",
       "Mean group size:  6.0                                      \n",
       "-----------------------------------------------------------\n",
       "              Coef.   Std.Err.   z    P>|z|  [0.025  0.975]\n",
       "-----------------------------------------------------------\n",
       "Intercept     156.223   53.707  2.909 0.004  50.960 261.486\n",
       "MB             12.529   12.354  1.014 0.310 -11.684  36.742\n",
       "ME             21.371   16.592  1.288 0.198 -11.149  53.892\n",
       "MB:ME          -5.432    4.237 -1.282 0.200 -13.737   2.873\n",
       "Group Var   10341.501   35.502                             \n",
       "===========================================================\n",
       "\n",
       "\"\"\""
      ]
     },
     "metadata": {},
     "output_type": "display_data"
    },
    {
     "name": "stdout",
     "output_type": "stream",
     "text": [
      "HeadNeck_20\n",
      "z-stat\n"
     ]
    },
    {
     "data": {
      "text/html": [
       "<table class=\"simpletable\">\n",
       "<tr>\n",
       "       <td>Model:</td>       <td>MixedLM</td> <td>Dependent Variable:</td> <td>Motor_LR_zstats</td>\n",
       "</tr>\n",
       "<tr>\n",
       "  <td>No. Observations:</td>   <td>69</td>          <td>Method:</td>            <td>REML</td>      \n",
       "</tr>\n",
       "<tr>\n",
       "     <td>No. Groups:</td>      <td>12</td>          <td>Scale:</td>            <td>0.3488</td>     \n",
       "</tr>\n",
       "<tr>\n",
       "  <td>Min. group size:</td>     <td>5</td>      <td>Log-Likelihood:</td>      <td>-76.6753</td>    \n",
       "</tr>\n",
       "<tr>\n",
       "  <td>Max. group size:</td>     <td>6</td>        <td>Converged:</td>            <td>Yes</td>      \n",
       "</tr>\n",
       "<tr>\n",
       "  <td>Mean group size:</td>    <td>5.8</td>            <td></td>                  <td></td>        \n",
       "</tr>\n",
       "</table>\n",
       "<table class=\"simpletable\">\n",
       "<tr>\n",
       "      <td></td>       <th>Coef.</th> <th>Std.Err.</th>    <th>z</th>   <th>P>|z|</th> <th>[0.025</th> <th>0.975]</th>\n",
       "</tr>\n",
       "<tr>\n",
       "  <th>Intercept</th>  <td>0.379</td>   <td>0.296</td>   <td>1.280</td> <td>0.201</td> <td>-0.202</td>  <td>0.960</td>\n",
       "</tr>\n",
       "<tr>\n",
       "  <th>MB</th>         <td>0.163</td>   <td>0.067</td>   <td>2.427</td> <td>0.015</td>  <td>0.031</td>  <td>0.295</td>\n",
       "</tr>\n",
       "<tr>\n",
       "  <th>ME</th>         <td>0.126</td>   <td>0.091</td>   <td>1.389</td> <td>0.165</td> <td>-0.052</td>  <td>0.304</td>\n",
       "</tr>\n",
       "<tr>\n",
       "  <th>MB:ME</th>     <td>-0.039</td>   <td>0.023</td>  <td>-1.669</td> <td>0.095</td> <td>-0.084</td>  <td>0.007</td>\n",
       "</tr>\n",
       "<tr>\n",
       "  <th>Group Var</th>  <td>0.198</td>   <td>0.204</td>     <td></td>      <td></td>       <td></td>       <td></td>   \n",
       "</tr>\n",
       "</table>"
      ],
      "text/plain": [
       "<class 'statsmodels.iolib.summary2.Summary'>\n",
       "\"\"\"\n",
       "            Mixed Linear Model Regression Results\n",
       "=============================================================\n",
       "Model:            MixedLM Dependent Variable: Motor_LR_zstats\n",
       "No. Observations: 69      Method:             REML           \n",
       "No. Groups:       12      Scale:              0.3488         \n",
       "Min. group size:  5       Log-Likelihood:     -76.6753       \n",
       "Max. group size:  6       Converged:          Yes            \n",
       "Mean group size:  5.8                                        \n",
       "--------------------------------------------------------------\n",
       "               Coef.   Std.Err.    z     P>|z|  [0.025  0.975]\n",
       "--------------------------------------------------------------\n",
       "Intercept       0.379     0.296   1.280  0.201  -0.202   0.960\n",
       "MB              0.163     0.067   2.427  0.015   0.031   0.295\n",
       "ME              0.126     0.091   1.389  0.165  -0.052   0.304\n",
       "MB:ME          -0.039     0.023  -1.669  0.095  -0.084   0.007\n",
       "Group Var       0.198     0.204                               \n",
       "=============================================================\n",
       "\n",
       "\"\"\""
      ]
     },
     "metadata": {},
     "output_type": "display_data"
    },
    {
     "name": "stdout",
     "output_type": "stream",
     "text": [
      "beta\n"
     ]
    },
    {
     "data": {
      "text/html": [
       "<table class=\"simpletable\">\n",
       "<tr>\n",
       "       <td>Model:</td>       <td>MixedLM</td> <td>Dependent Variable:</td> <td>Motor_LR_cope</td>\n",
       "</tr>\n",
       "<tr>\n",
       "  <td>No. Observations:</td>   <td>69</td>          <td>Method:</td>           <td>REML</td>     \n",
       "</tr>\n",
       "<tr>\n",
       "     <td>No. Groups:</td>      <td>12</td>          <td>Scale:</td>         <td>56433.3930</td>  \n",
       "</tr>\n",
       "<tr>\n",
       "  <td>Min. group size:</td>     <td>5</td>      <td>Log-Likelihood:</td>     <td>-464.6591</td>  \n",
       "</tr>\n",
       "<tr>\n",
       "  <td>Max. group size:</td>     <td>6</td>        <td>Converged:</td>           <td>Yes</td>     \n",
       "</tr>\n",
       "<tr>\n",
       "  <td>Mean group size:</td>    <td>5.8</td>            <td></td>                 <td></td>       \n",
       "</tr>\n",
       "</table>\n",
       "<table class=\"simpletable\">\n",
       "<tr>\n",
       "      <td></td>        <th>Coef.</th>   <th>Std.Err.</th>    <th>z</th>   <th>P>|z|</th> <th>[0.025</th>  <th>0.975]</th> \n",
       "</tr>\n",
       "<tr>\n",
       "  <th>Intercept</th>  <td>224.138</td>   <td>114.943</td>  <td>1.950</td> <td>0.051</td> <td>-1.146</td>  <td>449.422</td>\n",
       "</tr>\n",
       "<tr>\n",
       "  <th>MB</th>         <td>16.209</td>    <td>27.061</td>   <td>0.599</td> <td>0.549</td> <td>-36.829</td> <td>69.248</td> \n",
       "</tr>\n",
       "<tr>\n",
       "  <th>ME</th>         <td>35.146</td>    <td>36.463</td>   <td>0.964</td> <td>0.335</td> <td>-36.320</td> <td>106.613</td>\n",
       "</tr>\n",
       "<tr>\n",
       "  <th>MB:ME</th>      <td>-8.056</td>     <td>9.314</td>  <td>-0.865</td> <td>0.387</td> <td>-26.311</td> <td>10.198</td> \n",
       "</tr>\n",
       "<tr>\n",
       "  <th>Group Var</th> <td>20211.814</td>  <td>59.544</td>     <td></td>      <td></td>       <td></td>        <td></td>    \n",
       "</tr>\n",
       "</table>"
      ],
      "text/plain": [
       "<class 'statsmodels.iolib.summary2.Summary'>\n",
       "\"\"\"\n",
       "           Mixed Linear Model Regression Results\n",
       "===========================================================\n",
       "Model:            MixedLM Dependent Variable: Motor_LR_cope\n",
       "No. Observations: 69      Method:             REML         \n",
       "No. Groups:       12      Scale:              56433.3930   \n",
       "Min. group size:  5       Log-Likelihood:     -464.6591    \n",
       "Max. group size:  6       Converged:          Yes          \n",
       "Mean group size:  5.8                                      \n",
       "-----------------------------------------------------------\n",
       "              Coef.   Std.Err.   z    P>|z|  [0.025  0.975]\n",
       "-----------------------------------------------------------\n",
       "Intercept     224.138  114.943  1.950 0.051  -1.146 449.422\n",
       "MB             16.209   27.061  0.599 0.549 -36.829  69.248\n",
       "ME             35.146   36.463  0.964 0.335 -36.320 106.613\n",
       "MB:ME          -8.056    9.314 -0.865 0.387 -26.311  10.198\n",
       "Group Var   20211.814   59.544                             \n",
       "===========================================================\n",
       "\n",
       "\"\"\""
      ]
     },
     "metadata": {},
     "output_type": "display_data"
    },
    {
     "name": "stdout",
     "output_type": "stream",
     "text": [
      "Results for Zstatistics\n"
     ]
    },
    {
     "data": {
      "text/html": [
       "<table class=\"simpletable\">\n",
       "<tr>\n",
       "       <td>Model:</td>       <td>MixedLM</td> <td>Dependent Variable:</td> <td>Motor_LR_zstats</td>\n",
       "</tr>\n",
       "<tr>\n",
       "  <td>No. Observations:</td>   <td>183</td>         <td>Method:</td>            <td>REML</td>      \n",
       "</tr>\n",
       "<tr>\n",
       "     <td>No. Groups:</td>      <td>31</td>          <td>Scale:</td>            <td>0.3262</td>     \n",
       "</tr>\n",
       "<tr>\n",
       "  <td>Min. group size:</td>     <td>5</td>      <td>Log-Likelihood:</td>      <td>-197.8603</td>   \n",
       "</tr>\n",
       "<tr>\n",
       "  <td>Max. group size:</td>     <td>6</td>        <td>Converged:</td>            <td>Yes</td>      \n",
       "</tr>\n",
       "<tr>\n",
       "  <td>Mean group size:</td>    <td>5.9</td>            <td></td>                  <td></td>        \n",
       "</tr>\n",
       "</table>\n",
       "<table class=\"simpletable\">\n",
       "<tr>\n",
       "                <td></td>                 <th>Coef.</th> <th>Std.Err.</th>    <th>z</th>   <th>P>|z|</th> <th>[0.025</th> <th>0.975]</th>\n",
       "</tr>\n",
       "<tr>\n",
       "  <th>Intercept</th>                      <td>0.381</td>   <td>0.297</td>   <td>1.284</td> <td>0.199</td> <td>-0.201</td>  <td>0.963</td>\n",
       "</tr>\n",
       "<tr>\n",
       "  <th>HeadCoil[T.HeadNeck_64]</th>        <td>0.094</td>   <td>0.376</td>   <td>0.251</td> <td>0.802</td> <td>-0.642</td>  <td>0.830</td>\n",
       "</tr>\n",
       "<tr>\n",
       "  <th>MB</th>                             <td>0.163</td>   <td>0.065</td>   <td>2.502</td> <td>0.012</td>  <td>0.035</td>  <td>0.290</td>\n",
       "</tr>\n",
       "<tr>\n",
       "  <th>MB:HeadCoil[T.HeadNeck_64]</th>     <td>0.013</td>   <td>0.082</td>   <td>0.154</td> <td>0.878</td> <td>-0.149</td>  <td>0.174</td>\n",
       "</tr>\n",
       "<tr>\n",
       "  <th>ME</th>                             <td>0.125</td>   <td>0.088</td>   <td>1.425</td> <td>0.154</td> <td>-0.047</td>  <td>0.297</td>\n",
       "</tr>\n",
       "<tr>\n",
       "  <th>ME:HeadCoil[T.HeadNeck_64]</th>    <td>-0.089</td>   <td>0.111</td>  <td>-0.798</td> <td>0.425</td> <td>-0.306</td>  <td>0.129</td>\n",
       "</tr>\n",
       "<tr>\n",
       "  <th>MB:ME</th>                         <td>-0.038</td>   <td>0.022</td>  <td>-1.716</td> <td>0.086</td> <td>-0.082</td>  <td>0.005</td>\n",
       "</tr>\n",
       "<tr>\n",
       "  <th>MB:ME:HeadCoil[T.HeadNeck_64]</th>  <td>0.017</td>   <td>0.028</td>   <td>0.583</td> <td>0.560</td> <td>-0.039</td>  <td>0.072</td>\n",
       "</tr>\n",
       "<tr>\n",
       "  <th>Group Var</th>                      <td>0.258</td>   <td>0.157</td>     <td></td>      <td></td>       <td></td>       <td></td>   \n",
       "</tr>\n",
       "</table>"
      ],
      "text/plain": [
       "<class 'statsmodels.iolib.summary2.Summary'>\n",
       "\"\"\"\n",
       "                 Mixed Linear Model Regression Results\n",
       "========================================================================\n",
       "Model:                 MixedLM    Dependent Variable:    Motor_LR_zstats\n",
       "No. Observations:      183        Method:                REML           \n",
       "No. Groups:            31         Scale:                 0.3262         \n",
       "Min. group size:       5          Log-Likelihood:        -197.8603      \n",
       "Max. group size:       6          Converged:             Yes            \n",
       "Mean group size:       5.9                                              \n",
       "------------------------------------------------------------------------\n",
       "                              Coef.  Std.Err.   z    P>|z| [0.025 0.975]\n",
       "------------------------------------------------------------------------\n",
       "Intercept                      0.381    0.297  1.284 0.199 -0.201  0.963\n",
       "HeadCoil[T.HeadNeck_64]        0.094    0.376  0.251 0.802 -0.642  0.830\n",
       "MB                             0.163    0.065  2.502 0.012  0.035  0.290\n",
       "MB:HeadCoil[T.HeadNeck_64]     0.013    0.082  0.154 0.878 -0.149  0.174\n",
       "ME                             0.125    0.088  1.425 0.154 -0.047  0.297\n",
       "ME:HeadCoil[T.HeadNeck_64]    -0.089    0.111 -0.798 0.425 -0.306  0.129\n",
       "MB:ME                         -0.038    0.022 -1.716 0.086 -0.082  0.005\n",
       "MB:ME:HeadCoil[T.HeadNeck_64]  0.017    0.028  0.583 0.560 -0.039  0.072\n",
       "Group Var                      0.258    0.157                           \n",
       "========================================================================\n",
       "\n",
       "\"\"\""
      ]
     },
     "metadata": {},
     "output_type": "display_data"
    },
    {
     "data": {
      "image/png": "[encoded data removed]",
      "text/plain": [
       "<Figure size 1058.88x500 with 2 Axes>"
      ]
     },
     "metadata": {},
     "output_type": "display_data"
    },
    {
     "name": "stdout",
     "output_type": "stream",
     "text": [
      "Results for Cope\n"
     ]
    },
    {
     "data": {
      "text/html": [
       "<table class=\"simpletable\">\n",
       "<tr>\n",
       "       <td>Model:</td>       <td>MixedLM</td> <td>Dependent Variable:</td> <td>Motor_LR_cope</td>\n",
       "</tr>\n",
       "<tr>\n",
       "  <td>No. Observations:</td>   <td>183</td>         <td>Method:</td>           <td>REML</td>     \n",
       "</tr>\n",
       "<tr>\n",
       "     <td>No. Groups:</td>      <td>31</td>          <td>Scale:</td>         <td>33140.0543</td>  \n",
       "</tr>\n",
       "<tr>\n",
       "  <td>Min. group size:</td>     <td>5</td>      <td>Log-Likelihood:</td>    <td>-1199.7100</td>  \n",
       "</tr>\n",
       "<tr>\n",
       "  <td>Max. group size:</td>     <td>6</td>        <td>Converged:</td>           <td>Yes</td>     \n",
       "</tr>\n",
       "<tr>\n",
       "  <td>Mean group size:</td>    <td>5.9</td>            <td></td>                 <td></td>       \n",
       "</tr>\n",
       "</table>\n",
       "<table class=\"simpletable\">\n",
       "<tr>\n",
       "                <td></td>                  <th>Coef.</th>   <th>Std.Err.</th>    <th>z</th>   <th>P>|z|</th>  <th>[0.025</th>  <th>0.975]</th> \n",
       "</tr>\n",
       "<tr>\n",
       "  <th>Intercept</th>                      <td>224.765</td>   <td>89.146</td>   <td>2.521</td> <td>0.012</td>  <td>50.041</td>  <td>399.489</td>\n",
       "</tr>\n",
       "<tr>\n",
       "  <th>HeadCoil[T.HeadNeck_64]</th>        <td>-68.542</td>   <td>112.598</td> <td>-0.609</td> <td>0.543</td> <td>-289.231</td> <td>152.147</td>\n",
       "</tr>\n",
       "<tr>\n",
       "  <th>MB</th>                             <td>16.060</td>    <td>20.737</td>   <td>0.774</td> <td>0.439</td>  <td>-24.584</td> <td>56.705</td> \n",
       "</tr>\n",
       "<tr>\n",
       "  <th>MB:HeadCoil[T.HeadNeck_64]</th>     <td>-3.531</td>    <td>26.271</td>  <td>-0.134</td> <td>0.893</td>  <td>-55.020</td> <td>47.958</td> \n",
       "</tr>\n",
       "<tr>\n",
       "  <th>ME</th>                             <td>34.841</td>    <td>27.939</td>   <td>1.247</td> <td>0.212</td>  <td>-19.917</td> <td>89.600</td> \n",
       "</tr>\n",
       "<tr>\n",
       "  <th>ME:HeadCoil[T.HeadNeck_64]</th>     <td>-13.470</td>   <td>35.352</td>  <td>-0.381</td> <td>0.703</td>  <td>-82.758</td> <td>55.819</td> \n",
       "</tr>\n",
       "<tr>\n",
       "  <th>MB:ME</th>                          <td>-7.970</td>     <td>7.136</td>  <td>-1.117</td> <td>0.264</td>  <td>-21.956</td>  <td>6.016</td> \n",
       "</tr>\n",
       "<tr>\n",
       "  <th>MB:ME:HeadCoil[T.HeadNeck_64]</th>   <td>2.538</td>     <td>9.029</td>   <td>0.281</td> <td>0.779</td>  <td>-15.158</td> <td>20.234</td> \n",
       "</tr>\n",
       "<tr>\n",
       "  <th>Group Var</th>                     <td>14118.330</td>  <td>31.365</td>     <td></td>      <td></td>        <td></td>        <td></td>    \n",
       "</tr>\n",
       "</table>"
      ],
      "text/plain": [
       "<class 'statsmodels.iolib.summary2.Summary'>\n",
       "\"\"\"\n",
       "                    Mixed Linear Model Regression Results\n",
       "==============================================================================\n",
       "Model:                   MixedLM       Dependent Variable:       Motor_LR_cope\n",
       "No. Observations:        183           Method:                   REML         \n",
       "No. Groups:              31            Scale:                    33140.0543   \n",
       "Min. group size:         5             Log-Likelihood:           -1199.7100   \n",
       "Max. group size:         6             Converged:                Yes          \n",
       "Mean group size:         5.9                                                  \n",
       "------------------------------------------------------------------------------\n",
       "                                Coef.   Std.Err.   z    P>|z|  [0.025   0.975]\n",
       "------------------------------------------------------------------------------\n",
       "Intercept                       224.765   89.146  2.521 0.012   50.041 399.489\n",
       "HeadCoil[T.HeadNeck_64]         -68.542  112.598 -0.609 0.543 -289.231 152.147\n",
       "MB                               16.060   20.737  0.774 0.439  -24.584  56.705\n",
       "MB:HeadCoil[T.HeadNeck_64]       -3.531   26.271 -0.134 0.893  -55.020  47.958\n",
       "ME                               34.841   27.939  1.247 0.212  -19.917  89.600\n",
       "ME:HeadCoil[T.HeadNeck_64]      -13.470   35.352 -0.381 0.703  -82.758  55.819\n",
       "MB:ME                            -7.970    7.136 -1.117 0.264  -21.956   6.016\n",
       "MB:ME:HeadCoil[T.HeadNeck_64]     2.538    9.029  0.281 0.779  -15.158  20.234\n",
       "Group Var                     14118.330   31.365                              \n",
       "==============================================================================\n",
       "\n",
       "\"\"\""
      ]
     },
     "metadata": {},
     "output_type": "display_data"
    },
    {
     "data": {
      "text/plain": [
       "<Figure size 640x480 with 0 Axes>"
      ]
     },
     "metadata": {},
     "output_type": "display_data"
    },
    {
     "data": {
      "image/png": "[encoded data removed]",
      "text/plain": [
       "<Figure size 1058.88x500 with 2 Axes>"
      ]
     },
     "metadata": {},
     "output_type": "display_data"
    },
    {
     "data": {
      "text/plain": [
       "<Figure size 640x480 with 0 Axes>"
      ]
     },
     "metadata": {},
     "output_type": "display_data"
    },
    {
     "data": {
      "text/plain": [
       "<Figure size 640x480 with 0 Axes>"
      ]
     },
     "metadata": {},
     "output_type": "display_data"
    }
   ],
   "source": [
    "import statsmodels.formula.api as smf\n",
    "plt_df=subs[subs['L1act']]\n",
    "\n",
    "for HC in plt_df['HeadCoil'].unique():\n",
    "    mod_df = plt_df[plt_df['HeadCoil'] == HC]\n",
    "    print(HC)\n",
    "    print(\"z-stat\")\n",
    "    res=smf.mixedlm('Motor_LR_zstats ~ MB * ME',data=mod_df,groups=mod_df['sub']).fit()\n",
    "    display(res.summary())\n",
    "    print(\"beta\")\n",
    "    res=smf.mixedlm('Motor_LR_cope ~ MB * ME',data=mod_df,groups=mod_df['sub']).fit()\n",
    "    display(res.summary())\n",
    "    \n",
    "print(\"Results for Zstatistics\")\n",
    "res=smf.mixedlm('Motor_LR_zstats ~ MB * ME * HeadCoil',data=plt_df,groups=plt_df['sub']).fit()\n",
    "display(res.summary())\n",
    "sns.catplot(x='MB',y='Motor_LR_zstats',hue='ME',data=plt_df,kind='bar',order=[1,3,6],col='HeadCoil')\n",
    "\n",
    "plt.show()\n",
    "plt.savefig(\"../derivatives/figures/Motor_LR-act_zstat.svg\")\n",
    "\n",
    "print(\"Results for Cope\")\n",
    "res=smf.mixedlm('Motor_LR_cope ~ MB * ME * HeadCoil',data=plt_df,groups=plt_df['sub']).fit()\n",
    "display(res.summary())\n",
    "sns.catplot(x='MB',y='Motor_LR_cope',hue='ME',col='HeadCoil',\n",
    "            data=plt_df,kind='bar',order=[1,3,6])\n",
    "plt.show()\n",
    "plt.savefig(\"../derivatives/figures/Motor_LR-act_cope.svg\")\n",
    "\n",
    "\n",
    "# print(\"Results for VarCope\")\n",
    "# res=smf.mixedlm('Motor_LR_varcope ~ MB * ME * HeadCoil',data=plt_df,groups=plt_df['sub']).fit()\n",
    "# display(res.summary())\n",
    "# sns.catplot(x='MB',y='Motor_LR_varcope',hue='ME',col='HeadCoil',\n",
    "#             data=plt_df,kind='bar',order=[1,3,6])\n",
    "plt.show()\n",
    "plt.savefig(\"../derivatives/figures/Motor_LR-act_varcope.svg\")"
   ]
  },
  {
   "cell_type": "markdown",
   "id": "76203688",
   "metadata": {},
   "source": [
    "# Central Gyrus-Button Activiation"
   ]
  },
  {
   "cell_type": "markdown",
   "id": "77263a49",
   "metadata": {},
   "source": [
    "# Central ICerbt-Button Activiation"
   ]
  },
  {
   "cell_type": "code",
   "execution_count": 23,
   "id": "c84df6c2",
   "metadata": {},
   "outputs": [
    {
     "name": "stderr",
     "output_type": "stream",
     "text": [
      "100%|███████████████████████████████████████| 190/190 [02:13<00:00,  1.42it/s]\n"
     ]
    }
   ],
   "source": [
    "masker= NiftiMasker(mask_img=iCerb_mask)\n",
    "                   \n",
    "copes=[]\n",
    "zstats=[]\n",
    "varcopes=[]\n",
    "for index,row in tqdm(subs.iterrows(),total=subs.shape[0]):\n",
    "    sub=row['sub']\n",
    "    aqc=row['acq']\n",
    "    cope='../derivatives/fsl/%s/L1_task-sharedreward_model-1_type-act_acq-%s_sm-4.feat/stats/cope12.nii.gz'%(sub,aqc)\n",
    "    zstat='../derivatives/fsl/%s/L1_task-sharedreward_model-1_type-act_acq-%s_sm-4.feat/stats/zstat12.nii.gz'%(sub,aqc)\n",
    "    varcope='../derivatives/fsl/%s/L1_task-sharedreward_model-1_type-act_acq-%s_sm-4.feat/stats/varcope12.nii.gz'%(sub,aqc)\n",
    "    \n",
    "    if os.path.exists(cope):\n",
    "        #Extracting VS Reward cope,zstat, and varcope\n",
    "        x=masker.fit_transform(cope)\n",
    "        copes.append(np.mean(x.flatten()))\n",
    "\n",
    "        x=masker.fit_transform(zstat)\n",
    "        zstats.append(np.mean(x.flatten()))\n",
    "\n",
    "        x=masker.fit_transform(varcope)\n",
    "        varcopes.append(np.mean(x.flatten()))\n",
    "    else:\n",
    "        copes.append(np.nan)\n",
    "        zstats.append(np.nan)\n",
    "        varcopes.append(np.nan)\n",
    "        \n",
    "subs = subs.assign(iCerb_LR_cope=copes,\n",
    "               iCerb_LR_zstats=zstats,\n",
    "               iCerb_LR_varcope=varcopes)"
   ]
  },
  {
   "cell_type": "markdown",
   "id": "bd0b25aa",
   "metadata": {
    "tags": []
   },
   "source": [
    "# Display Inferior Cerebellar Activation by Acquisition"
   ]
  },
  {
   "cell_type": "code",
   "execution_count": 24,
   "id": "05ea2011",
   "metadata": {},
   "outputs": [
    {
     "name": "stdout",
     "output_type": "stream",
     "text": [
      "HeadNeck_64\n",
      "z-stat\n"
     ]
    },
    {
     "data": {
      "text/html": [
       "<table class=\"simpletable\">\n",
       "<tr>\n",
       "       <td>Model:</td>       <td>MixedLM</td> <td>Dependent Variable:</td> <td>iCerb_LR_zstats</td>\n",
       "</tr>\n",
       "<tr>\n",
       "  <td>No. Observations:</td>   <td>114</td>         <td>Method:</td>            <td>REML</td>      \n",
       "</tr>\n",
       "<tr>\n",
       "     <td>No. Groups:</td>      <td>19</td>          <td>Scale:</td>            <td>0.2657</td>     \n",
       "</tr>\n",
       "<tr>\n",
       "  <td>Min. group size:</td>     <td>6</td>      <td>Log-Likelihood:</td>      <td>-106.0804</td>   \n",
       "</tr>\n",
       "<tr>\n",
       "  <td>Max. group size:</td>     <td>6</td>        <td>Converged:</td>            <td>Yes</td>      \n",
       "</tr>\n",
       "<tr>\n",
       "  <td>Mean group size:</td>    <td>6.0</td>            <td></td>                  <td></td>        \n",
       "</tr>\n",
       "</table>\n",
       "<table class=\"simpletable\">\n",
       "<tr>\n",
       "      <td></td>       <th>Coef.</th> <th>Std.Err.</th>    <th>z</th>   <th>P>|z|</th> <th>[0.025</th> <th>0.975]</th>\n",
       "</tr>\n",
       "<tr>\n",
       "  <th>Intercept</th>  <td>0.120</td>   <td>0.194</td>   <td>0.619</td> <td>0.536</td> <td>-0.260</td>  <td>0.501</td>\n",
       "</tr>\n",
       "<tr>\n",
       "  <th>MB</th>         <td>0.132</td>   <td>0.046</td>   <td>2.881</td> <td>0.004</td>  <td>0.042</td>  <td>0.221</td>\n",
       "</tr>\n",
       "<tr>\n",
       "  <th>ME</th>         <td>0.042</td>   <td>0.061</td>   <td>0.690</td> <td>0.490</td> <td>-0.078</td>  <td>0.163</td>\n",
       "</tr>\n",
       "<tr>\n",
       "  <th>MB:ME</th>     <td>-0.012</td>   <td>0.016</td>  <td>-0.769</td> <td>0.442</td> <td>-0.043</td>  <td>0.019</td>\n",
       "</tr>\n",
       "<tr>\n",
       "  <th>Group Var</th>  <td>0.109</td>   <td>0.108</td>     <td></td>      <td></td>       <td></td>       <td></td>   \n",
       "</tr>\n",
       "</table>"
      ],
      "text/plain": [
       "<class 'statsmodels.iolib.summary2.Summary'>\n",
       "\"\"\"\n",
       "            Mixed Linear Model Regression Results\n",
       "=============================================================\n",
       "Model:            MixedLM Dependent Variable: iCerb_LR_zstats\n",
       "No. Observations: 114     Method:             REML           \n",
       "No. Groups:       19      Scale:              0.2657         \n",
       "Min. group size:  6       Log-Likelihood:     -106.0804      \n",
       "Max. group size:  6       Converged:          Yes            \n",
       "Mean group size:  6.0                                        \n",
       "--------------------------------------------------------------\n",
       "               Coef.   Std.Err.    z     P>|z|  [0.025  0.975]\n",
       "--------------------------------------------------------------\n",
       "Intercept       0.120     0.194   0.619  0.536  -0.260   0.501\n",
       "MB              0.132     0.046   2.881  0.004   0.042   0.221\n",
       "ME              0.042     0.061   0.690  0.490  -0.078   0.163\n",
       "MB:ME          -0.012     0.016  -0.769  0.442  -0.043   0.019\n",
       "Group Var       0.109     0.108                               \n",
       "=============================================================\n",
       "\n",
       "\"\"\""
      ]
     },
     "metadata": {},
     "output_type": "display_data"
    },
    {
     "name": "stdout",
     "output_type": "stream",
     "text": [
      "beta\n"
     ]
    },
    {
     "data": {
      "text/html": [
       "<table class=\"simpletable\">\n",
       "<tr>\n",
       "       <td>Model:</td>       <td>MixedLM</td> <td>Dependent Variable:</td> <td>iCerb_LR_cope</td>\n",
       "</tr>\n",
       "<tr>\n",
       "  <td>No. Observations:</td>   <td>114</td>         <td>Method:</td>           <td>REML</td>     \n",
       "</tr>\n",
       "<tr>\n",
       "     <td>No. Groups:</td>      <td>19</td>          <td>Scale:</td>         <td>35473.3282</td>  \n",
       "</tr>\n",
       "<tr>\n",
       "  <td>Min. group size:</td>     <td>6</td>      <td>Log-Likelihood:</td>     <td>-755.1931</td>  \n",
       "</tr>\n",
       "<tr>\n",
       "  <td>Max. group size:</td>     <td>6</td>        <td>Converged:</td>           <td>Yes</td>     \n",
       "</tr>\n",
       "<tr>\n",
       "  <td>Mean group size:</td>    <td>6.0</td>            <td></td>                 <td></td>       \n",
       "</tr>\n",
       "</table>\n",
       "<table class=\"simpletable\">\n",
       "<tr>\n",
       "      <td></td>        <th>Coef.</th>   <th>Std.Err.</th>   <th>z</th>   <th>P>|z|</th> <th>[0.025</th>  <th>0.975]</th> \n",
       "</tr>\n",
       "<tr>\n",
       "  <th>Intercept</th>  <td>99.965</td>    <td>70.959</td>  <td>1.409</td> <td>0.159</td> <td>-39.112</td> <td>239.041</td>\n",
       "</tr>\n",
       "<tr>\n",
       "  <th>MB</th>         <td>10.213</td>    <td>16.686</td>  <td>0.612</td> <td>0.540</td> <td>-22.491</td> <td>42.916</td> \n",
       "</tr>\n",
       "<tr>\n",
       "  <th>ME</th>          <td>1.424</td>    <td>22.411</td>  <td>0.064</td> <td>0.949</td> <td>-42.500</td> <td>45.348</td> \n",
       "</tr>\n",
       "<tr>\n",
       "  <th>MB:ME</th>       <td>0.832</td>     <td>5.723</td>  <td>0.145</td> <td>0.884</td> <td>-10.386</td> <td>12.049</td> \n",
       "</tr>\n",
       "<tr>\n",
       "  <th>Group Var</th> <td>14556.056</td>  <td>39.611</td>    <td></td>      <td></td>       <td></td>        <td></td>    \n",
       "</tr>\n",
       "</table>"
      ],
      "text/plain": [
       "<class 'statsmodels.iolib.summary2.Summary'>\n",
       "\"\"\"\n",
       "           Mixed Linear Model Regression Results\n",
       "===========================================================\n",
       "Model:            MixedLM Dependent Variable: iCerb_LR_cope\n",
       "No. Observations: 114     Method:             REML         \n",
       "No. Groups:       19      Scale:              35473.3282   \n",
       "Min. group size:  6       Log-Likelihood:     -755.1931    \n",
       "Max. group size:  6       Converged:          Yes          \n",
       "Mean group size:  6.0                                      \n",
       "-----------------------------------------------------------\n",
       "               Coef.   Std.Err.   z   P>|z|  [0.025  0.975]\n",
       "-----------------------------------------------------------\n",
       "Intercept       99.965   70.959 1.409 0.159 -39.112 239.041\n",
       "MB              10.213   16.686 0.612 0.540 -22.491  42.916\n",
       "ME               1.424   22.411 0.064 0.949 -42.500  45.348\n",
       "MB:ME            0.832    5.723 0.145 0.884 -10.386  12.049\n",
       "Group Var    14556.056   39.611                            \n",
       "===========================================================\n",
       "\n",
       "\"\"\""
      ]
     },
     "metadata": {},
     "output_type": "display_data"
    },
    {
     "name": "stdout",
     "output_type": "stream",
     "text": [
      "HeadNeck_20\n",
      "z-stat\n"
     ]
    },
    {
     "data": {
      "text/html": [
       "<table class=\"simpletable\">\n",
       "<tr>\n",
       "       <td>Model:</td>       <td>MixedLM</td> <td>Dependent Variable:</td> <td>iCerb_LR_zstats</td>\n",
       "</tr>\n",
       "<tr>\n",
       "  <td>No. Observations:</td>   <td>69</td>          <td>Method:</td>            <td>REML</td>      \n",
       "</tr>\n",
       "<tr>\n",
       "     <td>No. Groups:</td>      <td>12</td>          <td>Scale:</td>            <td>0.2344</td>     \n",
       "</tr>\n",
       "<tr>\n",
       "  <td>Min. group size:</td>     <td>5</td>      <td>Log-Likelihood:</td>      <td>-60.6020</td>    \n",
       "</tr>\n",
       "<tr>\n",
       "  <td>Max. group size:</td>     <td>6</td>        <td>Converged:</td>            <td>Yes</td>      \n",
       "</tr>\n",
       "<tr>\n",
       "  <td>Mean group size:</td>    <td>5.8</td>            <td></td>                  <td></td>        \n",
       "</tr>\n",
       "</table>\n",
       "<table class=\"simpletable\">\n",
       "<tr>\n",
       "      <td></td>       <th>Coef.</th> <th>Std.Err.</th>    <th>z</th>   <th>P>|z|</th> <th>[0.025</th> <th>0.975]</th>\n",
       "</tr>\n",
       "<tr>\n",
       "  <th>Intercept</th> <td>-0.281</td>   <td>0.229</td>  <td>-1.224</td> <td>0.221</td> <td>-0.730</td>  <td>0.169</td>\n",
       "</tr>\n",
       "<tr>\n",
       "  <th>MB</th>         <td>0.153</td>   <td>0.055</td>   <td>2.773</td> <td>0.006</td>  <td>0.045</td>  <td>0.261</td>\n",
       "</tr>\n",
       "<tr>\n",
       "  <th>ME</th>         <td>0.190</td>   <td>0.074</td>   <td>2.559</td> <td>0.010</td>  <td>0.044</td>  <td>0.336</td>\n",
       "</tr>\n",
       "<tr>\n",
       "  <th>MB:ME</th>     <td>-0.044</td>   <td>0.019</td>  <td>-2.294</td> <td>0.022</td> <td>-0.081</td> <td>-0.006</td>\n",
       "</tr>\n",
       "<tr>\n",
       "  <th>Group Var</th>  <td>0.057</td>   <td>0.094</td>     <td></td>      <td></td>       <td></td>       <td></td>   \n",
       "</tr>\n",
       "</table>"
      ],
      "text/plain": [
       "<class 'statsmodels.iolib.summary2.Summary'>\n",
       "\"\"\"\n",
       "            Mixed Linear Model Regression Results\n",
       "=============================================================\n",
       "Model:            MixedLM Dependent Variable: iCerb_LR_zstats\n",
       "No. Observations: 69      Method:             REML           \n",
       "No. Groups:       12      Scale:              0.2344         \n",
       "Min. group size:  5       Log-Likelihood:     -60.6020       \n",
       "Max. group size:  6       Converged:          Yes            \n",
       "Mean group size:  5.8                                        \n",
       "--------------------------------------------------------------\n",
       "               Coef.   Std.Err.    z     P>|z|  [0.025  0.975]\n",
       "--------------------------------------------------------------\n",
       "Intercept      -0.281     0.229  -1.224  0.221  -0.730   0.169\n",
       "MB              0.153     0.055   2.773  0.006   0.045   0.261\n",
       "ME              0.190     0.074   2.559  0.010   0.044   0.336\n",
       "MB:ME          -0.044     0.019  -2.294  0.022  -0.081  -0.006\n",
       "Group Var       0.057     0.094                               \n",
       "=============================================================\n",
       "\n",
       "\"\"\""
      ]
     },
     "metadata": {},
     "output_type": "display_data"
    },
    {
     "name": "stdout",
     "output_type": "stream",
     "text": [
      "beta\n"
     ]
    },
    {
     "name": "stderr",
     "output_type": "stream",
     "text": [
      "/opt/anaconda3/lib/python3.9/site-packages/statsmodels/base/model.py:604: ConvergenceWarning: Maximum Likelihood optimization failed to converge. Check mle_retvals\n",
      "  warnings.warn(\"Maximum Likelihood optimization failed to \"\n",
      "/opt/anaconda3/lib/python3.9/site-packages/statsmodels/regression/mixed_linear_model.py:2200: ConvergenceWarning: Retrying MixedLM optimization with lbfgs\n",
      "  warnings.warn(\n",
      "/opt/anaconda3/lib/python3.9/site-packages/statsmodels/base/model.py:604: ConvergenceWarning: Maximum Likelihood optimization failed to converge. Check mle_retvals\n",
      "  warnings.warn(\"Maximum Likelihood optimization failed to \"\n",
      "/opt/anaconda3/lib/python3.9/site-packages/statsmodels/regression/mixed_linear_model.py:2200: ConvergenceWarning: Retrying MixedLM optimization with cg\n",
      "  warnings.warn(\n",
      "/opt/anaconda3/lib/python3.9/site-packages/statsmodels/base/model.py:604: ConvergenceWarning: Maximum Likelihood optimization failed to converge. Check mle_retvals\n",
      "  warnings.warn(\"Maximum Likelihood optimization failed to \"\n",
      "/opt/anaconda3/lib/python3.9/site-packages/statsmodels/regression/mixed_linear_model.py:2206: ConvergenceWarning: MixedLM optimization failed, trying a different optimizer may help.\n",
      "  warnings.warn(msg, ConvergenceWarning)\n",
      "/opt/anaconda3/lib/python3.9/site-packages/statsmodels/regression/mixed_linear_model.py:2218: ConvergenceWarning: Gradient optimization failed, |grad| = 0.238188\n",
      "  warnings.warn(msg, ConvergenceWarning)\n"
     ]
    },
    {
     "data": {
      "text/html": [
       "<table class=\"simpletable\">\n",
       "<tr>\n",
       "       <td>Model:</td>       <td>MixedLM</td> <td>Dependent Variable:</td> <td>iCerb_LR_cope</td>\n",
       "</tr>\n",
       "<tr>\n",
       "  <td>No. Observations:</td>   <td>69</td>          <td>Method:</td>           <td>REML</td>     \n",
       "</tr>\n",
       "<tr>\n",
       "     <td>No. Groups:</td>      <td>12</td>          <td>Scale:</td>         <td>38945.8315</td>  \n",
       "</tr>\n",
       "<tr>\n",
       "  <td>Min. group size:</td>     <td>5</td>      <td>Log-Likelihood:</td>     <td>-448.9090</td>  \n",
       "</tr>\n",
       "<tr>\n",
       "  <td>Max. group size:</td>     <td>6</td>        <td>Converged:</td>           <td>No</td>      \n",
       "</tr>\n",
       "<tr>\n",
       "  <td>Mean group size:</td>    <td>5.8</td>            <td></td>                 <td></td>       \n",
       "</tr>\n",
       "</table>\n",
       "<table class=\"simpletable\">\n",
       "<tr>\n",
       "      <td></td>        <th>Coef.</th>  <th>Std.Err.</th>    <th>z</th>   <th>P>|z|</th>  <th>[0.025</th>  <th>0.975]</th> \n",
       "</tr>\n",
       "<tr>\n",
       "  <th>Intercept</th>  <td>-88.113</td>  <td>90.788</td>  <td>-0.971</td> <td>0.332</td> <td>-266.054</td> <td>89.828</td> \n",
       "</tr>\n",
       "<tr>\n",
       "  <th>MB</th>         <td>45.217</td>   <td>22.457</td>   <td>2.014</td> <td>0.044</td>   <td>1.203</td>  <td>89.231</td> \n",
       "</tr>\n",
       "<tr>\n",
       "  <th>ME</th>         <td>63.878</td>   <td>30.251</td>   <td>2.112</td> <td>0.035</td>   <td>4.587</td>  <td>123.169</td>\n",
       "</tr>\n",
       "<tr>\n",
       "  <th>MB:ME</th>      <td>-12.943</td>   <td>7.729</td>  <td>-1.675</td> <td>0.094</td>  <td>-28.091</td>  <td>2.205</td> \n",
       "</tr>\n",
       "<tr>\n",
       "  <th>Group Var</th> <td>3789.915</td>  <td>25.354</td>     <td></td>      <td></td>        <td></td>        <td></td>    \n",
       "</tr>\n",
       "</table>"
      ],
      "text/plain": [
       "<class 'statsmodels.iolib.summary2.Summary'>\n",
       "\"\"\"\n",
       "           Mixed Linear Model Regression Results\n",
       "===========================================================\n",
       "Model:            MixedLM Dependent Variable: iCerb_LR_cope\n",
       "No. Observations: 69      Method:             REML         \n",
       "No. Groups:       12      Scale:              38945.8315   \n",
       "Min. group size:  5       Log-Likelihood:     -448.9090    \n",
       "Max. group size:  6       Converged:          No           \n",
       "Mean group size:  5.8                                      \n",
       "-----------------------------------------------------------\n",
       "             Coef.   Std.Err.   z    P>|z|  [0.025   0.975]\n",
       "-----------------------------------------------------------\n",
       "Intercept    -88.113   90.788 -0.971 0.332 -266.054  89.828\n",
       "MB            45.217   22.457  2.014 0.044    1.203  89.231\n",
       "ME            63.878   30.251  2.112 0.035    4.587 123.169\n",
       "MB:ME        -12.943    7.729 -1.675 0.094  -28.091   2.205\n",
       "Group Var   3789.915   25.354                              \n",
       "===========================================================\n",
       "\n",
       "\"\"\""
      ]
     },
     "metadata": {},
     "output_type": "display_data"
    },
    {
     "name": "stdout",
     "output_type": "stream",
     "text": [
      "Results for Zstatistics\n"
     ]
    },
    {
     "data": {
      "text/html": [
       "<table class=\"simpletable\">\n",
       "<tr>\n",
       "       <td>Model:</td>       <td>MixedLM</td> <td>Dependent Variable:</td> <td>iCerb_LR_zstats</td>\n",
       "</tr>\n",
       "<tr>\n",
       "  <td>No. Observations:</td>   <td>183</td>         <td>Method:</td>            <td>REML</td>      \n",
       "</tr>\n",
       "<tr>\n",
       "     <td>No. Groups:</td>      <td>31</td>          <td>Scale:</td>            <td>0.2541</td>     \n",
       "</tr>\n",
       "<tr>\n",
       "  <td>Min. group size:</td>     <td>5</td>      <td>Log-Likelihood:</td>      <td>-167.1649</td>   \n",
       "</tr>\n",
       "<tr>\n",
       "  <td>Max. group size:</td>     <td>6</td>        <td>Converged:</td>            <td>Yes</td>      \n",
       "</tr>\n",
       "<tr>\n",
       "  <td>Mean group size:</td>    <td>5.9</td>            <td></td>                  <td></td>        \n",
       "</tr>\n",
       "</table>\n",
       "<table class=\"simpletable\">\n",
       "<tr>\n",
       "                <td></td>                 <th>Coef.</th> <th>Std.Err.</th>    <th>z</th>   <th>P>|z|</th> <th>[0.025</th> <th>0.975]</th>\n",
       "</tr>\n",
       "<tr>\n",
       "  <th>Intercept</th>                     <td>-0.279</td>   <td>0.244</td>  <td>-1.144</td> <td>0.253</td> <td>-0.756</td>  <td>0.199</td>\n",
       "</tr>\n",
       "<tr>\n",
       "  <th>HeadCoil[T.HeadNeck_64]</th>        <td>0.399</td>   <td>0.308</td>   <td>1.296</td> <td>0.195</td> <td>-0.204</td>  <td>1.002</td>\n",
       "</tr>\n",
       "<tr>\n",
       "  <th>MB</th>                             <td>0.152</td>   <td>0.057</td>   <td>2.655</td> <td>0.008</td>  <td>0.040</td>  <td>0.265</td>\n",
       "</tr>\n",
       "<tr>\n",
       "  <th>MB:HeadCoil[T.HeadNeck_64]</th>    <td>-0.021</td>   <td>0.073</td>  <td>-0.287</td> <td>0.774</td> <td>-0.163</td>  <td>0.122</td>\n",
       "</tr>\n",
       "<tr>\n",
       "  <th>ME</th>                             <td>0.189</td>   <td>0.077</td>   <td>2.447</td> <td>0.014</td>  <td>0.038</td>  <td>0.341</td>\n",
       "</tr>\n",
       "<tr>\n",
       "  <th>ME:HeadCoil[T.HeadNeck_64]</th>    <td>-0.147</td>   <td>0.098</td>  <td>-1.501</td> <td>0.133</td> <td>-0.339</td>  <td>0.045</td>\n",
       "</tr>\n",
       "<tr>\n",
       "  <th>MB:ME</th>                         <td>-0.043</td>   <td>0.020</td>  <td>-2.192</td> <td>0.028</td> <td>-0.082</td> <td>-0.005</td>\n",
       "</tr>\n",
       "<tr>\n",
       "  <th>MB:ME:HeadCoil[T.HeadNeck_64]</th>  <td>0.031</td>   <td>0.025</td>   <td>1.251</td> <td>0.211</td> <td>-0.018</td>  <td>0.080</td>\n",
       "</tr>\n",
       "<tr>\n",
       "  <th>Group Var</th>                      <td>0.089</td>   <td>0.075</td>     <td></td>      <td></td>       <td></td>       <td></td>   \n",
       "</tr>\n",
       "</table>"
      ],
      "text/plain": [
       "<class 'statsmodels.iolib.summary2.Summary'>\n",
       "\"\"\"\n",
       "                 Mixed Linear Model Regression Results\n",
       "========================================================================\n",
       "Model:                 MixedLM    Dependent Variable:    iCerb_LR_zstats\n",
       "No. Observations:      183        Method:                REML           \n",
       "No. Groups:            31         Scale:                 0.2541         \n",
       "Min. group size:       5          Log-Likelihood:        -167.1649      \n",
       "Max. group size:       6          Converged:             Yes            \n",
       "Mean group size:       5.9                                              \n",
       "------------------------------------------------------------------------\n",
       "                              Coef.  Std.Err.   z    P>|z| [0.025 0.975]\n",
       "------------------------------------------------------------------------\n",
       "Intercept                     -0.279    0.244 -1.144 0.253 -0.756  0.199\n",
       "HeadCoil[T.HeadNeck_64]        0.399    0.308  1.296 0.195 -0.204  1.002\n",
       "MB                             0.152    0.057  2.655 0.008  0.040  0.265\n",
       "MB:HeadCoil[T.HeadNeck_64]    -0.021    0.073 -0.287 0.774 -0.163  0.122\n",
       "ME                             0.189    0.077  2.447 0.014  0.038  0.341\n",
       "ME:HeadCoil[T.HeadNeck_64]    -0.147    0.098 -1.501 0.133 -0.339  0.045\n",
       "MB:ME                         -0.043    0.020 -2.192 0.028 -0.082 -0.005\n",
       "MB:ME:HeadCoil[T.HeadNeck_64]  0.031    0.025  1.251 0.211 -0.018  0.080\n",
       "Group Var                      0.089    0.075                           \n",
       "========================================================================\n",
       "\n",
       "\"\"\""
      ]
     },
     "metadata": {},
     "output_type": "display_data"
    },
    {
     "data": {
      "image/png": "[encoded data removed]",
      "text/plain": [
       "<Figure size 1058.88x500 with 2 Axes>"
      ]
     },
     "metadata": {},
     "output_type": "display_data"
    },
    {
     "name": "stdout",
     "output_type": "stream",
     "text": [
      "Results for Cope\n"
     ]
    },
    {
     "data": {
      "text/html": [
       "<table class=\"simpletable\">\n",
       "<tr>\n",
       "       <td>Model:</td>       <td>MixedLM</td> <td>Dependent Variable:</td> <td>iCerb_LR_cope</td>\n",
       "</tr>\n",
       "<tr>\n",
       "  <td>No. Observations:</td>   <td>183</td>         <td>Method:</td>           <td>REML</td>     \n",
       "</tr>\n",
       "<tr>\n",
       "     <td>No. Groups:</td>      <td>31</td>          <td>Scale:</td>         <td>36807.7215</td>  \n",
       "</tr>\n",
       "<tr>\n",
       "  <td>Min. group size:</td>     <td>5</td>      <td>Log-Likelihood:</td>    <td>-1204.9565</td>  \n",
       "</tr>\n",
       "<tr>\n",
       "  <td>Max. group size:</td>     <td>6</td>        <td>Converged:</td>           <td>Yes</td>     \n",
       "</tr>\n",
       "<tr>\n",
       "  <td>Mean group size:</td>    <td>5.9</td>            <td></td>                 <td></td>       \n",
       "</tr>\n",
       "</table>\n",
       "<table class=\"simpletable\">\n",
       "<tr>\n",
       "                <td></td>                  <th>Coef.</th>   <th>Std.Err.</th>    <th>z</th>   <th>P>|z|</th>  <th>[0.025</th>  <th>0.975]</th> \n",
       "</tr>\n",
       "<tr>\n",
       "  <th>Intercept</th>                      <td>-86.142</td>   <td>91.555</td>  <td>-0.941</td> <td>0.347</td> <td>-265.586</td> <td>93.301</td> \n",
       "</tr>\n",
       "<tr>\n",
       "  <th>HeadCoil[T.HeadNeck_64]</th>        <td>186.107</td>   <td>115.597</td>  <td>1.610</td> <td>0.107</td>  <td>-40.459</td> <td>412.673</td>\n",
       "</tr>\n",
       "<tr>\n",
       "  <th>MB</th>                             <td>44.732</td>    <td>21.846</td>   <td>2.048</td> <td>0.041</td>   <td>1.914</td>  <td>87.549</td> \n",
       "</tr>\n",
       "<tr>\n",
       "  <th>MB:HeadCoil[T.HeadNeck_64]</th>     <td>-34.519</td>   <td>27.679</td>  <td>-1.247</td> <td>0.212</td>  <td>-88.769</td> <td>19.731</td> \n",
       "</tr>\n",
       "<tr>\n",
       "  <th>ME</th>                             <td>62.944</td>    <td>29.426</td>   <td>2.139</td> <td>0.032</td>   <td>5.270</td>  <td>120.618</td>\n",
       "</tr>\n",
       "<tr>\n",
       "  <th>ME:HeadCoil[T.HeadNeck_64]</th>     <td>-61.520</td>   <td>37.243</td>  <td>-1.652</td> <td>0.099</td> <td>-134.514</td> <td>11.475</td> \n",
       "</tr>\n",
       "<tr>\n",
       "  <th>MB:ME</th>                          <td>-12.659</td>    <td>7.516</td>  <td>-1.684</td> <td>0.092</td>  <td>-27.389</td>  <td>2.071</td> \n",
       "</tr>\n",
       "<tr>\n",
       "  <th>MB:ME:HeadCoil[T.HeadNeck_64]</th>  <td>13.491</td>     <td>9.512</td>   <td>1.418</td> <td>0.156</td>  <td>-5.152</td>  <td>32.133</td> \n",
       "</tr>\n",
       "<tr>\n",
       "  <th>Group Var</th>                     <td>10464.845</td>  <td>24.942</td>     <td></td>      <td></td>        <td></td>        <td></td>    \n",
       "</tr>\n",
       "</table>"
      ],
      "text/plain": [
       "<class 'statsmodels.iolib.summary2.Summary'>\n",
       "\"\"\"\n",
       "                    Mixed Linear Model Regression Results\n",
       "==============================================================================\n",
       "Model:                   MixedLM       Dependent Variable:       iCerb_LR_cope\n",
       "No. Observations:        183           Method:                   REML         \n",
       "No. Groups:              31            Scale:                    36807.7215   \n",
       "Min. group size:         5             Log-Likelihood:           -1204.9565   \n",
       "Max. group size:         6             Converged:                Yes          \n",
       "Mean group size:         5.9                                                  \n",
       "------------------------------------------------------------------------------\n",
       "                                Coef.   Std.Err.   z    P>|z|  [0.025   0.975]\n",
       "------------------------------------------------------------------------------\n",
       "Intercept                       -86.142   91.555 -0.941 0.347 -265.586  93.301\n",
       "HeadCoil[T.HeadNeck_64]         186.107  115.597  1.610 0.107  -40.459 412.673\n",
       "MB                               44.732   21.846  2.048 0.041    1.914  87.549\n",
       "MB:HeadCoil[T.HeadNeck_64]      -34.519   27.679 -1.247 0.212  -88.769  19.731\n",
       "ME                               62.944   29.426  2.139 0.032    5.270 120.618\n",
       "ME:HeadCoil[T.HeadNeck_64]      -61.520   37.243 -1.652 0.099 -134.514  11.475\n",
       "MB:ME                           -12.659    7.516 -1.684 0.092  -27.389   2.071\n",
       "MB:ME:HeadCoil[T.HeadNeck_64]    13.491    9.512  1.418 0.156   -5.152  32.133\n",
       "Group Var                     10464.845   24.942                              \n",
       "==============================================================================\n",
       "\n",
       "\"\"\""
      ]
     },
     "metadata": {},
     "output_type": "display_data"
    },
    {
     "data": {
      "text/plain": [
       "<Figure size 640x480 with 0 Axes>"
      ]
     },
     "metadata": {},
     "output_type": "display_data"
    },
    {
     "data": {
      "image/png": "[encoded data removed]",
      "text/plain": [
       "<Figure size 1058.88x500 with 2 Axes>"
      ]
     },
     "metadata": {},
     "output_type": "display_data"
    },
    {
     "data": {
      "text/plain": [
       "<Figure size 640x480 with 0 Axes>"
      ]
     },
     "metadata": {},
     "output_type": "display_data"
    },
    {
     "data": {
      "text/plain": [
       "<Figure size 640x480 with 0 Axes>"
      ]
     },
     "metadata": {},
     "output_type": "display_data"
    }
   ],
   "source": [
    "import statsmodels.formula.api as smf\n",
    "plt_df=subs[subs['L1act']]\n",
    "\n",
    "for HC in plt_df['HeadCoil'].unique():\n",
    "    mod_df = plt_df[plt_df['HeadCoil'] == HC]\n",
    "    print(HC)\n",
    "    print(\"z-stat\")\n",
    "    res=smf.mixedlm('iCerb_LR_zstats ~ MB * ME',data=mod_df,groups=mod_df['sub']).fit()\n",
    "    display(res.summary())\n",
    "    print(\"beta\")\n",
    "    res=smf.mixedlm('iCerb_LR_cope ~ MB * ME',data=mod_df,groups=mod_df['sub']).fit()\n",
    "    display(res.summary())\n",
    "    \n",
    "print(\"Results for Zstatistics\")\n",
    "res=smf.mixedlm('iCerb_LR_zstats ~ MB * ME * HeadCoil',data=plt_df,groups=plt_df['sub']).fit()\n",
    "display(res.summary())\n",
    "sns.catplot(x='MB',y='iCerb_LR_zstats',hue='ME',data=plt_df,kind='bar',order=[1,3,6],col='HeadCoil')\n",
    "\n",
    "plt.show()\n",
    "plt.savefig(\"../derivatives/figures/iCerb_LR-act_zstat.svg\")\n",
    "\n",
    "print(\"Results for Cope\")\n",
    "res=smf.mixedlm('iCerb_LR_cope ~ MB * ME * HeadCoil',data=plt_df,groups=plt_df['sub']).fit()\n",
    "display(res.summary())\n",
    "sns.catplot(x='MB',y='iCerb_LR_cope',hue='ME',col='HeadCoil',\n",
    "            data=plt_df,kind='bar',order=[1,3,6])\n",
    "plt.show()\n",
    "plt.savefig(\"../derivatives/figures/iCerb_LR-act_cope.svg\")\n",
    "\n",
    "\n",
    "# print(\"Results for VarCope\")\n",
    "# res=smf.mixedlm('iCerb_LR_varcope ~ MB * ME * HeadCoil',data=plt_df,groups=plt_df['sub']).fit()\n",
    "# display(res.summary())\n",
    "# sns.catplot(x='MB',y='iCerb_LR_varcope',hue='ME',col='HeadCoil',\n",
    "#             data=plt_df,kind='bar',order=[1,3,6])\n",
    "plt.show()\n",
    "plt.savefig(\"../derivatives/figures/iCerb_LR-act_varcope.svg\")"
   ]
  },
  {
   "cell_type": "markdown",
   "id": "b33b13bb",
   "metadata": {},
   "source": [
    "# SCerb-Button Activiation"
   ]
  },
  {
   "cell_type": "code",
   "execution_count": 33,
   "id": "e511723e",
   "metadata": {},
   "outputs": [
    {
     "name": "stderr",
     "output_type": "stream",
     "text": [
      "100%|███████████████████████████████████████| 190/190 [02:19<00:00,  1.36it/s]\n"
     ]
    }
   ],
   "source": [
    "masker= NiftiMasker(mask_img=sCerb_mask)\n",
    "                   \n",
    "copes=[]\n",
    "zstats=[]\n",
    "varcopes=[]\n",
    "for index,row in tqdm(subs.iterrows(),total=subs.shape[0]):\n",
    "    sub=row['sub']\n",
    "    aqc=row['acq']\n",
    "    cope='../derivatives/fsl/%s/L1_task-sharedreward_model-1_type-act_acq-%s_sm-4.feat/stats/cope12.nii.gz'%(sub,aqc)\n",
    "    zstat='../derivatives/fsl/%s/L1_task-sharedreward_model-1_type-act_acq-%s_sm-4.feat/stats/zstat12.nii.gz'%(sub,aqc)\n",
    "    varcope='../derivatives/fsl/%s/L1_task-sharedreward_model-1_type-act_acq-%s_sm-4.feat/stats/varcope12.nii.gz'%(sub,aqc)\n",
    "    \n",
    "    if os.path.exists(cope):\n",
    "        #Extracting VS Reward cope,zstat, and varcope\n",
    "        x=masker.fit_transform(cope)\n",
    "        copes.append(np.mean(x.flatten()))\n",
    "\n",
    "        x=masker.fit_transform(zstat)\n",
    "        zstats.append(np.mean(x.flatten()))\n",
    "\n",
    "        x=masker.fit_transform(varcope)\n",
    "        varcopes.append(np.mean(x.flatten()))\n",
    "    else:\n",
    "        copes.append(np.nan)\n",
    "        zstats.append(np.nan)\n",
    "        varcopes.append(np.nan)\n",
    "        \n",
    "subs = subs.assign(Motor_LR_cope=copes,\n",
    "               Motor_LR_zstats=zstats,\n",
    "               Motor_LR_varcope=varcopes)"
   ]
  },
  {
   "cell_type": "markdown",
   "id": "260824cb",
   "metadata": {},
   "source": [
    "# Display Superior Cerebellar Activation by Acquisition"
   ]
  },
  {
   "cell_type": "code",
   "execution_count": 35,
   "id": "235ebdd6",
   "metadata": {},
   "outputs": [
    {
     "name": "stdout",
     "output_type": "stream",
     "text": [
      "HeadNeck_64\n",
      "z-stat\n"
     ]
    },
    {
     "data": {
      "text/html": [
       "<table class=\"simpletable\">\n",
       "<tr>\n",
       "       <td>Model:</td>       <td>MixedLM</td> <td>Dependent Variable:</td> <td>Motor_LR_zstats</td>\n",
       "</tr>\n",
       "<tr>\n",
       "  <td>No. Observations:</td>   <td>114</td>         <td>Method:</td>            <td>REML</td>      \n",
       "</tr>\n",
       "<tr>\n",
       "     <td>No. Groups:</td>      <td>19</td>          <td>Scale:</td>            <td>0.2201</td>     \n",
       "</tr>\n",
       "<tr>\n",
       "  <td>Min. group size:</td>     <td>6</td>      <td>Log-Likelihood:</td>      <td>-99.1308</td>    \n",
       "</tr>\n",
       "<tr>\n",
       "  <td>Max. group size:</td>     <td>6</td>        <td>Converged:</td>            <td>Yes</td>      \n",
       "</tr>\n",
       "<tr>\n",
       "  <td>Mean group size:</td>    <td>6.0</td>            <td></td>                  <td></td>        \n",
       "</tr>\n",
       "</table>\n",
       "<table class=\"simpletable\">\n",
       "<tr>\n",
       "      <td></td>       <th>Coef.</th> <th>Std.Err.</th>    <th>z</th>   <th>P>|z|</th> <th>[0.025</th> <th>0.975]</th>\n",
       "</tr>\n",
       "<tr>\n",
       "  <th>Intercept</th>  <td>0.232</td>   <td>0.185</td>   <td>1.254</td> <td>0.210</td> <td>-0.131</td>  <td>0.595</td>\n",
       "</tr>\n",
       "<tr>\n",
       "  <th>MB</th>         <td>0.152</td>   <td>0.042</td>   <td>3.668</td> <td>0.000</td>  <td>0.071</td>  <td>0.234</td>\n",
       "</tr>\n",
       "<tr>\n",
       "  <th>ME</th>         <td>0.065</td>   <td>0.056</td>   <td>1.160</td> <td>0.246</td> <td>-0.045</td>  <td>0.174</td>\n",
       "</tr>\n",
       "<tr>\n",
       "  <th>MB:ME</th>     <td>-0.024</td>   <td>0.014</td>  <td>-1.656</td> <td>0.098</td> <td>-0.052</td>  <td>0.004</td>\n",
       "</tr>\n",
       "<tr>\n",
       "  <th>Group Var</th>  <td>0.149</td>   <td>0.144</td>     <td></td>      <td></td>       <td></td>       <td></td>   \n",
       "</tr>\n",
       "</table>"
      ],
      "text/plain": [
       "<class 'statsmodels.iolib.summary2.Summary'>\n",
       "\"\"\"\n",
       "            Mixed Linear Model Regression Results\n",
       "=============================================================\n",
       "Model:            MixedLM Dependent Variable: Motor_LR_zstats\n",
       "No. Observations: 114     Method:             REML           \n",
       "No. Groups:       19      Scale:              0.2201         \n",
       "Min. group size:  6       Log-Likelihood:     -99.1308       \n",
       "Max. group size:  6       Converged:          Yes            \n",
       "Mean group size:  6.0                                        \n",
       "--------------------------------------------------------------\n",
       "               Coef.   Std.Err.    z     P>|z|  [0.025  0.975]\n",
       "--------------------------------------------------------------\n",
       "Intercept       0.232     0.185   1.254  0.210  -0.131   0.595\n",
       "MB              0.152     0.042   3.668  0.000   0.071   0.234\n",
       "ME              0.065     0.056   1.160  0.246  -0.045   0.174\n",
       "MB:ME          -0.024     0.014  -1.656  0.098  -0.052   0.004\n",
       "Group Var       0.149     0.144                               \n",
       "=============================================================\n",
       "\n",
       "\"\"\""
      ]
     },
     "metadata": {},
     "output_type": "display_data"
    },
    {
     "name": "stdout",
     "output_type": "stream",
     "text": [
      "beta\n"
     ]
    },
    {
     "data": {
      "text/html": [
       "<table class=\"simpletable\">\n",
       "<tr>\n",
       "       <td>Model:</td>       <td>MixedLM</td> <td>Dependent Variable:</td> <td>Motor_LR_cope</td>\n",
       "</tr>\n",
       "<tr>\n",
       "  <td>No. Observations:</td>   <td>114</td>         <td>Method:</td>           <td>REML</td>     \n",
       "</tr>\n",
       "<tr>\n",
       "     <td>No. Groups:</td>      <td>19</td>          <td>Scale:</td>         <td>36950.3144</td>  \n",
       "</tr>\n",
       "<tr>\n",
       "  <td>Min. group size:</td>     <td>6</td>      <td>Log-Likelihood:</td>     <td>-758.8933</td>  \n",
       "</tr>\n",
       "<tr>\n",
       "  <td>Max. group size:</td>     <td>6</td>        <td>Converged:</td>           <td>Yes</td>     \n",
       "</tr>\n",
       "<tr>\n",
       "  <td>Mean group size:</td>    <td>6.0</td>            <td></td>                 <td></td>       \n",
       "</tr>\n",
       "</table>\n",
       "<table class=\"simpletable\">\n",
       "<tr>\n",
       "      <td></td>        <th>Coef.</th>   <th>Std.Err.</th>    <th>z</th>   <th>P>|z|</th> <th>[0.025</th>  <th>0.975]</th> \n",
       "</tr>\n",
       "<tr>\n",
       "  <th>Intercept</th>  <td>169.121</td>   <td>73.769</td>   <td>2.293</td> <td>0.022</td> <td>24.536</td>  <td>313.706</td>\n",
       "</tr>\n",
       "<tr>\n",
       "  <th>MB</th>         <td>12.379</td>    <td>17.030</td>   <td>0.727</td> <td>0.467</td> <td>-20.999</td> <td>45.756</td> \n",
       "</tr>\n",
       "<tr>\n",
       "  <th>ME</th>         <td>16.566</td>    <td>22.872</td>   <td>0.724</td> <td>0.469</td> <td>-28.263</td> <td>61.395</td> \n",
       "</tr>\n",
       "<tr>\n",
       "  <th>MB:ME</th>      <td>-4.490</td>     <td>5.841</td>  <td>-0.769</td> <td>0.442</td> <td>-15.939</td>  <td>6.958</td> \n",
       "</tr>\n",
       "<tr>\n",
       "  <th>Group Var</th> <td>18907.432</td>  <td>47.529</td>     <td></td>      <td></td>       <td></td>        <td></td>    \n",
       "</tr>\n",
       "</table>"
      ],
      "text/plain": [
       "<class 'statsmodels.iolib.summary2.Summary'>\n",
       "\"\"\"\n",
       "           Mixed Linear Model Regression Results\n",
       "===========================================================\n",
       "Model:            MixedLM Dependent Variable: Motor_LR_cope\n",
       "No. Observations: 114     Method:             REML         \n",
       "No. Groups:       19      Scale:              36950.3144   \n",
       "Min. group size:  6       Log-Likelihood:     -758.8933    \n",
       "Max. group size:  6       Converged:          Yes          \n",
       "Mean group size:  6.0                                      \n",
       "-----------------------------------------------------------\n",
       "              Coef.   Std.Err.   z    P>|z|  [0.025  0.975]\n",
       "-----------------------------------------------------------\n",
       "Intercept     169.121   73.769  2.293 0.022  24.536 313.706\n",
       "MB             12.379   17.030  0.727 0.467 -20.999  45.756\n",
       "ME             16.566   22.872  0.724 0.469 -28.263  61.395\n",
       "MB:ME          -4.490    5.841 -0.769 0.442 -15.939   6.958\n",
       "Group Var   18907.432   47.529                             \n",
       "===========================================================\n",
       "\n",
       "\"\"\""
      ]
     },
     "metadata": {},
     "output_type": "display_data"
    },
    {
     "name": "stdout",
     "output_type": "stream",
     "text": [
      "HeadNeck_20\n",
      "z-stat\n"
     ]
    },
    {
     "data": {
      "text/html": [
       "<table class=\"simpletable\">\n",
       "<tr>\n",
       "       <td>Model:</td>       <td>MixedLM</td> <td>Dependent Variable:</td> <td>Motor_LR_zstats</td>\n",
       "</tr>\n",
       "<tr>\n",
       "  <td>No. Observations:</td>   <td>69</td>          <td>Method:</td>            <td>REML</td>      \n",
       "</tr>\n",
       "<tr>\n",
       "     <td>No. Groups:</td>      <td>12</td>          <td>Scale:</td>            <td>0.2708</td>     \n",
       "</tr>\n",
       "<tr>\n",
       "  <td>Min. group size:</td>     <td>5</td>      <td>Log-Likelihood:</td>      <td>-63.9048</td>    \n",
       "</tr>\n",
       "<tr>\n",
       "  <td>Max. group size:</td>     <td>6</td>        <td>Converged:</td>            <td>Yes</td>      \n",
       "</tr>\n",
       "<tr>\n",
       "  <td>Mean group size:</td>    <td>5.8</td>            <td></td>                  <td></td>        \n",
       "</tr>\n",
       "</table>\n",
       "<table class=\"simpletable\">\n",
       "<tr>\n",
       "      <td></td>       <th>Coef.</th> <th>Std.Err.</th>    <th>z</th>   <th>P>|z|</th> <th>[0.025</th> <th>0.975]</th>\n",
       "</tr>\n",
       "<tr>\n",
       "  <th>Intercept</th>  <td>0.105</td>   <td>0.242</td>   <td>0.432</td> <td>0.666</td> <td>-0.370</td>  <td>0.579</td>\n",
       "</tr>\n",
       "<tr>\n",
       "  <th>MB</th>         <td>0.101</td>   <td>0.059</td>   <td>1.706</td> <td>0.088</td> <td>-0.015</td>  <td>0.217</td>\n",
       "</tr>\n",
       "<tr>\n",
       "  <th>ME</th>         <td>0.082</td>   <td>0.080</td>   <td>1.032</td> <td>0.302</td> <td>-0.074</td>  <td>0.239</td>\n",
       "</tr>\n",
       "<tr>\n",
       "  <th>MB:ME</th>     <td>-0.018</td>   <td>0.020</td>  <td>-0.892</td> <td>0.373</td> <td>-0.058</td>  <td>0.022</td>\n",
       "</tr>\n",
       "<tr>\n",
       "  <th>Group Var</th>  <td>0.041</td>   <td>0.077</td>     <td></td>      <td></td>       <td></td>       <td></td>   \n",
       "</tr>\n",
       "</table>"
      ],
      "text/plain": [
       "<class 'statsmodels.iolib.summary2.Summary'>\n",
       "\"\"\"\n",
       "            Mixed Linear Model Regression Results\n",
       "=============================================================\n",
       "Model:            MixedLM Dependent Variable: Motor_LR_zstats\n",
       "No. Observations: 69      Method:             REML           \n",
       "No. Groups:       12      Scale:              0.2708         \n",
       "Min. group size:  5       Log-Likelihood:     -63.9048       \n",
       "Max. group size:  6       Converged:          Yes            \n",
       "Mean group size:  5.8                                        \n",
       "--------------------------------------------------------------\n",
       "               Coef.   Std.Err.    z     P>|z|  [0.025  0.975]\n",
       "--------------------------------------------------------------\n",
       "Intercept       0.105     0.242   0.432  0.666  -0.370   0.579\n",
       "MB              0.101     0.059   1.706  0.088  -0.015   0.217\n",
       "ME              0.082     0.080   1.032  0.302  -0.074   0.239\n",
       "MB:ME          -0.018     0.020  -0.892  0.373  -0.058   0.022\n",
       "Group Var       0.041     0.077                               \n",
       "=============================================================\n",
       "\n",
       "\"\"\""
      ]
     },
     "metadata": {},
     "output_type": "display_data"
    },
    {
     "name": "stdout",
     "output_type": "stream",
     "text": [
      "beta\n"
     ]
    },
    {
     "name": "stderr",
     "output_type": "stream",
     "text": [
      "/opt/anaconda3/lib/python3.9/site-packages/statsmodels/regression/mixed_linear_model.py:2237: ConvergenceWarning: The MLE may be on the boundary of the parameter space.\n",
      "  warnings.warn(msg, ConvergenceWarning)\n"
     ]
    },
    {
     "data": {
      "text/html": [
       "<table class=\"simpletable\">\n",
       "<tr>\n",
       "       <td>Model:</td>       <td>MixedLM</td> <td>Dependent Variable:</td> <td>Motor_LR_cope</td>\n",
       "</tr>\n",
       "<tr>\n",
       "  <td>No. Observations:</td>   <td>69</td>          <td>Method:</td>           <td>REML</td>     \n",
       "</tr>\n",
       "<tr>\n",
       "     <td>No. Groups:</td>      <td>12</td>          <td>Scale:</td>         <td>45904.7125</td>  \n",
       "</tr>\n",
       "<tr>\n",
       "  <td>Min. group size:</td>     <td>5</td>      <td>Log-Likelihood:</td>     <td>-451.8148</td>  \n",
       "</tr>\n",
       "<tr>\n",
       "  <td>Max. group size:</td>     <td>6</td>        <td>Converged:</td>           <td>Yes</td>     \n",
       "</tr>\n",
       "<tr>\n",
       "  <td>Mean group size:</td>    <td>5.8</td>            <td></td>                 <td></td>       \n",
       "</tr>\n",
       "</table>\n",
       "<table class=\"simpletable\">\n",
       "<tr>\n",
       "      <td></td>       <th>Coef.</th>  <th>Std.Err.</th>    <th>z</th>   <th>P>|z|</th> <th>[0.025</th>  <th>0.975]</th> \n",
       "</tr>\n",
       "<tr>\n",
       "  <th>Intercept</th> <td>163.889</td>  <td>96.454</td>   <td>1.699</td> <td>0.089</td> <td>-25.158</td> <td>352.935</td>\n",
       "</tr>\n",
       "<tr>\n",
       "  <th>MB</th>        <td>-3.044</td>   <td>24.347</td>  <td>-0.125</td> <td>0.900</td> <td>-50.764</td> <td>44.675</td> \n",
       "</tr>\n",
       "<tr>\n",
       "  <th>ME</th>        <td>-7.244</td>   <td>32.778</td>  <td>-0.221</td> <td>0.825</td> <td>-71.488</td> <td>57.000</td> \n",
       "</tr>\n",
       "<tr>\n",
       "  <th>MB:ME</th>      <td>4.440</td>    <td>8.373</td>   <td>0.530</td> <td>0.596</td> <td>-11.971</td> <td>20.851</td> \n",
       "</tr>\n",
       "<tr>\n",
       "  <th>Group Var</th>  <td>0.004</td>   <td>17.236</td>     <td></td>      <td></td>       <td></td>        <td></td>    \n",
       "</tr>\n",
       "</table>"
      ],
      "text/plain": [
       "<class 'statsmodels.iolib.summary2.Summary'>\n",
       "\"\"\"\n",
       "           Mixed Linear Model Regression Results\n",
       "===========================================================\n",
       "Model:            MixedLM Dependent Variable: Motor_LR_cope\n",
       "No. Observations: 69      Method:             REML         \n",
       "No. Groups:       12      Scale:              45904.7125   \n",
       "Min. group size:  5       Log-Likelihood:     -451.8148    \n",
       "Max. group size:  6       Converged:          Yes          \n",
       "Mean group size:  5.8                                      \n",
       "-----------------------------------------------------------\n",
       "               Coef.  Std.Err.   z    P>|z|  [0.025  0.975]\n",
       "-----------------------------------------------------------\n",
       "Intercept     163.889   96.454  1.699 0.089 -25.158 352.935\n",
       "MB             -3.044   24.347 -0.125 0.900 -50.764  44.675\n",
       "ME             -7.244   32.778 -0.221 0.825 -71.488  57.000\n",
       "MB:ME           4.440    8.373  0.530 0.596 -11.971  20.851\n",
       "Group Var       0.004   17.236                             \n",
       "===========================================================\n",
       "\n",
       "\"\"\""
      ]
     },
     "metadata": {},
     "output_type": "display_data"
    },
    {
     "name": "stdout",
     "output_type": "stream",
     "text": [
      "Results for Zstatistics\n"
     ]
    },
    {
     "data": {
      "text/html": [
       "<table class=\"simpletable\">\n",
       "<tr>\n",
       "       <td>Model:</td>       <td>MixedLM</td> <td>Dependent Variable:</td> <td>Motor_LR_zstats</td>\n",
       "</tr>\n",
       "<tr>\n",
       "  <td>No. Observations:</td>   <td>183</td>         <td>Method:</td>            <td>REML</td>      \n",
       "</tr>\n",
       "<tr>\n",
       "     <td>No. Groups:</td>      <td>31</td>          <td>Scale:</td>            <td>0.2390</td>     \n",
       "</tr>\n",
       "<tr>\n",
       "  <td>Min. group size:</td>     <td>5</td>      <td>Log-Likelihood:</td>      <td>-164.3428</td>   \n",
       "</tr>\n",
       "<tr>\n",
       "  <td>Max. group size:</td>     <td>6</td>        <td>Converged:</td>            <td>Yes</td>      \n",
       "</tr>\n",
       "<tr>\n",
       "  <td>Mean group size:</td>    <td>5.9</td>            <td></td>                  <td></td>        \n",
       "</tr>\n",
       "</table>\n",
       "<table class=\"simpletable\">\n",
       "<tr>\n",
       "                <td></td>                 <th>Coef.</th> <th>Std.Err.</th>    <th>z</th>   <th>P>|z|</th> <th>[0.025</th> <th>0.975]</th>\n",
       "</tr>\n",
       "<tr>\n",
       "  <th>Intercept</th>                      <td>0.103</td>   <td>0.240</td>   <td>0.427</td> <td>0.669</td> <td>-0.369</td>  <td>0.574</td>\n",
       "</tr>\n",
       "<tr>\n",
       "  <th>HeadCoil[T.HeadNeck_64]</th>        <td>0.130</td>   <td>0.304</td>   <td>0.427</td> <td>0.670</td> <td>-0.466</td>  <td>0.725</td>\n",
       "</tr>\n",
       "<tr>\n",
       "  <th>MB</th>                             <td>0.102</td>   <td>0.056</td>   <td>1.823</td> <td>0.068</td> <td>-0.008</td>  <td>0.211</td>\n",
       "</tr>\n",
       "<tr>\n",
       "  <th>MB:HeadCoil[T.HeadNeck_64]</th>     <td>0.051</td>   <td>0.071</td>   <td>0.722</td> <td>0.470</td> <td>-0.087</td>  <td>0.189</td>\n",
       "</tr>\n",
       "<tr>\n",
       "  <th>ME</th>                             <td>0.083</td>   <td>0.075</td>   <td>1.100</td> <td>0.271</td> <td>-0.064</td>  <td>0.230</td>\n",
       "</tr>\n",
       "<tr>\n",
       "  <th>ME:HeadCoil[T.HeadNeck_64]</th>    <td>-0.018</td>   <td>0.095</td>  <td>-0.187</td> <td>0.852</td> <td>-0.204</td>  <td>0.168</td>\n",
       "</tr>\n",
       "<tr>\n",
       "  <th>MB:ME</th>                         <td>-0.018</td>   <td>0.019</td>  <td>-0.959</td> <td>0.338</td> <td>-0.056</td>  <td>0.019</td>\n",
       "</tr>\n",
       "<tr>\n",
       "  <th>MB:ME:HeadCoil[T.HeadNeck_64]</th> <td>-0.005</td>   <td>0.024</td>  <td>-0.216</td> <td>0.829</td> <td>-0.053</td>  <td>0.042</td>\n",
       "</tr>\n",
       "<tr>\n",
       "  <th>Group Var</th>                      <td>0.108</td>   <td>0.087</td>     <td></td>      <td></td>       <td></td>       <td></td>   \n",
       "</tr>\n",
       "</table>"
      ],
      "text/plain": [
       "<class 'statsmodels.iolib.summary2.Summary'>\n",
       "\"\"\"\n",
       "                 Mixed Linear Model Regression Results\n",
       "========================================================================\n",
       "Model:                 MixedLM    Dependent Variable:    Motor_LR_zstats\n",
       "No. Observations:      183        Method:                REML           \n",
       "No. Groups:            31         Scale:                 0.2390         \n",
       "Min. group size:       5          Log-Likelihood:        -164.3428      \n",
       "Max. group size:       6          Converged:             Yes            \n",
       "Mean group size:       5.9                                              \n",
       "------------------------------------------------------------------------\n",
       "                              Coef.  Std.Err.   z    P>|z| [0.025 0.975]\n",
       "------------------------------------------------------------------------\n",
       "Intercept                      0.103    0.240  0.427 0.669 -0.369  0.574\n",
       "HeadCoil[T.HeadNeck_64]        0.130    0.304  0.427 0.670 -0.466  0.725\n",
       "MB                             0.102    0.056  1.823 0.068 -0.008  0.211\n",
       "MB:HeadCoil[T.HeadNeck_64]     0.051    0.071  0.722 0.470 -0.087  0.189\n",
       "ME                             0.083    0.075  1.100 0.271 -0.064  0.230\n",
       "ME:HeadCoil[T.HeadNeck_64]    -0.018    0.095 -0.187 0.852 -0.204  0.168\n",
       "MB:ME                         -0.018    0.019 -0.959 0.338 -0.056  0.019\n",
       "MB:ME:HeadCoil[T.HeadNeck_64] -0.005    0.024 -0.216 0.829 -0.053  0.042\n",
       "Group Var                      0.108    0.087                           \n",
       "========================================================================\n",
       "\n",
       "\"\"\""
      ]
     },
     "metadata": {},
     "output_type": "display_data"
    },
    {
     "data": {
      "image/png": "[encoded data removed]",
      "text/plain": [
       "<Figure size 1058.88x500 with 2 Axes>"
      ]
     },
     "metadata": {},
     "output_type": "display_data"
    },
    {
     "name": "stdout",
     "output_type": "stream",
     "text": [
      "Results for Cope\n"
     ]
    },
    {
     "data": {
      "text/html": [
       "<table class=\"simpletable\">\n",
       "<tr>\n",
       "       <td>Model:</td>       <td>MixedLM</td> <td>Dependent Variable:</td> <td>Motor_LR_cope</td>\n",
       "</tr>\n",
       "<tr>\n",
       "  <td>No. Observations:</td>   <td>183</td>         <td>Method:</td>           <td>REML</td>     \n",
       "</tr>\n",
       "<tr>\n",
       "     <td>No. Groups:</td>      <td>31</td>          <td>Scale:</td>         <td>40417.2017</td>  \n",
       "</tr>\n",
       "<tr>\n",
       "  <td>Min. group size:</td>     <td>5</td>      <td>Log-Likelihood:</td>    <td>-1213.2946</td>  \n",
       "</tr>\n",
       "<tr>\n",
       "  <td>Max. group size:</td>     <td>6</td>        <td>Converged:</td>           <td>Yes</td>     \n",
       "</tr>\n",
       "<tr>\n",
       "  <td>Mean group size:</td>    <td>5.9</td>            <td></td>                 <td></td>       \n",
       "</tr>\n",
       "</table>\n",
       "<table class=\"simpletable\">\n",
       "<tr>\n",
       "                <td></td>                  <th>Coef.</th>   <th>Std.Err.</th>    <th>z</th>   <th>P>|z|</th>  <th>[0.025</th>  <th>0.975]</th> \n",
       "</tr>\n",
       "<tr>\n",
       "  <th>Intercept</th>                      <td>161.935</td>   <td>96.022</td>   <td>1.686</td> <td>0.092</td>  <td>-26.264</td> <td>350.134</td>\n",
       "</tr>\n",
       "<tr>\n",
       "  <th>HeadCoil[T.HeadNeck_64]</th>         <td>7.186</td>    <td>121.240</td>  <td>0.059</td> <td>0.953</td> <td>-230.440</td> <td>244.812</td>\n",
       "</tr>\n",
       "<tr>\n",
       "  <th>MB</th>                             <td>-2.634</td>    <td>22.891</td>  <td>-0.115</td> <td>0.908</td>  <td>-47.501</td> <td>42.232</td> \n",
       "</tr>\n",
       "<tr>\n",
       "  <th>MB:HeadCoil[T.HeadNeck_64]</th>     <td>15.013</td>    <td>29.004</td>   <td>0.518</td> <td>0.605</td>  <td>-41.834</td> <td>71.860</td> \n",
       "</tr>\n",
       "<tr>\n",
       "  <th>ME</th>                             <td>-7.153</td>    <td>30.833</td>  <td>-0.232</td> <td>0.817</td>  <td>-67.584</td> <td>53.279</td> \n",
       "</tr>\n",
       "<tr>\n",
       "  <th>ME:HeadCoil[T.HeadNeck_64]</th>     <td>23.719</td>    <td>39.024</td>   <td>0.608</td> <td>0.543</td>  <td>-52.768</td> <td>100.205</td>\n",
       "</tr>\n",
       "<tr>\n",
       "  <th>MB:ME</th>                           <td>4.392</td>     <td>7.875</td>   <td>0.558</td> <td>0.577</td>  <td>-11.042</td> <td>19.826</td> \n",
       "</tr>\n",
       "<tr>\n",
       "  <th>MB:ME:HeadCoil[T.HeadNeck_64]</th>  <td>-8.882</td>     <td>9.966</td>  <td>-0.891</td> <td>0.373</td>  <td>-28.416</td> <td>10.651</td> \n",
       "</tr>\n",
       "<tr>\n",
       "  <th>Group Var</th>                     <td>11685.367</td>  <td>26.337</td>     <td></td>      <td></td>        <td></td>        <td></td>    \n",
       "</tr>\n",
       "</table>"
      ],
      "text/plain": [
       "<class 'statsmodels.iolib.summary2.Summary'>\n",
       "\"\"\"\n",
       "                    Mixed Linear Model Regression Results\n",
       "==============================================================================\n",
       "Model:                   MixedLM       Dependent Variable:       Motor_LR_cope\n",
       "No. Observations:        183           Method:                   REML         \n",
       "No. Groups:              31            Scale:                    40417.2017   \n",
       "Min. group size:         5             Log-Likelihood:           -1213.2946   \n",
       "Max. group size:         6             Converged:                Yes          \n",
       "Mean group size:         5.9                                                  \n",
       "------------------------------------------------------------------------------\n",
       "                                Coef.   Std.Err.   z    P>|z|  [0.025   0.975]\n",
       "------------------------------------------------------------------------------\n",
       "Intercept                       161.935   96.022  1.686 0.092  -26.264 350.134\n",
       "HeadCoil[T.HeadNeck_64]           7.186  121.240  0.059 0.953 -230.440 244.812\n",
       "MB                               -2.634   22.891 -0.115 0.908  -47.501  42.232\n",
       "MB:HeadCoil[T.HeadNeck_64]       15.013   29.004  0.518 0.605  -41.834  71.860\n",
       "ME                               -7.153   30.833 -0.232 0.817  -67.584  53.279\n",
       "ME:HeadCoil[T.HeadNeck_64]       23.719   39.024  0.608 0.543  -52.768 100.205\n",
       "MB:ME                             4.392    7.875  0.558 0.577  -11.042  19.826\n",
       "MB:ME:HeadCoil[T.HeadNeck_64]    -8.882    9.966 -0.891 0.373  -28.416  10.651\n",
       "Group Var                     11685.367   26.337                              \n",
       "==============================================================================\n",
       "\n",
       "\"\"\""
      ]
     },
     "metadata": {},
     "output_type": "display_data"
    },
    {
     "data": {
      "text/plain": [
       "<Figure size 640x480 with 0 Axes>"
      ]
     },
     "metadata": {},
     "output_type": "display_data"
    },
    {
     "data": {
      "image/png": "[encoded data removed]",
      "text/plain": [
       "<Figure size 1058.88x500 with 2 Axes>"
      ]
     },
     "metadata": {},
     "output_type": "display_data"
    },
    {
     "data": {
      "text/plain": [
       "<Figure size 640x480 with 0 Axes>"
      ]
     },
     "metadata": {},
     "output_type": "display_data"
    },
    {
     "data": {
      "text/plain": [
       "<Figure size 640x480 with 0 Axes>"
      ]
     },
     "metadata": {},
     "output_type": "display_data"
    }
   ],
   "source": [
    "import statsmodels.formula.api as smf\n",
    "plt_df=subs[subs['L1act']]\n",
    "\n",
    "for HC in plt_df['HeadCoil'].unique():\n",
    "    mod_df = plt_df[plt_df['HeadCoil'] == HC]\n",
    "    print(HC)\n",
    "    print(\"z-stat\")\n",
    "    res=smf.mixedlm('Motor_LR_zstats ~ MB * ME',data=mod_df,groups=mod_df['sub']).fit()\n",
    "    display(res.summary())\n",
    "    print(\"beta\")\n",
    "    res=smf.mixedlm('Motor_LR_cope ~ MB * ME',data=mod_df,groups=mod_df['sub']).fit()\n",
    "    display(res.summary())\n",
    "    \n",
    "print(\"Results for Zstatistics\")\n",
    "res=smf.mixedlm('Motor_LR_zstats ~ MB * ME * HeadCoil',data=plt_df,groups=plt_df['sub']).fit()\n",
    "display(res.summary())\n",
    "sns.catplot(x='MB',y='Motor_LR_zstats',hue='ME',data=plt_df,kind='bar',order=[1,3,6],col='HeadCoil')\n",
    "\n",
    "plt.show()\n",
    "plt.savefig(\"../derivatives/figures/Motor_LR-act_zstat.svg\")\n",
    "\n",
    "print(\"Results for Cope\")\n",
    "res=smf.mixedlm('Motor_LR_cope ~ MB * ME * HeadCoil',data=plt_df,groups=plt_df['sub']).fit()\n",
    "display(res.summary())\n",
    "sns.catplot(x='MB',y='Motor_LR_cope',hue='ME',col='HeadCoil',\n",
    "            data=plt_df,kind='bar',order=[1,3,6])\n",
    "plt.show()\n",
    "plt.savefig(\"../derivatives/figures/Motor_LR-act_cope.svg\")\n",
    "\n",
    "\n",
    "# print(\"Results for VarCope\")\n",
    "# res=smf.mixedlm('Motor_LR_varcope ~ MB * ME * HeadCoil',data=plt_df,groups=plt_df['sub']).fit()\n",
    "# display(res.summary())\n",
    "# sns.catplot(x='MB',y='Motor_LR_varcope',hue='ME',col='HeadCoil',\n",
    "#             data=plt_df,kind='bar',order=[1,3,6])\n",
    "plt.show()\n",
    "plt.savefig(\"../derivatives/figures/Motor_LR-act_varcope.svg\")"
   ]
  },
  {
   "cell_type": "markdown",
   "id": "8e804f0d",
   "metadata": {},
   "source": [
    "# vmPFC"
   ]
  },
  {
   "cell_type": "code",
   "execution_count": 31,
   "id": "8643d2f7",
   "metadata": {},
   "outputs": [
    {
     "name": "stderr",
     "output_type": "stream",
     "text": [
      "100%|███████████████████████████████████████| 190/190 [02:17<00:00,  1.38it/s]\n"
     ]
    }
   ],
   "source": [
    "masker= NiftiMasker(mask_img=pfc_mask)\n",
    "                   \n",
    "copes=[]\n",
    "zstats=[]\n",
    "varcopes=[]\n",
    "for index,row in tqdm(subs.iterrows(),total=subs.shape[0]):\n",
    "    sub=row['sub']\n",
    "    aqc=row['acq']\n",
    "    cope='../derivatives/fsl/%s/L1_task-sharedreward_model-1_type-act_acq-%s_sm-4.feat/stats/cope15.nii.gz'%(sub,aqc)\n",
    "    zstat='../derivatives/fsl/%s/L1_task-sharedreward_model-1_type-act_acq-%s_sm-4.feat/stats/tstat15.nii.gz'%(sub,aqc)\n",
    "    varcope='../derivatives/fsl/%s/L1_task-sharedreward_model-1_type-act_acq-%s_sm-4.feat/stats/varcope15.nii.gz'%(sub,aqc)\n",
    "    \n",
    "    if os.path.exists(cope):\n",
    "        #Extracting VS Reward cope,zstat, and varcope\n",
    "        x=masker.fit_transform(cope)\n",
    "        copes.append(np.mean(x.flatten()))\n",
    "\n",
    "        x=masker.fit_transform(zstat)\n",
    "        zstats.append(np.mean(x.flatten()))\n",
    "\n",
    "        x=masker.fit_transform(varcope)\n",
    "        varcopes.append(np.mean(x.flatten()))\n",
    "    else:\n",
    "        copes.append(np.nan)\n",
    "        zstats.append(np.nan)\n",
    "        varcopes.append(np.nan)\n",
    "        \n",
    "subs = subs.assign(pfc_act_cope=copes,\n",
    "               pfc_act_zstats=zstats,\n",
    "               pfc_act_varcope=varcopes)"
   ]
  },
  {
   "cell_type": "markdown",
   "id": "f2028809",
   "metadata": {},
   "source": [
    "# Display vmPFC"
   ]
  },
  {
   "cell_type": "code",
   "execution_count": 32,
   "id": "6bbd836b",
   "metadata": {},
   "outputs": [
    {
     "name": "stdout",
     "output_type": "stream",
     "text": [
      "HeadNeck_64\n",
      "z-stat\n"
     ]
    },
    {
     "data": {
      "text/html": [
       "<table class=\"simpletable\">\n",
       "<tr>\n",
       "       <td>Model:</td>       <td>MixedLM</td> <td>Dependent Variable:</td> <td>pfc_act_zstats</td>\n",
       "</tr>\n",
       "<tr>\n",
       "  <td>No. Observations:</td>   <td>114</td>         <td>Method:</td>            <td>REML</td>     \n",
       "</tr>\n",
       "<tr>\n",
       "     <td>No. Groups:</td>      <td>19</td>          <td>Scale:</td>            <td>0.4665</td>    \n",
       "</tr>\n",
       "<tr>\n",
       "  <td>Min. group size:</td>     <td>6</td>      <td>Log-Likelihood:</td>      <td>-131.3252</td>  \n",
       "</tr>\n",
       "<tr>\n",
       "  <td>Max. group size:</td>     <td>6</td>        <td>Converged:</td>            <td>Yes</td>     \n",
       "</tr>\n",
       "<tr>\n",
       "  <td>Mean group size:</td>    <td>6.0</td>            <td></td>                  <td></td>       \n",
       "</tr>\n",
       "</table>\n",
       "<table class=\"simpletable\">\n",
       "<tr>\n",
       "      <td></td>       <th>Coef.</th> <th>Std.Err.</th>    <th>z</th>   <th>P>|z|</th> <th>[0.025</th> <th>0.975]</th>\n",
       "</tr>\n",
       "<tr>\n",
       "  <th>Intercept</th>  <td>0.109</td>   <td>0.244</td>   <td>0.447</td> <td>0.655</td> <td>-0.369</td>  <td>0.587</td>\n",
       "</tr>\n",
       "<tr>\n",
       "  <th>MB</th>         <td>0.040</td>   <td>0.061</td>   <td>0.658</td> <td>0.511</td> <td>-0.079</td>  <td>0.158</td>\n",
       "</tr>\n",
       "<tr>\n",
       "  <th>ME</th>        <td>-0.049</td>   <td>0.081</td>  <td>-0.603</td> <td>0.546</td> <td>-0.208</td>  <td>0.110</td>\n",
       "</tr>\n",
       "<tr>\n",
       "  <th>MB:ME</th>      <td>0.006</td>   <td>0.021</td>   <td>0.286</td> <td>0.775</td> <td>-0.035</td>  <td>0.047</td>\n",
       "</tr>\n",
       "<tr>\n",
       "  <th>Group Var</th>  <td>0.065</td>   <td>0.076</td>     <td></td>      <td></td>       <td></td>       <td></td>   \n",
       "</tr>\n",
       "</table>"
      ],
      "text/plain": [
       "<class 'statsmodels.iolib.summary2.Summary'>\n",
       "\"\"\"\n",
       "           Mixed Linear Model Regression Results\n",
       "============================================================\n",
       "Model:            MixedLM Dependent Variable: pfc_act_zstats\n",
       "No. Observations: 114     Method:             REML          \n",
       "No. Groups:       19      Scale:              0.4665        \n",
       "Min. group size:  6       Log-Likelihood:     -131.3252     \n",
       "Max. group size:  6       Converged:          Yes           \n",
       "Mean group size:  6.0                                       \n",
       "-------------------------------------------------------------\n",
       "              Coef.   Std.Err.    z     P>|z|  [0.025  0.975]\n",
       "-------------------------------------------------------------\n",
       "Intercept      0.109     0.244   0.447  0.655  -0.369   0.587\n",
       "MB             0.040     0.061   0.658  0.511  -0.079   0.158\n",
       "ME            -0.049     0.081  -0.603  0.546  -0.208   0.110\n",
       "MB:ME          0.006     0.021   0.286  0.775  -0.035   0.047\n",
       "Group Var      0.065     0.076                               \n",
       "============================================================\n",
       "\n",
       "\"\"\""
      ]
     },
     "metadata": {},
     "output_type": "display_data"
    },
    {
     "name": "stdout",
     "output_type": "stream",
     "text": [
      "beta\n"
     ]
    },
    {
     "data": {
      "text/html": [
       "<table class=\"simpletable\">\n",
       "<tr>\n",
       "       <td>Model:</td>       <td>MixedLM</td> <td>Dependent Variable:</td> <td>pfc_act_cope</td>\n",
       "</tr>\n",
       "<tr>\n",
       "  <td>No. Observations:</td>   <td>114</td>         <td>Method:</td>           <td>REML</td>    \n",
       "</tr>\n",
       "<tr>\n",
       "     <td>No. Groups:</td>      <td>19</td>          <td>Scale:</td>         <td>50754.3913</td> \n",
       "</tr>\n",
       "<tr>\n",
       "  <td>Min. group size:</td>     <td>6</td>      <td>Log-Likelihood:</td>     <td>-770.1120</td> \n",
       "</tr>\n",
       "<tr>\n",
       "  <td>Max. group size:</td>     <td>6</td>        <td>Converged:</td>           <td>Yes</td>    \n",
       "</tr>\n",
       "<tr>\n",
       "  <td>Mean group size:</td>    <td>6.0</td>            <td></td>                 <td></td>      \n",
       "</tr>\n",
       "</table>\n",
       "<table class=\"simpletable\">\n",
       "<tr>\n",
       "      <td></td>        <th>Coef.</th>  <th>Std.Err.</th>    <th>z</th>   <th>P>|z|</th>  <th>[0.025</th>  <th>0.975]</th> \n",
       "</tr>\n",
       "<tr>\n",
       "  <th>Intercept</th>  <td>16.891</td>   <td>81.048</td>   <td>0.208</td> <td>0.835</td> <td>-141.960</td> <td>175.741</td>\n",
       "</tr>\n",
       "<tr>\n",
       "  <th>MB</th>         <td>14.323</td>   <td>19.959</td>   <td>0.718</td> <td>0.473</td>  <td>-24.795</td> <td>53.441</td> \n",
       "</tr>\n",
       "<tr>\n",
       "  <th>ME</th>         <td>-15.690</td>  <td>26.807</td>  <td>-0.585</td> <td>0.558</td>  <td>-68.230</td> <td>36.850</td> \n",
       "</tr>\n",
       "<tr>\n",
       "  <th>MB:ME</th>       <td>0.703</td>    <td>6.846</td>   <td>0.103</td> <td>0.918</td>  <td>-12.714</td> <td>14.121</td> \n",
       "</tr>\n",
       "<tr>\n",
       "  <th>Group Var</th> <td>8753.494</td>  <td>27.848</td>     <td></td>      <td></td>        <td></td>        <td></td>    \n",
       "</tr>\n",
       "</table>"
      ],
      "text/plain": [
       "<class 'statsmodels.iolib.summary2.Summary'>\n",
       "\"\"\"\n",
       "          Mixed Linear Model Regression Results\n",
       "==========================================================\n",
       "Model:            MixedLM Dependent Variable: pfc_act_cope\n",
       "No. Observations: 114     Method:             REML        \n",
       "No. Groups:       19      Scale:              50754.3913  \n",
       "Min. group size:  6       Log-Likelihood:     -770.1120   \n",
       "Max. group size:  6       Converged:          Yes         \n",
       "Mean group size:  6.0                                     \n",
       "----------------------------------------------------------\n",
       "            Coef.   Std.Err.   z    P>|z|  [0.025   0.975]\n",
       "----------------------------------------------------------\n",
       "Intercept    16.891   81.048  0.208 0.835 -141.960 175.741\n",
       "MB           14.323   19.959  0.718 0.473  -24.795  53.441\n",
       "ME          -15.690   26.807 -0.585 0.558  -68.230  36.850\n",
       "MB:ME         0.703    6.846  0.103 0.918  -12.714  14.121\n",
       "Group Var  8753.494   27.848                              \n",
       "==========================================================\n",
       "\n",
       "\"\"\""
      ]
     },
     "metadata": {},
     "output_type": "display_data"
    },
    {
     "name": "stdout",
     "output_type": "stream",
     "text": [
      "HeadNeck_20\n",
      "z-stat\n"
     ]
    },
    {
     "name": "stderr",
     "output_type": "stream",
     "text": [
      "/opt/anaconda3/lib/python3.9/site-packages/statsmodels/regression/mixed_linear_model.py:2237: ConvergenceWarning: The MLE may be on the boundary of the parameter space.\n",
      "  warnings.warn(msg, ConvergenceWarning)\n"
     ]
    },
    {
     "data": {
      "text/html": [
       "<table class=\"simpletable\">\n",
       "<tr>\n",
       "       <td>Model:</td>       <td>MixedLM</td> <td>Dependent Variable:</td> <td>pfc_act_zstats</td>\n",
       "</tr>\n",
       "<tr>\n",
       "  <td>No. Observations:</td>   <td>69</td>          <td>Method:</td>            <td>REML</td>     \n",
       "</tr>\n",
       "<tr>\n",
       "     <td>No. Groups:</td>      <td>12</td>          <td>Scale:</td>            <td>0.3202</td>    \n",
       "</tr>\n",
       "<tr>\n",
       "  <td>Min. group size:</td>     <td>5</td>      <td>Log-Likelihood:</td>      <td>-65.9420</td>   \n",
       "</tr>\n",
       "<tr>\n",
       "  <td>Max. group size:</td>     <td>6</td>        <td>Converged:</td>            <td>Yes</td>     \n",
       "</tr>\n",
       "<tr>\n",
       "  <td>Mean group size:</td>    <td>5.8</td>            <td></td>                  <td></td>       \n",
       "</tr>\n",
       "</table>\n",
       "<table class=\"simpletable\">\n",
       "<tr>\n",
       "      <td></td>       <th>Coef.</th> <th>Std.Err.</th>    <th>z</th>   <th>P>|z|</th> <th>[0.025</th> <th>0.975]</th>\n",
       "</tr>\n",
       "<tr>\n",
       "  <th>Intercept</th>  <td>0.348</td>   <td>0.255</td>   <td>1.366</td> <td>0.172</td> <td>-0.151</td>  <td>0.848</td>\n",
       "</tr>\n",
       "<tr>\n",
       "  <th>MB</th>        <td>-0.019</td>   <td>0.064</td>  <td>-0.301</td> <td>0.764</td> <td>-0.145</td>  <td>0.107</td>\n",
       "</tr>\n",
       "<tr>\n",
       "  <th>ME</th>        <td>-0.099</td>   <td>0.087</td>  <td>-1.143</td> <td>0.253</td> <td>-0.269</td>  <td>0.071</td>\n",
       "</tr>\n",
       "<tr>\n",
       "  <th>MB:ME</th>      <td>0.019</td>   <td>0.022</td>   <td>0.879</td> <td>0.379</td> <td>-0.024</td>  <td>0.063</td>\n",
       "</tr>\n",
       "<tr>\n",
       "  <th>Group Var</th>  <td>0.000</td>   <td>0.052</td>     <td></td>      <td></td>       <td></td>       <td></td>   \n",
       "</tr>\n",
       "</table>"
      ],
      "text/plain": [
       "<class 'statsmodels.iolib.summary2.Summary'>\n",
       "\"\"\"\n",
       "           Mixed Linear Model Regression Results\n",
       "============================================================\n",
       "Model:            MixedLM Dependent Variable: pfc_act_zstats\n",
       "No. Observations: 69      Method:             REML          \n",
       "No. Groups:       12      Scale:              0.3202        \n",
       "Min. group size:  5       Log-Likelihood:     -65.9420      \n",
       "Max. group size:  6       Converged:          Yes           \n",
       "Mean group size:  5.8                                       \n",
       "-------------------------------------------------------------\n",
       "              Coef.   Std.Err.    z     P>|z|  [0.025  0.975]\n",
       "-------------------------------------------------------------\n",
       "Intercept      0.348     0.255   1.366  0.172  -0.151   0.848\n",
       "MB            -0.019     0.064  -0.301  0.764  -0.145   0.107\n",
       "ME            -0.099     0.087  -1.143  0.253  -0.269   0.071\n",
       "MB:ME          0.019     0.022   0.879  0.379  -0.024   0.063\n",
       "Group Var      0.000     0.052                               \n",
       "============================================================\n",
       "\n",
       "\"\"\""
      ]
     },
     "metadata": {},
     "output_type": "display_data"
    },
    {
     "name": "stdout",
     "output_type": "stream",
     "text": [
      "beta\n"
     ]
    },
    {
     "name": "stderr",
     "output_type": "stream",
     "text": [
      "/opt/anaconda3/lib/python3.9/site-packages/statsmodels/regression/mixed_linear_model.py:2237: ConvergenceWarning: The MLE may be on the boundary of the parameter space.\n",
      "  warnings.warn(msg, ConvergenceWarning)\n"
     ]
    },
    {
     "data": {
      "text/html": [
       "<table class=\"simpletable\">\n",
       "<tr>\n",
       "       <td>Model:</td>       <td>MixedLM</td> <td>Dependent Variable:</td> <td>pfc_act_cope</td>\n",
       "</tr>\n",
       "<tr>\n",
       "  <td>No. Observations:</td>   <td>69</td>          <td>Method:</td>           <td>REML</td>    \n",
       "</tr>\n",
       "<tr>\n",
       "     <td>No. Groups:</td>      <td>12</td>          <td>Scale:</td>         <td>56190.1257</td> \n",
       "</tr>\n",
       "<tr>\n",
       "  <td>Min. group size:</td>     <td>5</td>      <td>Log-Likelihood:</td>     <td>-458.3854</td> \n",
       "</tr>\n",
       "<tr>\n",
       "  <td>Max. group size:</td>     <td>6</td>        <td>Converged:</td>           <td>Yes</td>    \n",
       "</tr>\n",
       "<tr>\n",
       "  <td>Mean group size:</td>    <td>5.8</td>            <td></td>                 <td></td>      \n",
       "</tr>\n",
       "</table>\n",
       "<table class=\"simpletable\">\n",
       "<tr>\n",
       "      <td></td>       <th>Coef.</th>  <th>Std.Err.</th>    <th>z</th>   <th>P>|z|</th>  <th>[0.025</th>  <th>0.975]</th> \n",
       "</tr>\n",
       "<tr>\n",
       "  <th>Intercept</th> <td>149.668</td>  <td>106.765</td>  <td>1.402</td> <td>0.161</td>  <td>-59.587</td> <td>358.924</td>\n",
       "</tr>\n",
       "<tr>\n",
       "  <th>MB</th>        <td>-11.326</td>  <td>26.946</td>  <td>-0.420</td> <td>0.674</td>  <td>-64.139</td> <td>41.488</td> \n",
       "</tr>\n",
       "<tr>\n",
       "  <th>ME</th>        <td>-36.804</td>  <td>36.266</td>  <td>-1.015</td> <td>0.310</td> <td>-107.883</td> <td>34.276</td> \n",
       "</tr>\n",
       "<tr>\n",
       "  <th>MB:ME</th>      <td>7.474</td>    <td>9.264</td>   <td>0.807</td> <td>0.420</td>  <td>-10.684</td> <td>25.632</td> \n",
       "</tr>\n",
       "<tr>\n",
       "  <th>Group Var</th>  <td>0.000</td>   <td>26.952</td>     <td></td>      <td></td>        <td></td>        <td></td>    \n",
       "</tr>\n",
       "</table>"
      ],
      "text/plain": [
       "<class 'statsmodels.iolib.summary2.Summary'>\n",
       "\"\"\"\n",
       "          Mixed Linear Model Regression Results\n",
       "==========================================================\n",
       "Model:            MixedLM Dependent Variable: pfc_act_cope\n",
       "No. Observations: 69      Method:             REML        \n",
       "No. Groups:       12      Scale:              56190.1257  \n",
       "Min. group size:  5       Log-Likelihood:     -458.3854   \n",
       "Max. group size:  6       Converged:          Yes         \n",
       "Mean group size:  5.8                                     \n",
       "----------------------------------------------------------\n",
       "             Coef.  Std.Err.   z    P>|z|  [0.025   0.975]\n",
       "----------------------------------------------------------\n",
       "Intercept   149.668  106.765  1.402 0.161  -59.587 358.924\n",
       "MB          -11.326   26.946 -0.420 0.674  -64.139  41.488\n",
       "ME          -36.804   36.266 -1.015 0.310 -107.883  34.276\n",
       "MB:ME         7.474    9.264  0.807 0.420  -10.684  25.632\n",
       "Group Var     0.000   26.952                              \n",
       "==========================================================\n",
       "\n",
       "\"\"\""
      ]
     },
     "metadata": {},
     "output_type": "display_data"
    },
    {
     "name": "stdout",
     "output_type": "stream",
     "text": [
      "Results for Zstatistics\n"
     ]
    },
    {
     "name": "stderr",
     "output_type": "stream",
     "text": [
      "/opt/anaconda3/lib/python3.9/site-packages/statsmodels/base/model.py:604: ConvergenceWarning: Maximum Likelihood optimization failed to converge. Check mle_retvals\n",
      "  warnings.warn(\"Maximum Likelihood optimization failed to \"\n",
      "/opt/anaconda3/lib/python3.9/site-packages/statsmodels/regression/mixed_linear_model.py:2200: ConvergenceWarning: Retrying MixedLM optimization with lbfgs\n",
      "  warnings.warn(\n",
      "/opt/anaconda3/lib/python3.9/site-packages/statsmodels/base/model.py:604: ConvergenceWarning: Maximum Likelihood optimization failed to converge. Check mle_retvals\n",
      "  warnings.warn(\"Maximum Likelihood optimization failed to \"\n",
      "/opt/anaconda3/lib/python3.9/site-packages/statsmodels/regression/mixed_linear_model.py:2200: ConvergenceWarning: Retrying MixedLM optimization with cg\n",
      "  warnings.warn(\n",
      "/opt/anaconda3/lib/python3.9/site-packages/statsmodels/base/model.py:604: ConvergenceWarning: Maximum Likelihood optimization failed to converge. Check mle_retvals\n",
      "  warnings.warn(\"Maximum Likelihood optimization failed to \"\n",
      "/opt/anaconda3/lib/python3.9/site-packages/statsmodels/regression/mixed_linear_model.py:2206: ConvergenceWarning: MixedLM optimization failed, trying a different optimizer may help.\n",
      "  warnings.warn(msg, ConvergenceWarning)\n",
      "/opt/anaconda3/lib/python3.9/site-packages/statsmodels/regression/mixed_linear_model.py:2218: ConvergenceWarning: Gradient optimization failed, |grad| = 2.225128\n",
      "  warnings.warn(msg, ConvergenceWarning)\n"
     ]
    },
    {
     "data": {
      "text/html": [
       "<table class=\"simpletable\">\n",
       "<tr>\n",
       "       <td>Model:</td>       <td>MixedLM</td> <td>Dependent Variable:</td> <td>pfc_act_zstats</td>\n",
       "</tr>\n",
       "<tr>\n",
       "  <td>No. Observations:</td>   <td>183</td>         <td>Method:</td>            <td>REML</td>     \n",
       "</tr>\n",
       "<tr>\n",
       "     <td>No. Groups:</td>      <td>31</td>          <td>Scale:</td>            <td>0.4099</td>    \n",
       "</tr>\n",
       "<tr>\n",
       "  <td>Min. group size:</td>     <td>5</td>      <td>Log-Likelihood:</td>      <td>-200.0855</td>  \n",
       "</tr>\n",
       "<tr>\n",
       "  <td>Max. group size:</td>     <td>6</td>        <td>Converged:</td>            <td>No</td>      \n",
       "</tr>\n",
       "<tr>\n",
       "  <td>Mean group size:</td>    <td>5.9</td>            <td></td>                  <td></td>       \n",
       "</tr>\n",
       "</table>\n",
       "<table class=\"simpletable\">\n",
       "<tr>\n",
       "                <td></td>                 <th>Coef.</th> <th>Std.Err.</th>    <th>z</th>   <th>P>|z|</th> <th>[0.025</th> <th>0.975]</th>\n",
       "</tr>\n",
       "<tr>\n",
       "  <th>Intercept</th>                      <td>0.354</td>   <td>0.295</td>   <td>1.199</td> <td>0.231</td> <td>-0.225</td>  <td>0.933</td>\n",
       "</tr>\n",
       "<tr>\n",
       "  <th>HeadCoil[T.HeadNeck_64]</th>       <td>-0.245</td>   <td>0.373</td>  <td>-0.657</td> <td>0.511</td> <td>-0.976</td>  <td>0.486</td>\n",
       "</tr>\n",
       "<tr>\n",
       "  <th>MB</th>                            <td>-0.020</td>   <td>0.073</td>  <td>-0.281</td> <td>0.779</td> <td>-0.163</td>  <td>0.122</td>\n",
       "</tr>\n",
       "<tr>\n",
       "  <th>MB:HeadCoil[T.HeadNeck_64]</th>     <td>0.060</td>   <td>0.092</td>   <td>0.653</td> <td>0.514</td> <td>-0.121</td>  <td>0.241</td>\n",
       "</tr>\n",
       "<tr>\n",
       "  <th>ME</th>                            <td>-0.099</td>   <td>0.098</td>  <td>-1.013</td> <td>0.311</td> <td>-0.292</td>  <td>0.093</td>\n",
       "</tr>\n",
       "<tr>\n",
       "  <th>ME:HeadCoil[T.HeadNeck_64]</th>     <td>0.050</td>   <td>0.124</td>   <td>0.405</td> <td>0.685</td> <td>-0.193</td>  <td>0.294</td>\n",
       "</tr>\n",
       "<tr>\n",
       "  <th>MB:ME</th>                          <td>0.019</td>   <td>0.025</td>   <td>0.778</td> <td>0.437</td> <td>-0.030</td>  <td>0.069</td>\n",
       "</tr>\n",
       "<tr>\n",
       "  <th>MB:ME:HeadCoil[T.HeadNeck_64]</th> <td>-0.014</td>   <td>0.032</td>  <td>-0.427</td> <td>0.669</td> <td>-0.076</td>  <td>0.049</td>\n",
       "</tr>\n",
       "<tr>\n",
       "  <th>Group Var</th>                      <td>0.046</td>   <td>0.055</td>     <td></td>      <td></td>       <td></td>       <td></td>   \n",
       "</tr>\n",
       "</table>"
      ],
      "text/plain": [
       "<class 'statsmodels.iolib.summary2.Summary'>\n",
       "\"\"\"\n",
       "                 Mixed Linear Model Regression Results\n",
       "========================================================================\n",
       "Model:                MixedLM     Dependent Variable:     pfc_act_zstats\n",
       "No. Observations:     183         Method:                 REML          \n",
       "No. Groups:           31          Scale:                  0.4099        \n",
       "Min. group size:      5           Log-Likelihood:         -200.0855     \n",
       "Max. group size:      6           Converged:              No            \n",
       "Mean group size:      5.9                                               \n",
       "------------------------------------------------------------------------\n",
       "                              Coef.  Std.Err.   z    P>|z| [0.025 0.975]\n",
       "------------------------------------------------------------------------\n",
       "Intercept                      0.354    0.295  1.199 0.231 -0.225  0.933\n",
       "HeadCoil[T.HeadNeck_64]       -0.245    0.373 -0.657 0.511 -0.976  0.486\n",
       "MB                            -0.020    0.073 -0.281 0.779 -0.163  0.122\n",
       "MB:HeadCoil[T.HeadNeck_64]     0.060    0.092  0.653 0.514 -0.121  0.241\n",
       "ME                            -0.099    0.098 -1.013 0.311 -0.292  0.093\n",
       "ME:HeadCoil[T.HeadNeck_64]     0.050    0.124  0.405 0.685 -0.193  0.294\n",
       "MB:ME                          0.019    0.025  0.778 0.437 -0.030  0.069\n",
       "MB:ME:HeadCoil[T.HeadNeck_64] -0.014    0.032 -0.427 0.669 -0.076  0.049\n",
       "Group Var                      0.046    0.055                           \n",
       "========================================================================\n",
       "\n",
       "\"\"\""
      ]
     },
     "metadata": {},
     "output_type": "display_data"
    },
    {
     "data": {
      "image/png": "[encoded data removed]",
      "text/plain": [
       "<Figure size 1058.88x500 with 2 Axes>"
      ]
     },
     "metadata": {},
     "output_type": "display_data"
    },
    {
     "name": "stdout",
     "output_type": "stream",
     "text": [
      "Results for Cope\n"
     ]
    },
    {
     "name": "stderr",
     "output_type": "stream",
     "text": [
      "/opt/anaconda3/lib/python3.9/site-packages/statsmodels/base/model.py:604: ConvergenceWarning: Maximum Likelihood optimization failed to converge. Check mle_retvals\n",
      "  warnings.warn(\"Maximum Likelihood optimization failed to \"\n",
      "/opt/anaconda3/lib/python3.9/site-packages/statsmodels/regression/mixed_linear_model.py:2200: ConvergenceWarning: Retrying MixedLM optimization with lbfgs\n",
      "  warnings.warn(\n",
      "/opt/anaconda3/lib/python3.9/site-packages/statsmodels/base/model.py:604: ConvergenceWarning: Maximum Likelihood optimization failed to converge. Check mle_retvals\n",
      "  warnings.warn(\"Maximum Likelihood optimization failed to \"\n",
      "/opt/anaconda3/lib/python3.9/site-packages/statsmodels/regression/mixed_linear_model.py:2200: ConvergenceWarning: Retrying MixedLM optimization with cg\n",
      "  warnings.warn(\n",
      "/opt/anaconda3/lib/python3.9/site-packages/statsmodels/base/model.py:604: ConvergenceWarning: Maximum Likelihood optimization failed to converge. Check mle_retvals\n",
      "  warnings.warn(\"Maximum Likelihood optimization failed to \"\n",
      "/opt/anaconda3/lib/python3.9/site-packages/statsmodels/regression/mixed_linear_model.py:2206: ConvergenceWarning: MixedLM optimization failed, trying a different optimizer may help.\n",
      "  warnings.warn(msg, ConvergenceWarning)\n",
      "/opt/anaconda3/lib/python3.9/site-packages/statsmodels/regression/mixed_linear_model.py:2218: ConvergenceWarning: Gradient optimization failed, |grad| = 7.405376\n",
      "  warnings.warn(msg, ConvergenceWarning)\n"
     ]
    },
    {
     "data": {
      "text/html": [
       "<table class=\"simpletable\">\n",
       "<tr>\n",
       "       <td>Model:</td>       <td>MixedLM</td> <td>Dependent Variable:</td> <td>pfc_act_cope</td>\n",
       "</tr>\n",
       "<tr>\n",
       "  <td>No. Observations:</td>   <td>183</td>         <td>Method:</td>           <td>REML</td>    \n",
       "</tr>\n",
       "<tr>\n",
       "     <td>No. Groups:</td>      <td>31</td>          <td>Scale:</td>         <td>51644.8141</td> \n",
       "</tr>\n",
       "<tr>\n",
       "  <td>Min. group size:</td>     <td>5</td>      <td>Log-Likelihood:</td>    <td>-1230.0886</td> \n",
       "</tr>\n",
       "<tr>\n",
       "  <td>Max. group size:</td>     <td>6</td>        <td>Converged:</td>           <td>No</td>     \n",
       "</tr>\n",
       "<tr>\n",
       "  <td>Mean group size:</td>    <td>5.9</td>            <td></td>                 <td></td>      \n",
       "</tr>\n",
       "</table>\n",
       "<table class=\"simpletable\">\n",
       "<tr>\n",
       "                <td></td>                  <th>Coef.</th>  <th>Std.Err.</th>    <th>z</th>   <th>P>|z|</th>  <th>[0.025</th>  <th>0.975]</th> \n",
       "</tr>\n",
       "<tr>\n",
       "  <th>Intercept</th>                      <td>152.487</td>  <td>105.939</td>  <td>1.439</td> <td>0.150</td>  <td>-55.149</td> <td>360.122</td>\n",
       "</tr>\n",
       "<tr>\n",
       "  <th>HeadCoil[T.HeadNeck_64]</th>       <td>-135.596</td>  <td>133.722</td> <td>-1.014</td> <td>0.311</td> <td>-397.685</td> <td>126.494</td>\n",
       "</tr>\n",
       "<tr>\n",
       "  <th>MB</th>                             <td>-11.918</td>  <td>25.865</td>  <td>-0.461</td> <td>0.645</td>  <td>-62.612</td> <td>38.776</td> \n",
       "</tr>\n",
       "<tr>\n",
       "  <th>MB:HeadCoil[T.HeadNeck_64]</th>     <td>26.241</td>   <td>32.777</td>   <td>0.801</td> <td>0.423</td>  <td>-38.000</td> <td>90.482</td> \n",
       "</tr>\n",
       "<tr>\n",
       "  <th>ME</th>                             <td>-36.988</td>  <td>34.833</td>  <td>-1.062</td> <td>0.288</td> <td>-105.258</td> <td>31.283</td> \n",
       "</tr>\n",
       "<tr>\n",
       "  <th>ME:HeadCoil[T.HeadNeck_64]</th>     <td>21.298</td>   <td>44.097</td>   <td>0.483</td> <td>0.629</td>  <td>-65.130</td> <td>107.725</td>\n",
       "</tr>\n",
       "<tr>\n",
       "  <th>MB:ME</th>                           <td>7.554</td>    <td>8.897</td>   <td>0.849</td> <td>0.396</td>  <td>-9.883</td>  <td>24.991</td> \n",
       "</tr>\n",
       "<tr>\n",
       "  <th>MB:ME:HeadCoil[T.HeadNeck_64]</th>  <td>-6.851</td>   <td>11.262</td>  <td>-0.608</td> <td>0.543</td>  <td>-28.924</td> <td>15.223</td> \n",
       "</tr>\n",
       "<tr>\n",
       "  <th>Group Var</th>                     <td>8423.419</td>  <td>28.551</td>     <td></td>      <td></td>        <td></td>        <td></td>    \n",
       "</tr>\n",
       "</table>"
      ],
      "text/plain": [
       "<class 'statsmodels.iolib.summary2.Summary'>\n",
       "\"\"\"\n",
       "                    Mixed Linear Model Regression Results\n",
       "=============================================================================\n",
       "Model:                   MixedLM       Dependent Variable:       pfc_act_cope\n",
       "No. Observations:        183           Method:                   REML        \n",
       "No. Groups:              31            Scale:                    51644.8141  \n",
       "Min. group size:         5             Log-Likelihood:           -1230.0886  \n",
       "Max. group size:         6             Converged:                No          \n",
       "Mean group size:         5.9                                                 \n",
       "-----------------------------------------------------------------------------\n",
       "                               Coef.   Std.Err.   z    P>|z|  [0.025   0.975]\n",
       "-----------------------------------------------------------------------------\n",
       "Intercept                      152.487  105.939  1.439 0.150  -55.149 360.122\n",
       "HeadCoil[T.HeadNeck_64]       -135.596  133.722 -1.014 0.311 -397.685 126.494\n",
       "MB                             -11.918   25.865 -0.461 0.645  -62.612  38.776\n",
       "MB:HeadCoil[T.HeadNeck_64]      26.241   32.777  0.801 0.423  -38.000  90.482\n",
       "ME                             -36.988   34.833 -1.062 0.288 -105.258  31.283\n",
       "ME:HeadCoil[T.HeadNeck_64]      21.298   44.097  0.483 0.629  -65.130 107.725\n",
       "MB:ME                            7.554    8.897  0.849 0.396   -9.883  24.991\n",
       "MB:ME:HeadCoil[T.HeadNeck_64]   -6.851   11.262 -0.608 0.543  -28.924  15.223\n",
       "Group Var                     8423.419   28.551                              \n",
       "=============================================================================\n",
       "\n",
       "\"\"\""
      ]
     },
     "metadata": {},
     "output_type": "display_data"
    },
    {
     "data": {
      "text/plain": [
       "<Figure size 640x480 with 0 Axes>"
      ]
     },
     "metadata": {},
     "output_type": "display_data"
    },
    {
     "data": {
      "image/png": "[encoded data removed]",
      "text/plain": [
       "<Figure size 1058.88x500 with 2 Axes>"
      ]
     },
     "metadata": {},
     "output_type": "display_data"
    },
    {
     "data": {
      "text/plain": [
       "<Figure size 640x480 with 0 Axes>"
      ]
     },
     "metadata": {},
     "output_type": "display_data"
    },
    {
     "data": {
      "text/plain": [
       "<Figure size 640x480 with 0 Axes>"
      ]
     },
     "metadata": {},
     "output_type": "display_data"
    }
   ],
   "source": [
    "import statsmodels.formula.api as smf\n",
    "plt_df=subs[subs['L1act']]\n",
    "\n",
    "for HC in plt_df['HeadCoil'].unique():\n",
    "    mod_df = plt_df[plt_df['HeadCoil'] == HC]\n",
    "    print(HC)\n",
    "    print(\"z-stat\")\n",
    "    res=smf.mixedlm('pfc_act_zstats ~ MB * ME',data=mod_df,groups=mod_df['sub']).fit()\n",
    "    display(res.summary())\n",
    "    print(\"beta\")\n",
    "    res=smf.mixedlm('pfc_act_cope ~ MB * ME',data=mod_df,groups=mod_df['sub']).fit()\n",
    "    display(res.summary())\n",
    "    \n",
    "print(\"Results for Zstatistics\")\n",
    "res=smf.mixedlm('pfc_act_zstats ~ MB * ME * HeadCoil',data=plt_df,groups=plt_df['sub']).fit()\n",
    "display(res.summary())\n",
    "sns.catplot(x='MB',y='pfc_act_zstats',hue='ME',data=plt_df,kind='bar',order=[1,3,6],col='HeadCoil')\n",
    "\n",
    "plt.show()\n",
    "plt.savefig(\"../derivatives/figures/pfc_act-act_zstat.svg\")\n",
    "\n",
    "print(\"Results for Cope\")\n",
    "res=smf.mixedlm('pfc_act_cope ~ MB * ME * HeadCoil',data=plt_df,groups=plt_df['sub']).fit()\n",
    "display(res.summary())\n",
    "sns.catplot(x='MB',y='pfc_act_cope',hue='ME',col='HeadCoil',\n",
    "            data=plt_df,kind='bar',order=[1,3,6])\n",
    "plt.show()\n",
    "plt.savefig(\"../derivatives/figures/pfc_act-act_cope.svg\")\n",
    "\n",
    "\n",
    "# print(\"Results for VarCope\")\n",
    "# res=smf.mixedlm('pfc_act_varcope ~ MB * ME * HeadCoil',data=plt_df,groups=plt_df['sub']).fit()\n",
    "# display(res.summary())\n",
    "# sns.catplot(x='MB',y='pfc_act_varcope',hue='ME',col='HeadCoil',\n",
    "#             data=plt_df,kind='bar',order=[1,3,6])\n",
    "plt.show()\n",
    "plt.savefig(\"../derivatives/figures/pfc_act-act_varcope.svg\")"
   ]
  },
  {
   "cell_type": "code",
   "execution_count": null,
   "id": "eee227d6",
   "metadata": {},
   "outputs": [],
   "source": []
  }
 ],
 "metadata": {
  "kernelspec": {
   "display_name": "Python 3 (ipykernel)",
   "language": "python",
   "name": "python3"
  },
  "language_info": {
   "codemirror_mode": {
    "name": "ipython",
    "version": 3
   },
   "file_extension": ".py",
   "mimetype": "text/x-python",
   "name": "python",
   "nbconvert_exporter": "python",
   "pygments_lexer": "ipython3",
   "version": "3.9.13"
  }
 },
 "nbformat": 4,
 "nbformat_minor": 5
}
