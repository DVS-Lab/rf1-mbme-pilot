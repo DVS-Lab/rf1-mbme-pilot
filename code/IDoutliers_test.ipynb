{
 "cells": [
  {
   "cell_type": "code",
   "execution_count": 1,
   "metadata": {},
   "outputs": [
    {
     "name": "stdout",
     "output_type": "stream",
     "text": [
      "/ZPOOL/data/projects/rf1-mbme-pilot/bids/\n"
     ]
    }
   ],
   "source": [
    "#!/usr/bin/env python\n",
    "# coding: utf-8\n",
    "\n",
    "import pandas as pd\n",
    "import numpy as np\n",
    "import os\n",
    "import re\n",
    "import json\n",
    "\n",
    "#cwd = dir_path = os.path.dirname(os.path.realpath(__file__)) \n",
    "# bidsdir = os.path.join('%s/../bids'%(cwd))\n",
    "cwd='/ZPOOL/data/projects/rf1-mbme-pilot/code'\n",
    "bidsdir='/ZPOOL/data/projects/rf1-mbme-pilot/bids/'\n",
    "\n",
    "print(bidsdir)"
   ]
  },
  {
   "cell_type": "code",
   "execution_count": 2,
   "metadata": {},
   "outputs": [
    {
     "name": "stdout",
     "output_type": "stream",
     "text": [
      "Unique subs:\n",
      "['sub-10422' 'sub-10186' 'sub-10382' 'sub-10150' 'sub-10391' 'sub-10296'\n",
      " 'sub-10590sp' 'sub-10741sp' 'sub-10043' 'sub-10723sp' 'sub-10198'\n",
      " 'sub-10223' 'sub-10659sp' 'sub-10015' 'sub-10318' 'sub-10185'\n",
      " 'sub-10803sp' 'sub-10603sp' 'sub-10320' 'sub-10054' 'sub-10008'\n",
      " 'sub-10589sp' 'sub-10438' 'sub-10234' 'sub-10137' 'sub-10030'\n",
      " 'sub-10608sp' 'sub-10130' 'sub-10078' 'sub-10108' 'sub-10024' 'sub-10059'\n",
      " 'sub-10154' 'sub-10188' 'sub-10166' 'sub-10085' 'sub-10644sp' 'sub-10416'\n",
      " 'sub-10026' 'sub-10606sp' 'sub-10014' 'sub-10069' 'sub-10035' 'sub-10203'\n",
      " 'sub-10094' 'sub-10007' 'sub-10303' 'sub-10142' 'sub-12042' 'sub-10080'\n",
      " 'sub-10777sp' 'sub-10221' 'sub-10691sp' 'sub-10017' 'sub-10363'\n",
      " 'sub-10041' 'sub-10003' 'sub-10074' 'sub-10136' 'sub-10319' 'sub-10010'\n",
      " 'sub-10321' 'sub-10690sp' 'sub-10125' 'sub-10028']\n"
     ]
    }
   ],
   "source": [
    "event_files=[os.path.join(root,f) for root,dirs,files in os.walk(bidsdir) for f in files if f.endswith('events.tsv')]\n",
    "#print(event_files)\n",
    "\n",
    "data=[]\n",
    "for file in event_files:\n",
    "\tsub='sub-'+re.search('func/sub-(.*)_task',file).group(1)\n",
    "\tacq=re.search('_acq-(.*)_events',file).group(1)\n",
    "\ttmp_df=pd.read_csv(file,sep='\\t')\n",
    "#\tprint(tmp_df)\n",
    "\tif tmp_df.shape[0]>0:\n",
    "\t\t#print(sub,acq)\n",
    "\t\ttmp_df['sub']=sub\n",
    "\t\ttmp_df['acq']=acq\n",
    "\t\tdata.append(tmp_df)\n",
    "events_df=pd.concat(data)\n",
    "\n",
    "#print(events_df)\n",
    "\n",
    "print(\"Unique subs:\")\n",
    "print(events_df['sub'].unique())\n"
   ]
  },
  {
   "cell_type": "code",
   "execution_count": 3,
   "metadata": {},
   "outputs": [
    {
     "name": "stdout",
     "output_type": "stream",
     "text": [
      "<_io.TextIOWrapper name='/ZPOOL/data/projects/rf1-mbme-pilot/derivatives/mriqc/sub-10422/func/sub-10422_task-sharedreward_acq-mb6me4_echo-2_bold.json' mode='r' encoding='UTF-8'>\n",
      "<_io.TextIOWrapper name='/ZPOOL/data/projects/rf1-mbme-pilot/derivatives/mriqc/sub-10422/func/sub-10422_task-sharedreward_acq-mb1me1_bold.json' mode='r' encoding='UTF-8'>\n",
      "<_io.TextIOWrapper name='/ZPOOL/data/projects/rf1-mbme-pilot/derivatives/mriqc/sub-10422/func/sub-10422_task-sharedreward_acq-mb3me4_echo-2_bold.json' mode='r' encoding='UTF-8'>\n",
      "<_io.TextIOWrapper name='/ZPOOL/data/projects/rf1-mbme-pilot/derivatives/mriqc/sub-10422/func/sub-10422_task-sharedreward_acq-mb3me1_bold.json' mode='r' encoding='UTF-8'>\n",
      "<_io.TextIOWrapper name='/ZPOOL/data/projects/rf1-mbme-pilot/derivatives/mriqc/sub-10422/func/sub-10422_task-sharedreward_acq-mb1me4_echo-2_bold.json' mode='r' encoding='UTF-8'>\n",
      "<_io.TextIOWrapper name='/ZPOOL/data/projects/rf1-mbme-pilot/derivatives/mriqc/sub-10422/func/sub-10422_task-sharedreward_acq-mb6me1_bold.json' mode='r' encoding='UTF-8'>\n"
     ]
    },
    {
     "ename": "FileNotFoundError",
     "evalue": "[Errno 2] No such file or directory: '/ZPOOL/data/projects/rf1-mbme-pilot/derivatives/mriqc/sub-10422/func/sub-10422_task-sharedreward_acq-mb3me3ip0_echo-2_bold.json'",
     "output_type": "error",
     "traceback": [
      "\u001b[0;31m---------------------------------------------------------------------------\u001b[0m",
      "\u001b[0;31mFileNotFoundError\u001b[0m                         Traceback (most recent call last)",
      "Cell \u001b[0;32mIn[3], line 19\u001b[0m\n\u001b[1;32m      4\u001b[0m \u001b[38;5;28;01mfor\u001b[39;00m acq \u001b[38;5;129;01min\u001b[39;00m events_df[\u001b[38;5;124m'\u001b[39m\u001b[38;5;124macq\u001b[39m\u001b[38;5;124m'\u001b[39m]\u001b[38;5;241m.\u001b[39munique():\n\u001b[1;32m      5\u001b[0m     \n\u001b[1;32m      6\u001b[0m     \u001b[38;5;66;03m# What is this fname file used for? Does not exist in file tree\u001b[39;00m\n\u001b[0;32m   (...)\u001b[0m\n\u001b[1;32m     15\u001b[0m         \u001b[38;5;66;03m#    f = open(\"%s/../derivatives/mriqc/%s/func/%s_task-sharedreward_acq-%s_bold.json\"%(cwd,sub,sub,acq))\u001b[39;00m\n\u001b[1;32m     16\u001b[0m         \u001b[38;5;66;03m#print(f)\u001b[39;00m\n\u001b[1;32m     18\u001b[0m         \u001b[38;5;28;01mif\u001b[39;00m acq \u001b[38;5;129;01min\u001b[39;00m [\u001b[38;5;124m'\u001b[39m\u001b[38;5;124mmb1me4\u001b[39m\u001b[38;5;124m'\u001b[39m,\u001b[38;5;124m'\u001b[39m\u001b[38;5;124mmb3me4\u001b[39m\u001b[38;5;124m'\u001b[39m,\u001b[38;5;124m'\u001b[39m\u001b[38;5;124mmb6me4\u001b[39m\u001b[38;5;124m'\u001b[39m, \u001b[38;5;124m'\u001b[39m\u001b[38;5;124mmb3mb4fa50\u001b[39m\u001b[38;5;124m'\u001b[39m,\u001b[38;5;124m'\u001b[39m\u001b[38;5;124mmb3me3ip0\u001b[39m\u001b[38;5;124m'\u001b[39m,\u001b[38;5;124m'\u001b[39m\u001b[38;5;124mmb2me4\u001b[39m\u001b[38;5;124m'\u001b[39m,\u001b[38;5;124m'\u001b[39m\u001b[38;5;124mmb3me3\u001b[39m\u001b[38;5;124m'\u001b[39m]:\n\u001b[0;32m---> 19\u001b[0m             f \u001b[38;5;241m=\u001b[39m \u001b[38;5;28mopen\u001b[39m(\u001b[38;5;124m\"\u001b[39m\u001b[38;5;124m/ZPOOL/data/projects/rf1-mbme-pilot/derivatives/mriqc/\u001b[39m\u001b[38;5;132;01m%s\u001b[39;00m\u001b[38;5;124m/func/\u001b[39m\u001b[38;5;132;01m%s\u001b[39;00m\u001b[38;5;124m_task-sharedreward_acq-\u001b[39m\u001b[38;5;132;01m%s\u001b[39;00m\u001b[38;5;124m_echo-2_bold.json\u001b[39m\u001b[38;5;124m\"\u001b[39m\u001b[38;5;241m%\u001b[39m(sub,sub,acq))\n\u001b[1;32m     20\u001b[0m         \u001b[38;5;28;01melse\u001b[39;00m:\n\u001b[1;32m     21\u001b[0m             f \u001b[38;5;241m=\u001b[39m \u001b[38;5;28mopen\u001b[39m(\u001b[38;5;124m\"\u001b[39m\u001b[38;5;124m/ZPOOL/data/projects/rf1-mbme-pilot/derivatives/mriqc/\u001b[39m\u001b[38;5;132;01m%s\u001b[39;00m\u001b[38;5;124m/func/\u001b[39m\u001b[38;5;132;01m%s\u001b[39;00m\u001b[38;5;124m_task-sharedreward_acq-\u001b[39m\u001b[38;5;132;01m%s\u001b[39;00m\u001b[38;5;124m_bold.json\u001b[39m\u001b[38;5;124m\"\u001b[39m\u001b[38;5;241m%\u001b[39m(sub,sub,acq))\n",
      "File \u001b[0;32m/ZPOOL/data/tools/anaconda/tun46412/anaconda3/lib/python3.11/site-packages/IPython/core/interactiveshell.py:284\u001b[0m, in \u001b[0;36m_modified_open\u001b[0;34m(file, *args, **kwargs)\u001b[0m\n\u001b[1;32m    277\u001b[0m \u001b[38;5;28;01mif\u001b[39;00m file \u001b[38;5;129;01min\u001b[39;00m {\u001b[38;5;241m0\u001b[39m, \u001b[38;5;241m1\u001b[39m, \u001b[38;5;241m2\u001b[39m}:\n\u001b[1;32m    278\u001b[0m     \u001b[38;5;28;01mraise\u001b[39;00m \u001b[38;5;167;01mValueError\u001b[39;00m(\n\u001b[1;32m    279\u001b[0m         \u001b[38;5;124mf\u001b[39m\u001b[38;5;124m\"\u001b[39m\u001b[38;5;124mIPython won\u001b[39m\u001b[38;5;124m'\u001b[39m\u001b[38;5;124mt let you open fd=\u001b[39m\u001b[38;5;132;01m{\u001b[39;00mfile\u001b[38;5;132;01m}\u001b[39;00m\u001b[38;5;124m by default \u001b[39m\u001b[38;5;124m\"\u001b[39m\n\u001b[1;32m    280\u001b[0m         \u001b[38;5;124m\"\u001b[39m\u001b[38;5;124mas it is likely to crash IPython. If you know what you are doing, \u001b[39m\u001b[38;5;124m\"\u001b[39m\n\u001b[1;32m    281\u001b[0m         \u001b[38;5;124m\"\u001b[39m\u001b[38;5;124myou can use builtins\u001b[39m\u001b[38;5;124m'\u001b[39m\u001b[38;5;124m open.\u001b[39m\u001b[38;5;124m\"\u001b[39m\n\u001b[1;32m    282\u001b[0m     )\n\u001b[0;32m--> 284\u001b[0m \u001b[38;5;28;01mreturn\u001b[39;00m io_open(file, \u001b[38;5;241m*\u001b[39margs, \u001b[38;5;241m*\u001b[39m\u001b[38;5;241m*\u001b[39mkwargs)\n",
      "\u001b[0;31mFileNotFoundError\u001b[0m: [Errno 2] No such file or directory: '/ZPOOL/data/projects/rf1-mbme-pilot/derivatives/mriqc/sub-10422/func/sub-10422_task-sharedreward_acq-mb3me3ip0_echo-2_bold.json'"
     ]
    }
   ],
   "source": [
    "data=[]\n",
    "for sub in events_df['sub'].unique():\n",
    "    #print(sub)\n",
    "    for acq in events_df['acq'].unique():\n",
    "        \n",
    "        # What is this fname file used for? Does not exist in file tree\n",
    "        #fname='%s/../derivatives/fsl/mcflirt/%s/%s/_abs.rms'%(cwd,sub,acq)\n",
    "        #print(fname)\n",
    "        #if os.path.exists(fname):\n",
    "        #absolute=np.loadtxt(fname)\n",
    "\n",
    "            #if acq in ['mb1me4','mb3me4','mb6me4', 'mb3mb4fa50','mb3me3ip0','mb2me4','mb3me3']:\n",
    "            #    f = open(\"%s/../derivatives/mriqc/%s/func/%s_task-sharedreward_acq-%s_echo-2_bold.json\"%(cwd,sub,sub,acq))\n",
    "            #else:\n",
    "            #    f = open(\"%s/../derivatives/mriqc/%s/func/%s_task-sharedreward_acq-%s_bold.json\"%(cwd,sub,sub,acq))\n",
    "            #print(f)\n",
    "            \n",
    "            if acq in ['mb1me4','mb3me4','mb6me4', 'mb3mb4fa50','mb3me3ip0','mb2me4','mb3me3']:\n",
    "                f = open(\"/ZPOOL/data/projects/rf1-mbme-pilot/derivatives/mriqc/%s/func/%s_task-sharedreward_acq-%s_echo-2_bold.json\"%(sub,sub,acq))\n",
    "            else:\n",
    "                f = open(\"/ZPOOL/data/projects/rf1-mbme-pilot/derivatives/mriqc/%s/func/%s_task-sharedreward_acq-%s_bold.json\"%(sub,sub,acq))\n",
    "            print(f)\n",
    "            \n",
    "            # returns JSON object as a dictionary\n",
    "            FD = json.load(f)\n",
    "            f.close\n",
    "            FD=FD['fd_mean']\n",
    "            #print(FD)\n",
    "            #FD=np.loadtxt('%s/../derivatives/fsl/mcflirt/%s/%s/_rel.rms'%(cwd,sub,acq))\n",
    "\n",
    "            #row=[sub,acq,\n",
    "            #    events_df[(events_df['sub']==sub)&(events_df['acq']==acq)]['trial_type'].str.count('miss_decision').sum(),\n",
    "            #    absolute.max(),FD]\n",
    "            row=[sub,acq,\n",
    "                events_df[(events_df['sub']==sub)&(events_df['acq']==acq)]['trial_type'].str.count('miss_decision').sum(),\n",
    "                FD]\n",
    "            data.append(row)\n",
    "\n",
    "exclusions_df=pd.DataFrame(data=data,columns=['sub','acq','TrialCount_misses','Max_Abs_motion','FD_mean'])\n",
    "exclusions_df['FD_exclusion']=exclusions_df['FD_mean']>0.5\n",
    "exclusions_df['ABS_exclusion']=exclusions_df['Max_Abs_motion']>1.35\n",
    "exclusions_df['Beh_TrialExclusion']=exclusions_df['TrialCount_misses']>27\n",
    "print(exclusions_df)"
   ]
  },
  {
   "cell_type": "code",
   "execution_count": null,
   "metadata": {},
   "outputs": [],
   "source": [
    "results=exclusions_df.groupby(by='sub').sum().reset_index().rename(columns={\"TrialCount_misses\": \"TotalCount_misses\"})\n",
    "print(results)\n",
    "results['Beh_TotalExclusion']=results['TotalCount_misses']>81\n",
    "results=results[['sub','TotalCount_misses','Beh_TotalExclusion']]"
   ]
  },
  {
   "cell_type": "code",
   "execution_count": null,
   "metadata": {},
   "outputs": [],
   "source": [
    "exclusions_df.merge(results,on='sub')\n",
    "exclusions_df.to_csv('../derivatives/exclusions.csv', index=False)"
   ]
  }
 ],
 "metadata": {
  "kernelspec": {
   "display_name": "Python 3 (ipykernel)",
   "language": "python",
   "name": "python3"
  },
  "language_info": {
   "codemirror_mode": {
    "name": "ipython",
    "version": 3
   },
   "file_extension": ".py",
   "mimetype": "text/x-python",
   "name": "python",
   "nbconvert_exporter": "python",
   "pygments_lexer": "ipython3",
   "version": "3.11.3"
  }
 },
 "nbformat": 4,
 "nbformat_minor": 4
}
