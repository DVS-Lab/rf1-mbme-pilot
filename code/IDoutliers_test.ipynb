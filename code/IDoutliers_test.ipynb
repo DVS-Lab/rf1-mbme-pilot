{
 "cells": [
  {
   "cell_type": "code",
   "execution_count": 1,
   "metadata": {},
   "outputs": [
    {
     "name": "stdout",
     "output_type": "stream",
     "text": [
      "/ZPOOL/data/projects/rf1-mbme-pilot/bids/\n"
     ]
    }
   ],
   "source": [
    "#!/usr/bin/env python\n",
    "# coding: utf-8\n",
    "\n",
    "import pandas as pd\n",
    "import numpy as np\n",
    "import os\n",
    "import re\n",
    "import json\n",
    "\n",
    "#cwd = dir_path = os.path.dirname(os.path.realpath(__file__)) \n",
    "# bidsdir = os.path.join('%s/../bids'%(cwd))\n",
    "cwd='/ZPOOL/data/projects/rf1-mbme-pilot/code'\n",
    "bidsdir='/ZPOOL/data/projects/rf1-mbme-pilot/bids/'\n",
    "\n",
    "print(bidsdir)"
   ]
  },
  {
   "cell_type": "code",
   "execution_count": 28,
   "metadata": {},
   "outputs": [
    {
     "name": "stdout",
     "output_type": "stream",
     "text": [
      "          onset  duration                  trial_type  response_time  \\\n",
      "0      4.177403  0.488014       guess_leftButton_face       0.488014   \n",
      "1      8.393883  1.021105    outcome_stranger_neutral            NaN   \n",
      "2     10.438208  0.493859  guess_rightButton_computer       0.493859   \n",
      "3     15.505598  1.009990     outcome_computer_punish            NaN   \n",
      "4     18.533678  0.381692  guess_rightButton_computer       0.381692   \n",
      "..          ...       ...                         ...            ...   \n",
      "103  415.732665  1.005120                miss_outcome            NaN   \n",
      "104  418.741135  0.633491  guess_rightButton_computer       0.633491   \n",
      "105  422.943785  1.005950    outcome_computer_neutral            NaN   \n",
      "106  426.953275  0.422033  guess_rightButton_computer       0.422033   \n",
      "107  430.305535  1.004500     outcome_computer_reward            NaN   \n",
      "\n",
      "           sub     acq  \n",
      "0    sub-10422  mb6me4  \n",
      "1    sub-10422  mb6me4  \n",
      "2    sub-10422  mb6me4  \n",
      "3    sub-10422  mb6me4  \n",
      "4    sub-10422  mb6me4  \n",
      "..         ...     ...  \n",
      "103  sub-10028  mb6me4  \n",
      "104  sub-10028  mb6me4  \n",
      "105  sub-10028  mb6me4  \n",
      "106  sub-10028  mb6me4  \n",
      "107  sub-10028  mb6me4  \n",
      "\n",
      "[42678 rows x 6 columns]\n"
     ]
    }
   ],
   "source": [
    "# Read events files, find unique sub IDs\n",
    "\n",
    "event_files=[os.path.join(root,f) for root,dirs,files in os.walk(bidsdir) for f in files if f.endswith('events.tsv')]\n",
    "#print(event_files)\n",
    "\n",
    "data=[]\n",
    "for file in event_files:\n",
    "\tsub='sub-'+re.search('func/sub-(.*)_task',file).group(1)\n",
    "\tacq=re.search('_acq-(.*)_events',file).group(1)\n",
    "\ttmp_df=pd.read_csv(file,sep='\\t')\n",
    "#\tprint(tmp_df)\n",
    "\tif tmp_df.shape[0]>0:\n",
    "\t\t#print(sub,acq)\n",
    "\t\ttmp_df['sub']=sub\n",
    "\t\ttmp_df['acq']=acq\n",
    "\t\tdata.append(tmp_df)\n",
    "events_df=pd.concat(data)\n",
    "\n",
    "print(events_df)\n",
    "\n",
    "#print(\"Unique subs:\")\n",
    "#print(events_df['sub'].unique())\n"
   ]
  },
  {
   "cell_type": "code",
   "execution_count": 30,
   "metadata": {},
   "outputs": [
    {
     "name": "stdout",
     "output_type": "stream",
     "text": [
      "           sub     acq  TrialCount_misses  Max_Abs_motion    FD_mean  \\\n",
      "0    sub-10422  mb6me4                  0        1.027630  0.0548118   \n",
      "1    sub-10422  mb1me1                  1        0.642810  0.0503383   \n",
      "2    sub-10422  mb3me4                  0        0.737704  0.0868264   \n",
      "3    sub-10422  mb3me1                  0        0.940240  0.0886571   \n",
      "4    sub-10422  mb1me4                  0        1.761860   0.100059   \n",
      "..         ...     ...                ...             ...        ...   \n",
      "366  sub-10125  mb6me1                  0        0.887747  0.0783694   \n",
      "367  sub-10028  mb6me4                  1        1.152040  0.0614201   \n",
      "368  sub-10028  mb1me1                  0        3.206020   0.140367   \n",
      "369  sub-10028  mb3me4                  1        0.195320  0.0431269   \n",
      "370  sub-10028  mb1me4                  0        0.150869  0.0242303   \n",
      "\n",
      "     FD_exclusion  ABS_exclusion  Beh_TrialExclusion  \n",
      "0           False          False               False  \n",
      "1           False          False               False  \n",
      "2           False          False               False  \n",
      "3           False          False               False  \n",
      "4           False           True               False  \n",
      "..            ...            ...                 ...  \n",
      "366         False          False               False  \n",
      "367         False          False               False  \n",
      "368         False           True               False  \n",
      "369         False          False               False  \n",
      "370         False          False               False  \n",
      "\n",
      "[371 rows x 8 columns]\n"
     ]
    }
   ],
   "source": [
    "# Find unique acquisitions for each sub & append relevant info to exclusions dataframe\n",
    "\n",
    "data=[]\n",
    "for sub in events_df['sub'].unique():\n",
    "    #print(sub)\n",
    "    for acq in events_df['acq'].unique():\n",
    "        \n",
    "        # Check for abs motion file (generated by run_motioneval.sh)\n",
    "        fname='%s/../derivatives/fsl/mcflirt/%s/%s/_abs.rms'%(cwd,sub,acq)\n",
    "        #print(fname)\n",
    "        if os.path.exists(fname):\n",
    "            absolute=np.loadtxt(fname)\n",
    "            \n",
    "            file=\"/ZPOOL/data/projects/rf1-mbme-pilot/derivatives/mriqc/%s/func/%s_task-sharedreward_acq-%s_echo-2_bold.json\"%(sub,sub,acq)\n",
    "            if os.path.exists(file):\n",
    "                f = open(file)\n",
    "            else:\n",
    "                file=\"/ZPOOL/data/projects/rf1-mbme-pilot/derivatives/mriqc/%s/func/%s_task-sharedreward_acq-%s_bold.json\"%(sub,sub,acq)\n",
    "                if os.path.exists(file):\n",
    "                    f = open(file)\n",
    "                else:\n",
    "                    print(file+\" does not exist\")\n",
    "            \n",
    "            # Returns JSON object as a dictionary\n",
    "            FD = json.load(f)\n",
    "            f.close\n",
    "            FD=FD['fd_mean']\n",
    "            #print(FD)\n",
    "            # Confirm that this fd_mean value is the same as from MRIQC\n",
    "            FD=np.loadtxt('%s/../derivatives/fsl/mcflirt/%s/%s/_rel_mean.rms'%(cwd,sub,acq))\n",
    "            row=[sub,acq,events_df[(events_df['sub']==sub)&(events_df['acq']==acq)]['trial_type'].str.count('miss_decision').sum(),absolute.max(),FD]\n",
    "            #row=[sub,acq,\n",
    "            #    events_df[(events_df['sub']==sub)&(events_df['acq']==acq)]['trial_type'].str.count('miss_decision').sum(),\n",
    "            #    FD]\n",
    "            data.append(row)\n",
    "\n",
    "# Generate exclusions df\n",
    "exclusions_df=pd.DataFrame(data=data,columns=['sub','acq','TrialCount_misses','Max_Abs_motion','FD_mean'])\n",
    "#print(exclusions_df)\n",
    "exclusions_df['FD_exclusion']=exclusions_df['FD_mean']>0.5\n",
    "exclusions_df['ABS_exclusion']=exclusions_df['Max_Abs_motion']>1.35\n",
    "exclusions_df['Beh_TrialExclusion']=exclusions_df['TrialCount_misses']>27\n",
    "#fd_df=exclusions_df[exclusions_df['FD_mean'] > 0.5]\n",
    "print(exclusions_df)"
   ]
  },
  {
   "cell_type": "code",
   "execution_count": 31,
   "metadata": {},
   "outputs": [
    {
     "name": "stdout",
     "output_type": "stream",
     "text": [
      "            sub  TotalCount_misses  Max_Abs_motion  FD_exclusion  \\\n",
      "0     sub-10003                 54        8.897047             0   \n",
      "1     sub-10007                  2       18.582200             0   \n",
      "2     sub-10008                 10        7.139238             0   \n",
      "3     sub-10010                  2        2.335954             0   \n",
      "4     sub-10014                  5        6.512891             0   \n",
      "..          ...                ...             ...           ...   \n",
      "58  sub-10690sp                  9        6.949923             0   \n",
      "59  sub-10691sp                  1       15.595864             0   \n",
      "60  sub-10777sp                 22        5.762411             0   \n",
      "61  sub-10803sp                  2        5.815230             0   \n",
      "62    sub-12042                  0        3.319861             0   \n",
      "\n",
      "    ABS_exclusion  Beh_TrialExclusion  \n",
      "0               4                   1  \n",
      "1               6                   0  \n",
      "2               1                   0  \n",
      "3               0                   0  \n",
      "4               2                   0  \n",
      "..            ...                 ...  \n",
      "58              1                   0  \n",
      "59              5                   0  \n",
      "60              1                   0  \n",
      "61              1                   0  \n",
      "62              0                   0  \n",
      "\n",
      "[63 rows x 6 columns]\n"
     ]
    },
    {
     "name": "stderr",
     "output_type": "stream",
     "text": [
      "/tmp/ipykernel_1266453/1065450899.py:1: FutureWarning: The default value of numeric_only in DataFrameGroupBy.sum is deprecated. In a future version, numeric_only will default to False. Either specify numeric_only or select only columns which should be valid for the function.\n",
      "  results=exclusions_df.groupby(by='sub').sum().reset_index().rename(columns={\"TrialCount_misses\": \"TotalCount_misses\"})\n"
     ]
    }
   ],
   "source": [
    "results=exclusions_df.groupby(by='sub').sum().reset_index().rename(columns={\"TrialCount_misses\": \"TotalCount_misses\"})\n",
    "print(results)\n",
    "results['Beh_TotalExclusion']=results['TotalCount_misses']>81\n",
    "results=results[['sub','TotalCount_misses','Beh_TotalExclusion']]"
   ]
  },
  {
   "cell_type": "code",
   "execution_count": 32,
   "metadata": {},
   "outputs": [],
   "source": [
    "exclusions_df.merge(results,on='sub')\n",
    "exclusions_df.to_csv('../derivatives/exclusions.csv', index=False)"
   ]
  },
  {
   "cell_type": "code",
   "execution_count": null,
   "metadata": {},
   "outputs": [],
   "source": []
  }
 ],
 "metadata": {
  "kernelspec": {
   "display_name": "Python 3 (ipykernel)",
   "language": "python",
   "name": "python3"
  },
  "language_info": {
   "codemirror_mode": {
    "name": "ipython",
    "version": 3
   },
   "file_extension": ".py",
   "mimetype": "text/x-python",
   "name": "python",
   "nbconvert_exporter": "python",
   "pygments_lexer": "ipython3",
   "version": "3.11.3"
  }
 },
 "nbformat": 4,
 "nbformat_minor": 4
}
